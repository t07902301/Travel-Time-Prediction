{
 "metadata": {
  "language_info": {
   "codemirror_mode": {
    "name": "ipython",
    "version": 3
   },
   "file_extension": ".py",
   "mimetype": "text/x-python",
   "name": "python",
   "nbconvert_exporter": "python",
   "pygments_lexer": "ipython3",
   "version": "3.7.2-final"
  },
  "orig_nbformat": 2,
  "kernelspec": {
   "name": "venv_ids",
   "display_name": "Python 3.7.2 64-bit"
  }
 },
 "nbformat": 4,
 "nbformat_minor": 2,
 "cells": [
  {
   "cell_type": "code",
   "execution_count": 4,
   "metadata": {},
   "outputs": [],
   "source": [
    "import numpy\n",
    "from keras.models import load_model"
   ]
  },
  {
   "cell_type": "code",
   "execution_count": 56,
   "metadata": {},
   "outputs": [],
   "source": [
    "c=load_model(r'C:\\Users\\e-wel\\Desktop\\nb_c.h5')\n",
    "c0=load_model(r'C:\\Users\\e-wel\\Documents\\Python Scripts\\DeepPF\\log_2_0\\LSTM\\nb_log_2_c0.h5')\n",
    "c2=load_model(r'C:\\Users\\e-wel\\Desktop\\nb_c2.h5')"
   ]
  },
  {
   "cell_type": "code",
   "execution_count": 57,
   "metadata": {},
   "outputs": [],
   "source": [
    "# ../input/deep-pf-1/test.npy\n",
    "\n",
    "train=numpy.load(r'C:\\Users\\e-wel\\Documents\\Python Scripts\\DeepPF\\log_2\\train.npy',allow_pickle=True).item()\n",
    "test=numpy.load(r'C:\\Users\\e-wel\\Documents\\Python Scripts\\DeepPF\\log_2\\test.npy',allow_pickle=True).item()\n",
    "validate=numpy.load(r'C:\\Users\\e-wel\\Documents\\Python Scripts\\DeepPF\\log_2\\validation.npy',allow_pickle=True).item()\n",
    "\n",
    "dw=numpy.load(r'C:\\Users\\e-wel\\Documents\\Python Scripts\\DeepPF\\day_of_week.npy',allow_pickle=True).item()\n",
    "ts=numpy.load(r'C:\\Users\\e-wel\\Documents\\Python Scripts\\DeepPF\\encoded_time_stamp.npy')"
   ]
  },
  {
   "cell_type": "code",
   "execution_count": 71,
   "metadata": {},
   "outputs": [],
   "source": [
    "seg_max_min={9: [136.44, 69.0],\n",
    " 24: [58.14, 29.0],\n",
    " 256: [90.0, 31.0],\n",
    " 267: [134.46, 63.0],\n",
    " 268: [102.06, 51.0],\n",
    " 277: [136.44, 64.0]}"
   ]
  },
  {
   "cell_type": "code",
   "execution_count": 72,
   "metadata": {},
   "outputs": [],
   "source": [
    "day_records_num=176\n",
    "look_back_window_c=4\n",
    "look_back_window_d=4\n",
    "test_days=7"
   ]
  },
  {
   "cell_type": "code",
   "execution_count": 73,
   "metadata": {},
   "outputs": [],
   "source": [
    "def get_input(target_seg):\n",
    "    train_in_c=[]\n",
    "    train_in_d=[]\n",
    "    train_out_c=[]\n",
    "    test_in_c=[]\n",
    "    test_in_d=[]\n",
    "    test_out_c=[]\n",
    "    validate_in_c=[]\n",
    "    validate_in_d=[]\n",
    "    validate_out_c=[]\n",
    "    target_seg_len=len(target_seg)\n",
    "    for seg in target_seg:#路段key\n",
    "        train_in_c+=( train[seg][0])\n",
    "        train_in_d+=( train[seg][1])\n",
    "        train_out_c+=( train[seg][2])\n",
    "        test_in_c+=(test[seg][0])\n",
    "        test_in_d+=(test[seg][1])\n",
    "        test_out_c+=(test[seg][2])\n",
    "        validate_in_c+=( validate[seg][0])\n",
    "        validate_in_d+=( validate[seg][1])\n",
    "        validate_out_c+=( validate[seg][2])\n",
    "    ##路段0+路段1+....\n",
    "    day_of_week=['0612', '0613', '0614', '0615', '0616','0617', '0618']\n",
    "    # day_of_week=['0609', '0610', '0611', '0612', '0613', '0614', '0615', '0616']\n",
    "    validate_days=len(day_of_week)\n",
    "    dw_validate_0=[]\n",
    "    for i in day_of_week:\n",
    "        dw_validate_0+=[dw[i]]*day_records_num\n",
    "    dw_validate=[]\n",
    "    for i in range(target_seg_len):\n",
    "        dw_validate=numpy.concatenate((dw_validate,dw_validate_0))\n",
    "\n",
    "    day_of_week=['0507','0508', '0509', '0510', '0511', '0512', '0513', '0514', '0515','0516', '0517', '0518', '0519', '0520', '0521', '0522', '0523','0524', '0525', '0526', '0527', '0528', '0529', '0530', '0531', '0602', '0603', '0604']\n",
    "    train_days=len(day_of_week)\n",
    "    dw_train_0=[]\n",
    "    for i in day_of_week:#一个路段\n",
    "        dw_train_0+=[dw[i]]*day_records_num \n",
    "    dw_train=[]\n",
    "    for i in range(target_seg_len):\n",
    "        dw_train=numpy.concatenate((dw_train,dw_train_0))\n",
    "\n",
    "    day_of_week=['0624','0625', '0626', '0627', '0628', '0629', '0630']\n",
    "    test_days=len(day_of_week)\n",
    "    dw_test_0=[]\n",
    "    for i in day_of_week:\n",
    "        dw_test_0+=[dw[i]]*day_records_num\n",
    "    dw_test=[]\n",
    "    for i in range(target_seg_len):\n",
    "        dw_test=numpy.concatenate((dw_test,dw_test_0))\n",
    "\n",
    "    ts_train_0=[]\n",
    "    for i in range(train_days):\n",
    "        ts_train_0=numpy.concatenate((ts_train_0,ts[:day_records_num]))\n",
    "    ts_test_0=[]\n",
    "    for i in range(test_days):\n",
    "        ts_test_0=numpy.concatenate((ts_test_0,ts[:day_records_num]))\n",
    "    ts_validate_0=[]\n",
    "    for i in range(validate_days):\n",
    "        ts_validate_0=numpy.concatenate((ts_validate_0,ts[:day_records_num]))\n",
    "\n",
    "    ts_train=[]\n",
    "    for i in range(target_seg_len):\n",
    "        ts_train=numpy.concatenate((ts_train,ts_train_0))\n",
    "    ts_test=[]\n",
    "    for i in range(target_seg_len):\n",
    "        ts_test=numpy.concatenate((ts_test,ts_test_0))\n",
    "    ts_validate=[]\n",
    "    for i in range(target_seg_len):\n",
    "        ts_validate=numpy.concatenate((ts_validate,ts_validate_0))\n",
    "    train_in_c=numpy.array(train_in_c)\n",
    "    train_in_d=numpy.array(train_in_d)\n",
    "    train_out_c=numpy.array(train_out_c)\n",
    "\n",
    "    test_in_c=numpy.array(test_in_c)\n",
    "    test_in_d=numpy.array(test_in_d)\n",
    "    test_out_c=numpy.array(test_out_c)\n",
    "\n",
    "    validate_in_c=numpy.array(validate_in_c)\n",
    "    validate_in_d=numpy.array(validate_in_d)\n",
    "    validate_out_c=numpy.array(validate_out_c)\n",
    "\n",
    "    train_in_c=train_in_c.reshape(train_in_c.shape[0],look_back_window_c,1)\n",
    "    train_in_d=train_in_d.reshape(train_in_d.shape[0],look_back_window_d,1)\n",
    "    train_out_c=train_out_c.reshape(train_out_c.shape[0],1)\n",
    "\n",
    "    test_in_c=test_in_c.reshape(test_in_c.shape[0],look_back_window_c,1)\n",
    "    test_in_d=test_in_d.reshape(test_in_d.shape[0],look_back_window_d,1)\n",
    "    test_out_c=test_out_c.reshape(test_out_c.shape[0],1)\n",
    "\n",
    "    validate_in_c=validate_in_c.reshape(validate_in_c.shape[0],look_back_window_c,1)\n",
    "    validate_in_d=validate_in_d.reshape(validate_in_d.shape[0],look_back_window_d,1)\n",
    "    validate_out_c=validate_out_c.reshape(validate_out_c.shape[0],1)\n",
    "\n",
    "    ts_train=ts_train.reshape(ts_train.shape[0],1)\n",
    "    ts_test=ts_test.reshape(ts_test.shape[0],1)\n",
    "    ts_validate=ts_validate.reshape(ts_validate.shape[0],1)\n",
    "\n",
    "    dw_test=dw_test.reshape(dw_test.shape[0],1)\n",
    "    dw_train=dw_train.reshape(dw_train.shape[0],1)\n",
    "    dw_validate=dw_validate.reshape(dw_validate.shape[0],1)\n",
    "\n",
    "    ts_train=ts_train.reshape(ts_train.shape[0],1)\n",
    "    ts_test=ts_test.reshape(ts_test.shape[0],1)\n",
    "    ts_validate=ts_validate.reshape(ts_validate.shape[0],1)\n",
    "\n",
    "    dw_test=dw_test.reshape(dw_test.shape[0],1)\n",
    "    dw_train=dw_train.reshape(dw_train.shape[0],1)\n",
    "    dw_validate=dw_validate.reshape(dw_validate.shape[0],1)\n",
    "\n",
    "    model_in=[train_in_c,train_in_d,dw_train,ts_train]\n",
    "    model_out=[train_out_c]\n",
    "    test_model_in=[test_in_c,test_in_d,dw_test,ts_test]\n",
    "    test_model_out=[test_out_c]\n",
    "    validate_model_in=[validate_in_c,validate_in_d,dw_validate,ts_validate]\n",
    "    validate_model_out=[validate_out_c]\n",
    "    return (model_in,model_out,test_model_in,test_model_out,validate_model_in,validate_model_out)"
   ]
  },
  {
   "cell_type": "code",
   "execution_count": null,
   "metadata": {},
   "outputs": [],
   "source": [
    "c=load_model(r'C:\\Users\\e-wel\\Documents\\Python Scripts\\DeepPF\\log_2_0\\LSTM\\nb_log_2_c.h5')\n",
    "c0=load_model(r'C:\\Users\\e-wel\\Documents\\Python Scripts\\DeepPF\\log_2_0\\LSTM\\nb_log_2_c0.h5')\n",
    "c1=load_model(r'C:\\Users\\e-wel\\Documents\\Python Scripts\\DeepPF\\log_2_0\\LSTM\\nb_log_2_c1.h5')\n",
    "# c1=load_model(r'C:\\Users\\e-wel\\Documents\\Python Scripts\\DeepPF\\log_2_0\\三类\\nb_c1.h5')\n",
    "# c2=load_model(r'C:\\Users\\e-wel\\Documents\\Python Scripts\\DeepPF\\log_2_0\\三类\\nb_c2.h5')"
   ]
  },
  {
   "cell_type": "code",
   "execution_count": 74,
   "metadata": {},
   "outputs": [],
   "source": [
    "targets=[9,24,256, 267, 268, 277]\n",
    "model_in,model_out,test_model_in,test_model_out,validate_model_in,validate_model_out=get_input(targets)"
   ]
  },
  {
   "cell_type": "code",
   "execution_count": 75,
   "metadata": {},
   "outputs": [
    {
     "output_type": "stream",
     "name": "stdout",
     "text": [
      "8.549960588347977\n0.09476290077268211\n"
     ]
    }
   ],
   "source": [
    "#cluster中元素对应的index\n",
    "max_arr=numpy.array([ [seg_max_min[seg][0]] for seg in targets])\n",
    "min_arr=numpy.array([[seg_max_min[seg][1]] for seg in targets])\n",
    "bias_arr=max_arr-min_arr#(路段0，路段1,...)\n",
    "# bias_arr=numpy.array([[i] for i in bias_arr])\n",
    "bias_arr=numpy.repeat(bias_arr,test_days*day_records_num,axis=0) #测试集天数*每天记录数\n",
    "# bias_arr=bias_arr.reshape(bias_arr.shape[0],1,1)\n",
    "min_arr=numpy.repeat(min_arr,test_days*day_records_num,axis=0)\n",
    "# min_arr=min_arr.reshape(min_arr.shape[0],1,1)\n",
    "all_pred=c.predict(test_model_in)\n",
    "pred=all_pred*bias_arr+min_arr\n",
    "gt=(test_model_out[0]*bias_arr+min_arr)\n",
    "mae_tmp=numpy.absolute(pred-gt)\n",
    "mape_tmp=mae_tmp/gt\n",
    "print(numpy.mean(mae_tmp))\n",
    "print(numpy.mean(mape_tmp))"
   ]
  },
  {
   "cell_type": "code",
   "execution_count": 77,
   "metadata": {},
   "outputs": [],
   "source": [
    "targets=[9, 277]\n",
    "model_in,model_out,test_model_in,test_model_out,validate_model_in,validate_model_out=get_input(targets)"
   ]
  },
  {
   "cell_type": "code",
   "execution_count": 78,
   "metadata": {},
   "outputs": [
    {
     "output_type": "stream",
     "name": "stdout",
     "text": [
      "9.900016598061637\n0.08775829720101297\n"
     ]
    }
   ],
   "source": [
    "#cluster中元素对应的index\n",
    "max_arr=numpy.array([ [seg_max_min[seg][0]] for seg in targets])\n",
    "min_arr=numpy.array([[seg_max_min[seg][1]] for seg in targets])\n",
    "bias_arr=max_arr-min_arr\n",
    "bias_arr=numpy.repeat(bias_arr,test_days*day_records_num,axis=0) #测试集天数*每天记录数\n",
    "min_arr=numpy.repeat(min_arr,test_days*day_records_num,axis=0)\n",
    "all_pred=c0.predict(test_model_in)\n",
    "pred=all_pred*bias_arr+min_arr\n",
    "gt=(test_model_out[0]*bias_arr+min_arr)\n",
    "mae_0=numpy.absolute(pred-gt)\n",
    "mape_0=mae_0/gt\n",
    "print(numpy.mean(mae_0))\n",
    "print(numpy.mean(mape_0))\n"
   ]
  },
  {
   "cell_type": "code",
   "execution_count": 80,
   "metadata": {},
   "outputs": [],
   "source": [
    "targets=[24,256,267,268]\n",
    "model_in,model_out,test_model_in,test_model_out,validate_model_in,validate_model_out=get_input(targets)"
   ]
  },
  {
   "cell_type": "code",
   "execution_count": 81,
   "metadata": {},
   "outputs": [
    {
     "output_type": "stream",
     "name": "stdout",
     "text": [
      "7.356019445356448\n0.09102352742426494\n"
     ]
    }
   ],
   "source": [
    "#cluster中元素对应的index\n",
    "max_arr=numpy.array([ [seg_max_min[seg][0]] for seg in targets])\n",
    "min_arr=numpy.array([[seg_max_min[seg][1]] for seg in targets])\n",
    "bias_arr=max_arr-min_arr\n",
    "bias_arr=numpy.repeat(bias_arr,test_days*day_records_num,axis=0) #测试集天数*每天记录数\n",
    "min_arr=numpy.repeat(min_arr,test_days*day_records_num,axis=0)\n",
    "all_pred=c1.predict(test_model_in)\n",
    "pred=all_pred*bias_arr+min_arr\n",
    "gt=(test_model_out[0]*bias_arr+min_arr)\n",
    "mae_1=numpy.absolute(pred-gt)\n",
    "mape_1=mae_1/gt\n",
    "print(numpy.mean(mae_1))\n",
    "print(numpy.mean(mape_1))"
   ]
  },
  {
   "cell_type": "code",
   "execution_count": 82,
   "metadata": {},
   "outputs": [
    {
     "output_type": "execute_result",
     "data": {
      "text/plain": [
       "0.0899351173498476"
      ]
     },
     "metadata": {},
     "execution_count": 82
    }
   ],
   "source": [
    "numpy.mean(numpy.concatenate((mape_0,mape_1)))"
   ]
  },
  {
   "cell_type": "code",
   "execution_count": 83,
   "metadata": {},
   "outputs": [],
   "source": [
    "# c0=load_model(r'C:\\Users\\e-wel\\Documents\\Python Scripts\\DeepPF\\log_2_0\\LSTM\\nb_log_2_c0.h5')\n",
    "c1=load_model(r'C:\\Users\\e-wel\\Documents\\Python Scripts\\DeepPF\\log_2_0\\三类\\nb_c1.h5')\n",
    "c2=load_model(r'C:\\Users\\e-wel\\Documents\\Python Scripts\\DeepPF\\log_2_0\\三类\\nb_c2.h5')"
   ]
  },
  {
   "cell_type": "code",
   "execution_count": 85,
   "metadata": {},
   "outputs": [],
   "source": [
    "targets=[267, 268]\n",
    "model_in,model_out,test_model_in,test_model_out,validate_model_in,validate_model_out=get_input(targets)"
   ]
  },
  {
   "cell_type": "code",
   "execution_count": 86,
   "metadata": {},
   "outputs": [
    {
     "output_type": "stream",
     "name": "stdout",
     "text": [
      "7.452996240770323\n0.08226940889351089\n"
     ]
    }
   ],
   "source": [
    "max_arr=numpy.array([ [seg_max_min[seg][0]] for seg in targets])\n",
    "min_arr=numpy.array([[seg_max_min[seg][1]] for seg in targets])\n",
    "bias_arr=max_arr-min_arr\n",
    "bias_arr=numpy.repeat(bias_arr,test_days*day_records_num,axis=0) #测试集天数*每天记录数->每个路段\n",
    "min_arr=numpy.repeat(min_arr,test_days*day_records_num,axis=0)\n",
    "all_pred=c2.predict(test_model_in)\n",
    "pred=all_pred*bias_arr+min_arr\n",
    "gt=(test_model_out[0]*bias_arr+min_arr)\n",
    "mae_2=numpy.absolute(pred-gt)\n",
    "mape_2=mae_2/gt\n",
    "print(numpy.mean(mae_2))\n",
    "print(numpy.mean(mape_2))"
   ]
  },
  {
   "cell_type": "code",
   "execution_count": 87,
   "metadata": {},
   "outputs": [],
   "source": [
    "targets=[24, 256]\n",
    "model_in,model_out,test_model_in,test_model_out,validate_model_in,validate_model_out=get_input(targets)"
   ]
  },
  {
   "cell_type": "code",
   "execution_count": 88,
   "metadata": {},
   "outputs": [
    {
     "output_type": "stream",
     "name": "stdout",
     "text": [
      "8.004498527441813\n0.10885607812087304\n"
     ]
    }
   ],
   "source": [
    "max_arr=numpy.array([ [seg_max_min[seg][0]] for seg in targets])\n",
    "min_arr=numpy.array([[seg_max_min[seg][1]] for seg in targets])\n",
    "bias_arr=max_arr-min_arr\n",
    "bias_arr=numpy.repeat(bias_arr,test_days*day_records_num,axis=0) #测试集天数*每天记录数->每个路段\n",
    "min_arr=numpy.repeat(min_arr,test_days*day_records_num,axis=0)\n",
    "all_pred=c1.predict(test_model_in)\n",
    "pred=all_pred*bias_arr+min_arr\n",
    "gt=(test_model_out[0]*bias_arr+min_arr)\n",
    "mae_1=numpy.absolute(pred-gt)\n",
    "mape_1=mae_1/gt\n",
    "print(numpy.mean(mae_1))\n",
    "print(numpy.mean(mape_1))"
   ]
  },
  {
   "cell_type": "code",
   "execution_count": 89,
   "metadata": {},
   "outputs": [
    {
     "output_type": "execute_result",
     "data": {
      "text/plain": [
       "0.09296126140513229"
      ]
     },
     "metadata": {},
     "execution_count": 89
    }
   ],
   "source": [
    "numpy.mean(numpy.concatenate((mape_0,mape_2,mape_1)))"
   ]
  },
  {
   "cell_type": "code",
   "execution_count": null,
   "metadata": {},
   "outputs": [],
   "source": []
  }
 ]
}