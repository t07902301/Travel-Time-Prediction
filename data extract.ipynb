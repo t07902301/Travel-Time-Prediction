{
 "cells": [
  {
   "cell_type": "code",
   "execution_count": 1,
   "metadata": {},
   "outputs": [],
   "source": [
    "import numpy,csv,os,re"
   ]
  },
  {
   "cell_type": "code",
   "execution_count": null,
   "metadata": {},
   "outputs": [],
   "source": [
    "import csv #导出CSV文件（点位+路段）信息\n",
    "section_dict={}\n",
    "info=[0,2,6,8,24,44,45]\n",
    "with open(r'..\\路段信息.csv','r',errors='ignore',encoding='utf-8-sig') as file:\n",
    "    rows=csv.reader(file)\n",
    "    for index,row in enumerate(rows):\n",
    "        if index>0:\n",
    "            section_id=row[1]\n",
    "            section_dict[section_id]=[row[each] for each in info]\n",
    "numpy.save(r'..\\Python Scripts\\40天统计信息及路段情况\\路段信息.npy',section_dict)"
   ]
  },
  {
   "cell_type": "code",
   "execution_count": null,
   "metadata": {},
   "outputs": [],
   "source": [
    "# #查看天气\n",
    "# rainy_dates=[]\n",
    "# with open(r'C:\\Users\\e-wel\\Desktop\\2018.5.txt','r',errors='ignore',encoding='utf-8') as status_file:\n",
    "#     line_list=status_file.readlines()\n",
    "#     for line in line_list:\n",
    "#         raw_record=line.split(' ')[:2]\n",
    "#         obj=re.search('(\\d*)月(\\d*)日',raw_record[0]).group(1,2)\n",
    "#         date=obj[0]+obj[1]\n",
    "#         if ('大雨' or '中雨') in raw_record[1]:\n",
    "#             rainy_dates.append(date)\n",
    "# print(rainy_dates) "
   ]
  },
  {
   "cell_type": "code",
   "execution_count": null,
   "metadata": {},
   "outputs": [],
   "source": [
    "kakou=numpy.load(r'..\\卡口点位信息.npy',allow_pickle=True).item()"
   ]
  },
  {
   "cell_type": "code",
   "execution_count": null,
   "metadata": {},
   "outputs": [],
   "source": [
    "segment=numpy.load(r'..\\路段信息_简略.npy',allow_pickle=True).item()"
   ]
  },
  {
   "cell_type": "code",
   "execution_count": null,
   "metadata": {},
   "outputs": [],
   "source": [
    "area_dict={}\n",
    "for kk,value in kakou.items():\n",
    "    if value[2] not in area_dict:\n",
    "        area_dict[value[2]]=[]\n",
    "    area_dict[value[2]].append([kk,value[1]])"
   ]
  },
  {
   "cell_type": "code",
   "execution_count": null,
   "metadata": {
    "tags": []
   },
   "outputs": [],
   "source": [
    "matched={}#点位路段匹配\n",
    "for seg,value in segment.items():\n",
    "    dianwei_area=area_dict[value[5]]\n",
    "    location=value[4].split(',')\n",
    "    location=[float(each) for each in location]\n",
    "    weidus=[]\n",
    "    jindus=[]\n",
    "    i=0\n",
    "    while i < len(location)-1:\n",
    "        jindus.append(location[i])\n",
    "        weidus.append(location[i+1])\n",
    "        i+=2\n",
    "    weidu_max=max(weidus)\n",
    "    jindu_max=max(jindus)\n",
    "    weidu_min=min(weidus)\n",
    "    jindu_min=min(jindus)\n",
    "    dianwei_list=[]\n",
    "    for dianwei in dianwei_area:\n",
    "        j,w=dianwei[1]\n",
    "        j=float(j)\n",
    "        w=float(w)\n",
    "        if j<jindu_max and j>jindu_min and w<weidu_max and w>weidu_min:\n",
    "            # matched[dianwei[0]]=seg\n",
    "            dianwei_list.append(dianwei[0])\n",
    "    segment[seg].append(dianwei_list)\n",
    "            "
   ]
  },
  {
   "cell_type": "code",
   "execution_count": null,
   "metadata": {},
   "outputs": [],
   "source": [
    "numpy.save(r'..\\Python Scripts\\60天统计\\点位_to_路段.npy',matched)\n",
    "numpy.save(r'..\\Python Scripts\\60天统计\\区域_to_点位.npy',area_dict)"
   ]
  },
  {
   "cell_type": "code",
   "execution_count": null,
   "metadata": {},
   "outputs": [],
   "source": [
    "for seg,value in matched.items():\n",
    "    if len(value)>1:\n",
    "        print(seg,len(value))"
   ]
  },
  {
   "cell_type": "code",
   "execution_count": null,
   "metadata": {},
   "outputs": [],
   "source": [
    "time_stamp=numpy.load(r'..\\Python Scripts\\40天原始记录\\time_stamp.npy',allow_pickle=True).item()\n",
    "section_dict=numpy.load(r'..\\Python Scripts\\60天统计\\路段信息.npy',allow_pickle=True).item()\n",
    "matched=numpy.load(r'..\\Python Scripts\\60天统计\\点位_to_路段.npy',allow_pickle=True).item()"
   ]
  },
  {
   "cell_type": "code",
   "execution_count": null,
   "metadata": {},
   "outputs": [],
   "source": [
    "# 导出旅行时间记录\n",
    "def dump_out(date,txt_name):\n",
    "    '''\n",
    "    date:日期，txt_name:原始数据文件名称\n",
    "    '''\n",
    "    save_root=r'..\\Python Scripts\\5-6月记录'\n",
    "    date_dict={}#section_id:{timestamp_0:value}\n",
    "    with open(r'..\\人工智慧\\交通数据\\2018.08-09卡口状态数据\\{}'.format(txt_name),'r',errors='ignore',encoding='utf-8') as status_file:\n",
    "        line_list=status_file.readlines()\n",
    "        for line in line_list:\n",
    "            raw_record=line.split(',')\n",
    "            section_id=int(section_dict[raw_record[1]][0])\n",
    "            if section_id not in date_dict:\n",
    "                date_dict[section_id]=time_stamp.copy()\n",
    "            time_stamp_str=re.search('(\\d*:\\d*):\\d*',raw_record[4]).group(1)\n",
    "            hour=int(time_stamp_str[0:2])\n",
    "            if hour<23 and hour>7:#选择所要研究的时间段\n",
    "                date_dict[section_id][time_stamp_str]=raw_record[3]\n",
    "    save_path=os.path.join(save_root,date,date+'_raw_data.npy')\n",
    "    if not os.path.exists(os.path.dirname(save_path)):\n",
    "        os.makedirs(os.path.dirname(save_path))\n",
    "    numpy.save(save_path,date_dict)        \n"
   ]
  },
  {
   "cell_type": "code",
   "execution_count": null,
   "metadata": {},
   "outputs": [],
   "source": [
    "# 导出流量记录\n",
    "def dump_out_flow(date,txt_name):\n",
    "    '''\n",
    "    date:日期，txt_name:原始数据文件名称\n",
    "    '''\n",
    "    save_root=r'C:\\Users\\e-wel\\Documents\\Python Scripts\\5-6月记录'\n",
    "    date_dict={}#section_id:{timestamp_0:value}\n",
    "    with open(r'C:\\Users\\e-wel\\Documents\\人工智慧\\交通数据\\2018.08-09卡口流量数据\\5min\\{}'.format(txt_name),'r',errors='ignore',encoding='utf-8') as status_file:\n",
    "        line_list=status_file.readlines()\n",
    "        for line in line_list:\n",
    "            raw_record=line.split(',')\n",
    "            dianwei_id=raw_record[0]\n",
    "            if dianwei_id not in matched:\n",
    "                continue\n",
    "            section_id=matched[dianwei_id]\n",
    "            if section_id not in date_dict:\n",
    "                date_dict[section_id]={}\n",
    "            time_stamp_str=re.search('(\\d*:\\d*):\\d*',raw_record[5]).group(1)\n",
    "            hour=int(time_stamp_str[0:2])\n",
    "            if hour<23 and hour>7:\n",
    "                if time_stamp_str not in date_dict[section_id]:\n",
    "                    date_dict[section_id][time_stamp_str]=[[],[]]\n",
    "                date_dict[section_id][time_stamp_str][0].append(raw_record[4])\n",
    "                date_dict[section_id][time_stamp_str][1].append(raw_record[2])\n",
    "    save_path=os.path.join(save_root,date,date+'_flow.npy')\n",
    "    if not os.path.exists(os.path.dirname(save_path)):\n",
    "        os.makedirs(os.path.dirname(save_path))\n",
    "    numpy.save(save_path,date_dict)        "
   ]
  },
  {
   "cell_type": "code",
   "execution_count": null,
   "metadata": {},
   "outputs": [],
   "source": [
    "dump_out('0603','SECTION_STATUS_COMPUTE_20180603_033229.txt')#使用函数的示例"
   ]
  },
  {
   "cell_type": "code",
   "execution_count": null,
   "metadata": {},
   "outputs": [],
   "source": [
    "# 从原始交通记录中导出目标格式下的数据\n",
    "for file in os.listdir(r'..\\人工智慧\\交通数据\\2018.08-09卡口流量数据\\5min')[1:]:\n",
    "    obj=re.search('2018(\\d*)',file)\n",
    "    if obj is not None:\n",
    "        date=obj.group(1)\n",
    "        dump_out_flow(date,file)\n",
    "        print(date)"
   ]
  },
  {
   "cell_type": "code",
   "execution_count": null,
   "metadata": {},
   "outputs": [],
   "source": [
    "d1=numpy.load('导出数据.npy',allow_pickle=True).item()\n",
    "new_dict={}\n",
    "for seg,value in d1.items():\n",
    "    new_dict[seg]=[]\n",
    "    for day_record in value:\n",
    "        for index in range(900):\n",
    "            if day_record[index]=='':#将缺失值用0补充\n",
    "                day_record[index]=0\n",
    "            else:\n",
    "                day_record[index]=int(day_record[index])#如果是用用整数的形式导出原始记录，此步可以忽略\n",
    "        new_dict[seg].append(day_record)"
   ]
  },
  {
   "cell_type": "code",
   "execution_count": 5,
   "metadata": {},
   "outputs": [],
   "source": [
    "min_tt=numpy.load(r'..\\Python Scripts\\40天统计信息及路段情况\\min_travel_time.npy',allow_pickle=True).item()"
   ]
  },
  {
   "cell_type": "code",
   "execution_count": null,
   "metadata": {
    "tags": []
   },
   "outputs": [],
   "source": [
    "# 用上一时间点的值填补当下的缺失值\n",
    "for seg,records in new_dict.items():\n",
    "    for day_index,day in enumerate(records):\n",
    "        for index,each in enumerate(day):\n",
    "            if each==0:\n",
    "                if index==0:#如果一天中第一个时间点的值缺失，用该路段的最短旅行时间填补\n",
    "                    day[0]=min_tt[str(seg)]\n",
    "                else:\n",
    "                    day[index]=day[index-1]\n",
    "        records[day_index]=day\n",
    "    new_dict[seg]=records "
   ]
  },
  {
   "cell_type": "code",
   "execution_count": 78,
   "metadata": {},
   "outputs": [],
   "source": [
    "#整合为5分钟间隔的记录\n",
    "for seg,records in new_dict.items():\n",
    "    for day_index,day in enumerate(records):\n",
    "        index=0\n",
    "        new_day=[]\n",
    "        while index<900:\n",
    "            new_day.append(numpy.around(numpy.mean(day[index:index+5]),2))\n",
    "            index+=5\n",
    "        records[day_index]=new_day\n",
    "    new_dict[seg]=records\n"
   ]
  }
 ],
 "metadata": {
  "kernelspec": {
   "name": "python3",
   "display_name": "Python 3.7.2 64-bit",
   "metadata": {
    "interpreter": {
     "hash": "be0b56fde7ab4dd5a7b857b05c420f1624be72fede588761e7b5d962331e4a2a"
    }
   }
  },
  "language_info": {
   "codemirror_mode": {
    "name": "ipython",
    "version": 3
   },
   "file_extension": ".py",
   "mimetype": "text/x-python",
   "name": "python",
   "nbconvert_exporter": "python",
   "pygments_lexer": "ipython3",
   "version": "3.7.2-final"
  }
 },
 "nbformat": 4,
 "nbformat_minor": 4
}