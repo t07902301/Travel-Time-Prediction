{
 "cells": [
  {
   "cell_type": "code",
   "execution_count": 1,
   "metadata": {},
   "outputs": [],
   "source": [
    "import numpy,csv,os,re"
   ]
  },
  {
   "cell_type": "code",
   "execution_count": null,
   "metadata": {},
   "outputs": [],
   "source": [
    "import csv #导出CSV文件（点位+路段）信息\n",
    "section_dict={}\n",
    "info=[0,2,6,8,24,44,45]\n",
    "with open(r'C:\\Users\\e-wel\\Documents\\人工智慧\\交通数据\\路段信息.csv','r',errors='ignore',encoding='utf-8-sig') as file:\n",
    "    rows=csv.reader(file)\n",
    "    for index,row in enumerate(rows):\n",
    "        if index>0:\n",
    "            section_id=row[1]\n",
    "            section_dict[section_id]=[row[each] for each in info]\n",
    "numpy.save(r'C:\\Users\\e-wel\\Documents\\Python Scripts\\40天统计信息及路段情况\\路段信息.npy',section_dict)"
   ]
  },
  {
   "cell_type": "code",
   "execution_count": null,
   "metadata": {},
   "outputs": [],
   "source": [
    "rainy_dates=[]\n",
    "with open(r'C:\\Users\\e-wel\\Desktop\\2018.5.txt','r',errors='ignore',encoding='utf-8') as status_file:\n",
    "    line_list=status_file.readlines()\n",
    "    for line in line_list:\n",
    "        raw_record=line.split(' ')[:2]\n",
    "        obj=re.search('(\\d*)月(\\d*)日',raw_record[0]).group(1,2)\n",
    "        date=obj[0]+obj[1]\n",
    "        if ('大雨' or '中雨') in raw_record[1]:\n",
    "            rainy_dates.append(date)\n",
    "\n",
    "print(rainy_dates) "
   ]
  },
  {
   "cell_type": "code",
   "execution_count": null,
   "metadata": {},
   "outputs": [],
   "source": [
    "kakou=numpy.load(r'C:\\Users\\e-wel\\Documents\\Python Scripts\\40天统计信息及路段情况\\卡口点位信息.npy',allow_pickle=True).item()"
   ]
  },
  {
   "cell_type": "code",
   "execution_count": null,
   "metadata": {},
   "outputs": [],
   "source": [
    "area_dict={}\n",
    "for kk,value in kakou.items():\n",
    "    if value[2] not in area_dict:\n",
    "        area_dict[value[2]]=[]\n",
    "    area_dict[value[2]].append([kk,value[1]])"
   ]
  },
  {
   "cell_type": "code",
   "execution_count": null,
   "metadata": {
    "tags": []
   },
   "outputs": [],
   "source": [
    "matched={}#点位路段匹配\n",
    "for seg,value in segment.items():\n",
    "# value =segment['35060039']\n",
    "    dianwei_area=area_dict[value[5]]\n",
    "    location=value[4].split(',')\n",
    "    location=[float(each) for each in location]\n",
    "    weidus=[]\n",
    "    jindus=[]\n",
    "    i=0\n",
    "    while i < len(location)-1:\n",
    "        jindus.append(location[i])\n",
    "        weidus.append(location[i+1])\n",
    "        i+=2\n",
    "    weidu_max=max(weidus)\n",
    "    jindu_max=max(jindus)\n",
    "    weidu_min=min(weidus)\n",
    "    jindu_min=min(jindus)\n",
    "    dianwei_list=[]\n",
    "    for dianwei in dianwei_area:\n",
    "        j,w=dianwei[1]\n",
    "        j=float(j)\n",
    "        w=float(w)\n",
    "        if j<jindu_max and j>jindu_min and w<weidu_max and w>weidu_min:\n",
    "            # matched[dianwei[0]]=seg\n",
    "            dianwei_list.append(dianwei[0])\n",
    "    segment[seg].append(dianwei_list)\n",
    "            "
   ]
  },
  {
   "cell_type": "code",
   "execution_count": null,
   "metadata": {},
   "outputs": [],
   "source": [
    "numpy.save(r'C:\\Users\\e-wel\\Documents\\Python Scripts\\60天统计\\点位_to_路段.npy',matched)"
   ]
  },
  {
   "cell_type": "code",
   "execution_count": null,
   "metadata": {},
   "outputs": [],
   "source": [
    "numpy.save(r'C:\\Users\\e-wel\\Documents\\Python Scripts\\60天统计\\区域_to_点位.npy',area_dict)"
   ]
  },
  {
   "cell_type": "code",
   "execution_count": null,
   "metadata": {},
   "outputs": [],
   "source": [
    "for seg,value in matched.items():\n",
    "    if len(value)>1:\n",
    "        print(seg,len(value))"
   ]
  },
  {
   "cell_type": "code",
   "execution_count": null,
   "metadata": {},
   "outputs": [],
   "source": [
    "time_stamp=numpy.load(r'C:\\Users\\e-wel\\Documents\\Python Scripts\\40天原始记录\\time_stamp.npy',allow_pickle=True).item()"
   ]
  },
  {
   "cell_type": "code",
   "execution_count": null,
   "metadata": {},
   "outputs": [],
   "source": [
    "section_dict=numpy.load(r'C:\\Users\\e-wel\\Documents\\Python Scripts\\60天统计\\路段信息.npy',allow_pickle=True).item()"
   ]
  },
  {
   "cell_type": "code",
   "execution_count": null,
   "metadata": {},
   "outputs": [],
   "source": [
    "matched=numpy.load(r'C:\\Users\\e-wel\\Documents\\Python Scripts\\60天统计\\点位_to_路段.npy',allow_pickle=True).item()"
   ]
  },
  {
   "cell_type": "code",
   "execution_count": null,
   "metadata": {},
   "outputs": [],
   "source": [
    "def dump_out(date,txt_name):\n",
    "    save_root=r'C:\\Users\\e-wel\\Documents\\Python Scripts\\5-6月记录'\n",
    "    date_dict={}#section_id:{timestamp_0:value}\n",
    "    with open(r'C:\\Users\\e-wel\\Documents\\人工智慧\\交通数据\\2018.08-09卡口状态数据\\{}'.format(txt_name),'r',errors='ignore',encoding='utf-8') as status_file:\n",
    "        line_list=status_file.readlines()\n",
    "        for line in line_list:\n",
    "            raw_record=line.split(',')\n",
    "            section_id=int(section_dict[raw_record[1]][0])\n",
    "            if section_id not in date_dict:\n",
    "                date_dict[section_id]=time_stamp.copy()\n",
    "            time_stamp_str=re.search('(\\d*:\\d*):\\d*',raw_record[4]).group(1)\n",
    "            hour=int(time_stamp_str[0:2])\n",
    "            if hour<23 and hour>7:\n",
    "                date_dict[section_id][time_stamp_str]=raw_record[3]\n",
    "    save_path=os.path.join(save_root,date,date+'_raw_data.npy')\n",
    "    if not os.path.exists(os.path.dirname(save_path)):\n",
    "        os.makedirs(os.path.dirname(save_path))\n",
    "    numpy.save(save_path,date_dict)        \n"
   ]
  },
  {
   "cell_type": "code",
   "execution_count": null,
   "metadata": {},
   "outputs": [],
   "source": [
    "def dump_out_flow(date,txt_name):\n",
    "    save_root=r'C:\\Users\\e-wel\\Documents\\Python Scripts\\5-6月记录'\n",
    "    date_dict={}#section_id:{timestamp_0:value}\n",
    "    with open(r'C:\\Users\\e-wel\\Documents\\人工智慧\\交通数据\\2018.08-09卡口流量数据\\5min\\{}'.format(txt_name),'r',errors='ignore',encoding='utf-8') as status_file:\n",
    "        line_list=status_file.readlines()\n",
    "        for line in line_list:\n",
    "            raw_record=line.split(',')\n",
    "            dianwei_id=raw_record[0]\n",
    "            if dianwei_id not in matched:\n",
    "                continue\n",
    "            section_id=matched[dianwei_id]\n",
    "            if section_id not in date_dict:\n",
    "                date_dict[section_id]={}\n",
    "            time_stamp_str=re.search('(\\d*:\\d*):\\d*',raw_record[5]).group(1)\n",
    "            hour=int(time_stamp_str[0:2])\n",
    "            if hour<23 and hour>7:\n",
    "                if time_stamp_str not in date_dict[section_id]:\n",
    "                    date_dict[section_id][time_stamp_str]=[[],[]]\n",
    "                date_dict[section_id][time_stamp_str][0].append(raw_record[4])\n",
    "                date_dict[section_id][time_stamp_str][1].append(raw_record[2])\n",
    "    save_path=os.path.join(save_root,date,date+'_flow.npy')\n",
    "    if not os.path.exists(os.path.dirname(save_path)):\n",
    "        os.makedirs(os.path.dirname(save_path))\n",
    "    numpy.save(save_path,date_dict)        \n"
   ]
  },
  {
   "cell_type": "code",
   "execution_count": null,
   "metadata": {},
   "outputs": [],
   "source": [
    "dump_out('0603','SECTION_STATUS_COMPUTE_20180603_033229.txt')"
   ]
  },
  {
   "cell_type": "code",
   "execution_count": null,
   "metadata": {},
   "outputs": [],
   "source": [
    "for file in os.listdir(r'C:\\Users\\e-wel\\Documents\\人工智慧\\交通数据\\2018.08-09卡口流量数据\\5min')[1:]:\n",
    "    obj=re.search('2018(\\d*)',file)\n",
    "    if obj is not None:\n",
    "        date=obj.group(1)\n",
    "        dump_out_flow(date,file)\n",
    "        print(date)"
   ]
  },
  {
   "cell_type": "code",
   "execution_count": null,
   "metadata": {},
   "outputs": [],
   "source": [
    "new_dates=['0501','0502','0503','0504','0506','0505','0507','0513','0514','0520','0521','0604','0527','0528','0610','0611','0617','0618','0624','0625']"
   ]
  },
  {
   "cell_type": "code",
   "execution_count": null,
   "metadata": {},
   "outputs": [],
   "source": [
    "save_root=r'C:\\Users\\e-wel\\Documents\\Python Scripts\\5-6月记录'\n",
    "for date in new_dates:\n",
    "    save_path=os.path.join(save_root,date,date+'_raw_data.npy')\n",
    "    # new_dict={}\n",
    "    old_dict=numpy.load(save_path,allow_pickle=True).item()\n",
    "    for key,value in old_dict.items():\n",
    "        ts_copy=time_stamp.copy()\n",
    "        ts_copy.update(value)\n",
    "        old_dict[key]=ts_copy\n",
    "    numpy.save(save_path,old_dict)\n",
    "    print(date)\n"
   ]
  },
  {
   "cell_type": "code",
   "execution_count": null,
   "metadata": {},
   "outputs": [],
   "source": [
    "save_root=r'C:\\Users\\e-wel\\Documents\\Python Scripts\\5-6月记录'\n",
    "segment_dict={}\n",
    "for date in new_dates:\n",
    "    save_path=os.path.join(save_root,date,date+'_raw_data.npy')\n",
    "    old_dict=numpy.load(save_path,allow_pickle=True).item()\n",
    "    for seg,date_record in old_dict.items():\n",
    "        if seg not in segment_dict:\n",
    "            segment_dict[seg]=[]\n",
    "        segment_dict[seg].append(list(date_record.values()))\n",
    "numpy.save('补充20天原始记录汇总.npy',segment_dict)"
   ]
  },
  {
   "cell_type": "code",
   "execution_count": null,
   "metadata": {},
   "outputs": [],
   "source": [
    "d1=numpy.load('补充20天原始记录汇总.npy',allow_pickle=True).item()\n",
    "new_dict={}\n",
    "for seg,value in d1.items():\n",
    "    new_dict[seg]=[]\n",
    "    for day_record in value:\n",
    "        for index in range(900):\n",
    "            if day_record[index]=='':\n",
    "                day_record[index]=0\n",
    "            else:\n",
    "                day_record[index]=int(day_record[index])\n",
    "        new_dict[seg].append(day_record)"
   ]
  },
  {
   "cell_type": "code",
   "execution_count": null,
   "metadata": {},
   "outputs": [],
   "source": [
    "numpy.save(r'C:\\Users\\e-wel\\Documents\\Python Scripts\\补充20天统计\\补充20天记录汇总_整数.npy',new_dict)"
   ]
  },
  {
   "cell_type": "code",
   "execution_count": null,
   "metadata": {},
   "outputs": [],
   "source": [
    "new_dict=numpy.load(r'C:\\Users\\e-wel\\Documents\\Python Scripts\\补充20天统计\\补充20天记录汇总_整数.npy',allow_pickle=True).item()"
   ]
  },
  {
   "cell_type": "code",
   "execution_count": 5,
   "metadata": {},
   "outputs": [],
   "source": [
    "min_tt=numpy.load(r'C:\\Users\\e-wel\\Documents\\Python Scripts\\40天统计信息及路段情况\\min_travel_time.npy',allow_pickle=True).item()"
   ]
  },
  {
   "cell_type": "code",
   "execution_count": null,
   "metadata": {},
   "outputs": [],
   "source": [
    "type(min_tt['1'])"
   ]
  },
  {
   "cell_type": "code",
   "execution_count": null,
   "metadata": {
    "tags": []
   },
   "outputs": [],
   "source": [
    "for seg,records in new_dict.items():\n",
    "    for day_index,day in enumerate(records):\n",
    "        for index,each in enumerate(day):\n",
    "            if each==0:\n",
    "                if index==0:\n",
    "                    day[0]=min_tt[str(seg)]\n",
    "                else:\n",
    "                    day[index]=day[index-1]\n",
    "        records[day_index]=day\n",
    "    new_dict[seg]=records "
   ]
  },
  {
   "cell_type": "code",
   "execution_count": null,
   "metadata": {},
   "outputs": [],
   "source": [
    "numpy.save(r'C:\\Users\\e-wel\\Documents\\Python Scripts\\补充20天统计\\补充_padding.npy',new_dict)"
   ]
  },
  {
   "cell_type": "code",
   "execution_count": 77,
   "metadata": {},
   "outputs": [],
   "source": [
    "new_dict=numpy.load(r'C:\\Users\\e-wel\\Documents\\Python Scripts\\补充20天统计\\补充_no_0.npy',allow_pickle=True).item()"
   ]
  },
  {
   "cell_type": "code",
   "execution_count": 78,
   "metadata": {},
   "outputs": [],
   "source": [
    "for seg,records in new_dict.items():\n",
    "    for day_index,day in enumerate(records):\n",
    "        index=0\n",
    "        new_day=[]\n",
    "        while index<900:\n",
    "            new_day.append(numpy.around(numpy.mean(day[index:index+5]),2))\n",
    "            index+=5\n",
    "        records[day_index]=new_day\n",
    "    new_dict[seg]=records\n"
   ]
  },
  {
   "cell_type": "code",
   "execution_count": 80,
   "metadata": {},
   "outputs": [],
   "source": [
    "numpy.save(r'C:\\Users\\e-wel\\Documents\\Python Scripts\\补充20天统计\\补充_5min.npy',new_dict)"
   ]
  },
  {
   "cell_type": "code",
   "execution_count": 15,
   "metadata": {},
   "outputs": [],
   "source": [
    "old_dict=numpy.load(r'C:\\Users\\e-wel\\Documents\\Python Scripts\\40天原始记录\\39_days_86seg_no_0.npy',allow_pickle=True).item()\n",
    "# test.keys()"
   ]
  },
  {
   "cell_type": "code",
   "execution_count": 19,
   "metadata": {},
   "outputs": [
    {
     "output_type": "execute_result",
     "data": {
      "text/plain": [
       "40"
      ]
     },
     "metadata": {},
     "execution_count": 19
    }
   ],
   "source": [
    "len(old_dict[5])"
   ]
  },
  {
   "cell_type": "code",
   "execution_count": 2,
   "metadata": {},
   "outputs": [],
   "source": [
    "single_dict=numpy.load(r'C:\\Users\\e-wel\\Documents\\Python Scripts\\5-6月记录\\0603\\0603_raw_data.npy',allow_pickle=True).item()"
   ]
  },
  {
   "cell_type": "code",
   "execution_count": 3,
   "metadata": {},
   "outputs": [],
   "source": [
    "new_single_dict={} # str->int,''->0\n",
    "for seg,value in single_dict.items():\n",
    "    day_record=list(value.values())\n",
    "    for index in range(900):\n",
    "        if day_record[index]=='':\n",
    "            day_record[index]=0\n",
    "        else:\n",
    "            day_record[index]=int(day_record[index])\n",
    "    new_single_dict[seg]=(day_record)"
   ]
  },
  {
   "cell_type": "code",
   "execution_count": 6,
   "metadata": {},
   "outputs": [],
   "source": [
    "for seg,day in new_single_dict.items():#eliminate 0\n",
    "    for index,each in enumerate(day):\n",
    "        if each==0:\n",
    "            if index==0:\n",
    "                day[0]=min_tt[str(seg)]\n",
    "            else:\n",
    "                day[index]=day[index-1]\n",
    "    new_single_dict[seg]=day "
   ]
  },
  {
   "cell_type": "code",
   "execution_count": 7,
   "metadata": {},
   "outputs": [
    {
     "output_type": "execute_result",
     "data": {
      "text/plain": [
       "0"
      ]
     },
     "metadata": {},
     "execution_count": 7
    }
   ],
   "source": [
    "new_single_arr=list(new_single_dict.values())\n",
    "new_single_arr=numpy.array(new_single_arr)\n",
    "numpy.sum(numpy.where(new_single_arr==0,1,0))"
   ]
  },
  {
   "cell_type": "code",
   "execution_count": 8,
   "metadata": {},
   "outputs": [
    {
     "output_type": "execute_result",
     "data": {
      "text/plain": [
       "(422, 900)"
      ]
     },
     "metadata": {},
     "execution_count": 8
    }
   ],
   "source": [
    "new_single_arr.shape"
   ]
  },
  {
   "cell_type": "code",
   "execution_count": 18,
   "metadata": {},
   "outputs": [],
   "source": [
    "for seg,old_records in old_dict.items():\n",
    "    new_records=old_records[:19]+[new_single_dict[seg]]+old_records[19:]\n",
    "    old_dict[seg]=new_records"
   ]
  },
  {
   "cell_type": "code",
   "execution_count": 20,
   "metadata": {},
   "outputs": [],
   "source": [
    "numpy.save(r'C:\\Users\\e-wel\\Documents\\Python Scripts\\40天原始记录\\40_days_86seg_no_0.npy',old_dict)"
   ]
  },
  {
   "cell_type": "code",
   "execution_count": 21,
   "metadata": {},
   "outputs": [],
   "source": [
    "new_dict={}\n",
    "for seg,day in new_single_dict.items(): # 5min slot in 0603 raw_data\n",
    "    index=0\n",
    "    new_day=[]\n",
    "    while index<900:\n",
    "        new_day.append(numpy.around(numpy.mean(day[index:index+5]),2))\n",
    "        index+=5\n",
    "    new_dict[seg]=new_day"
   ]
  },
  {
   "cell_type": "code",
   "execution_count": 23,
   "metadata": {},
   "outputs": [],
   "source": [
    "old_dict=numpy.load(r'C:\\Users\\e-wel\\Documents\\Python Scripts\\40天原始记录\\39_days_86seg_no_0_5m.npy',allow_pickle=True).item()"
   ]
  },
  {
   "cell_type": "code",
   "execution_count": 24,
   "metadata": {},
   "outputs": [],
   "source": [
    "for seg,old_records in old_dict.items():# add 0603\n",
    "    new_records=old_records[:19]+[new_dict[seg]]+old_records[19:]\n",
    "    old_dict[seg]=new_records"
   ]
  },
  {
   "cell_type": "code",
   "execution_count": 34,
   "metadata": {},
   "outputs": [],
   "source": [
    "numpy.save(r'C:\\Users\\e-wel\\Documents\\Python Scripts\\40天原始记录\\40_days_86seg_no_0_5m.npy',old_dict)"
   ]
  },
  {
   "cell_type": "code",
   "execution_count": 123,
   "metadata": {},
   "outputs": [],
   "source": [
    "old_dict=numpy.load(r'C:\\Users\\e-wel\\Documents\\Python Scripts\\40天原始记录\\40_days_86seg_no_0_5m.npy',allow_pickle=True).item()"
   ]
  },
  {
   "cell_type": "code",
   "execution_count": 81,
   "metadata": {},
   "outputs": [],
   "source": [
    "new_dict=numpy.load(r'C:\\Users\\e-wel\\Documents\\Python Scripts\\补充20天统计\\补充_5min.npy',allow_pickle=True).item()"
   ]
  },
  {
   "cell_type": "code",
   "execution_count": 124,
   "metadata": {},
   "outputs": [],
   "source": [
    "for seg,old_records in old_dict.items(): #0501-0507\n",
    "    new_records=new_dict[seg][:7]+old_records\n",
    "    old_dict[seg]=new_records"
   ]
  },
  {
   "cell_type": "code",
   "execution_count": null,
   "metadata": {},
   "outputs": [],
   "source": [
    "len(old_dict[5]),len(old_dict[5][0]),len(new_dict[5]),len(new_dict[5][0])"
   ]
  },
  {
   "cell_type": "code",
   "execution_count": 125,
   "metadata": {},
   "outputs": [],
   "source": [
    "for seg,old_records in old_dict.items():#add 0604\n",
    "    new_records=old_records+[new_dict[seg][11]]\n",
    "    old_dict[seg]=new_records"
   ]
  },
  {
   "cell_type": "code",
   "execution_count": 102,
   "metadata": {},
   "outputs": [
    {
     "output_type": "execute_result",
     "data": {
      "text/plain": [
       "(48, 180, 20, 180)"
      ]
     },
     "metadata": {},
     "execution_count": 102
    }
   ],
   "source": [
    "len(old_dict[5]),len(old_dict[5][0]),len(new_dict[5]),len(new_dict[5][0])"
   ]
  },
  {
   "cell_type": "code",
   "execution_count": 126,
   "metadata": {},
   "outputs": [
    {
     "output_type": "execute_result",
     "data": {
      "text/plain": [
       "180"
      ]
     },
     "metadata": {},
     "execution_count": 126
    }
   ],
   "source": [
    "len(old_dict[seg][-1])\n"
   ]
  },
  {
   "cell_type": "code",
   "execution_count": 127,
   "metadata": {},
   "outputs": [],
   "source": [
    "\n",
    "for seg,old_records in old_dict.items():\n",
    "    new_records=old_records[:12]+new_dict[seg][7:9] #'0513','0514'\n",
    "    new_records+=old_records[12:17]+new_dict[seg][9:11] #'0520','0521'\n",
    "    new_records+=old_records[17:22]+new_dict[seg][12:14] #'0527','0528'\n",
    "    new_records+=old_records[22:33]+new_dict[seg][14:16] #'0610','0611'\n",
    "    new_records+=old_records[33:38]+new_dict[seg][16:18] #'0617','0618'\n",
    "    new_records+=old_records[38:43]+new_dict[seg][18:20] #'0624','0625'\n",
    "    new_records+=old_records[43:48]\n",
    "    old_dict[seg]=new_records"
   ]
  },
  {
   "cell_type": "code",
   "execution_count": 106,
   "metadata": {},
   "outputs": [
    {
     "output_type": "execute_result",
     "data": {
      "text/plain": [
       "(60, 180, 20, 180)"
      ]
     },
     "metadata": {},
     "execution_count": 106
    }
   ],
   "source": [
    "len(old_dict[9]),len(old_dict[9][0]),len(new_dict[5]),len(new_dict[5][0])"
   ]
  },
  {
   "cell_type": "code",
   "execution_count": 105,
   "metadata": {},
   "outputs": [
    {
     "output_type": "execute_result",
     "data": {
      "text/plain": [
       "dict_keys([9, 24, 39, 40, 41, 42, 43, 44, 45, 47, 60, 83, 106, 107, 111, 112, 117, 118, 124, 138, 139, 150, 152, 153, 167, 168, 185, 186, 192, 193, 212, 213, 214, 224, 228, 246, 256, 267, 268, 272, 277, 316, 385, 1, 2, 3, 5, 23, 32, 33, 34, 37, 38, 46, 51, 52, 53, 54, 55, 56, 57, 58, 59, 71, 72, 101, 104, 137, 148, 166, 178, 187, 188, 217, 220, 221, 225, 257, 260, 264, 265, 297, 299, 300, 311, 314])"
      ]
     },
     "metadata": {},
     "execution_count": 105
    }
   ],
   "source": [
    "old_dict.keys()"
   ]
  },
  {
   "cell_type": "code",
   "execution_count": 128,
   "metadata": {
    "tags": []
   },
   "outputs": [],
   "source": [
    "for seg,value in old_dict.items():#检查合并后的维度\n",
    "    for index,each in enumerate(value):\n",
    "        try:\n",
    "            if len(each)!=180:\n",
    "                print(seg,index)\n",
    "        except:\n",
    "            print(seg,index)"
   ]
  },
  {
   "cell_type": "code",
   "execution_count": 129,
   "metadata": {},
   "outputs": [
    {
     "output_type": "execute_result",
     "data": {
      "text/plain": [
       "(86, 60, 180)"
      ]
     },
     "metadata": {},
     "execution_count": 129
    }
   ],
   "source": [
    "old_arr=list(old_dict.values())\n",
    "old_arr=numpy.array(old_arr)\n",
    "# numpy.sum(numpy.where(old_arr==0,1,0))\n",
    "old_arr.shape"
   ]
  },
  {
   "cell_type": "code",
   "execution_count": 130,
   "metadata": {},
   "outputs": [],
   "source": [
    "numpy.save(r'C:\\Users\\e-wel\\Documents\\Python Scripts\\60天统计\\60天_5min.npy',old_dict)"
   ]
  },
  {
   "cell_type": "code",
   "execution_count": 131,
   "metadata": {},
   "outputs": [
    {
     "output_type": "execute_result",
     "data": {
      "text/plain": [
       "0"
      ]
     },
     "metadata": {},
     "execution_count": 131
    }
   ],
   "source": [
    "numpy.sum(numpy.where(old_arr==0,1,0))"
   ]
  }
 ],
 "metadata": {
  "kernelspec": {
   "name": "python3",
   "display_name": "Python 3.7.2 64-bit",
   "metadata": {
    "interpreter": {
     "hash": "be0b56fde7ab4dd5a7b857b05c420f1624be72fede588761e7b5d962331e4a2a"
    }
   }
  },
  "language_info": {
   "codemirror_mode": {
    "name": "ipython",
    "version": 3
   },
   "file_extension": ".py",
   "mimetype": "text/x-python",
   "name": "python",
   "nbconvert_exporter": "python",
   "pygments_lexer": "ipython3",
   "version": "3.7.2-final"
  }
 },
 "nbformat": 4,
 "nbformat_minor": 4
}