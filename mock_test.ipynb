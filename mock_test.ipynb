{
 "metadata": {
  "language_info": {
   "codemirror_mode": {
    "name": "ipython",
    "version": 3
   },
   "file_extension": ".py",
   "mimetype": "text/x-python",
   "name": "python",
   "nbconvert_exporter": "python",
   "pygments_lexer": "ipython3",
   "version": "3.7.2-final"
  },
  "orig_nbformat": 2,
  "kernelspec": {
   "name": "python372jvsc74a57bd0f7eecc64031d1199a02797dafe51906f01aa572911c7b44dc4c8833c7e8cc48b",
   "display_name": "Python 3.7.2 64-bit"
  }
 },
 "nbformat": 4,
 "nbformat_minor": 2,
 "cells": [
  {
   "cell_type": "code",
   "execution_count": 1,
   "metadata": {},
   "outputs": [],
   "source": [
    "import numpy\n",
    "from keras.models import load_model"
   ]
  },
  {
   "cell_type": "code",
   "execution_count": 2,
   "metadata": {},
   "outputs": [],
   "source": [
    "seg_max_min=[(315.0, 68.0),\n",
    " (78.0, 29.0),\n",
    " (308.0, 34.0),\n",
    " (187.0, 34.0),\n",
    " (68.0, 22.0),\n",
    " (74.8, 37.4),\n",
    " (77.0, 34.0),\n",
    " (517.2, 63.0),\n",
    " (381.8, 68.0),\n",
    " (50.0, 24.0),\n",
    " (287.4, 50.6),\n",
    " (237.0, 46.0),\n",
    " (142.0, 58.0),\n",
    " (202.0, 61.0),\n",
    " (494.0, 42.0),\n",
    " (144.0, 65.6),\n",
    " (208.4, 51.0),\n",
    " (187.0, 63.0),\n",
    " (149.4, 43.0),\n",
    " (351.0, 68.0)]"
   ]
  },
  {
   "cell_type": "code",
   "execution_count": 45,
   "metadata": {},
   "outputs": [],
   "source": [
    "train=numpy.load(r'C:\\Users\\e-wel\\Documents\\Python Scripts\\DeepPF\\log_0\\train.npy',allow_pickle=True).item()\n",
    "test=numpy.load(r'C:\\Users\\e-wel\\Documents\\Python Scripts\\DeepPF\\log_0\\test.npy',allow_pickle=True).item()\n",
    "dw_train_0=numpy.load(r'C:\\Users\\e-wel\\Documents\\Python Scripts\\DeepPF\\log_0\\train_day_of_week.npy')\n",
    "dw_test_0=numpy.load(r'C:\\Users\\e-wel\\Documents\\Python Scripts\\DeepPF\\log_0\\test_day_of_week.npy')\n",
    "ts=numpy.load(r'C:\\Users\\e-wel\\Documents\\Python Scripts\\DeepPF\\encoded_time_stamp.npy')"
   ]
  },
  {
   "cell_type": "code",
   "execution_count": 73,
   "metadata": {},
   "outputs": [],
   "source": [
    "dw_train_0=numpy.load(r'C:\\Users\\e-wel\\Documents\\Python Scripts\\DeepPF\\log_0\\train_day_of_week.npy')\n",
    "dw_test_0=numpy.load(r'C:\\Users\\e-wel\\Documents\\Python Scripts\\DeepPF\\log_0\\test_day_of_week.npy')"
   ]
  },
  {
   "cell_type": "code",
   "execution_count": 86,
   "metadata": {},
   "outputs": [],
   "source": [
    "train_in_c=[]\n",
    "train_in_d=[]\n",
    "train_in_w=[]\n",
    "train_out_c=[]\n",
    "test_in_c=[]\n",
    "test_in_d=[]\n",
    "test_in_w=[]\n",
    "test_out_c=[]\n",
    "target_seg=[9, 24, 42, 83, 256, 267, 268, 277]\n",
    "target_seg_len=len(target_seg)\n",
    "for seg in target_seg:#路段key\n",
    "    train_in_c+=( train[seg][0])\n",
    "    train_in_d+=( train[seg][1])\n",
    "    train_in_w+=( train[seg][2])\n",
    "    train_out_c+=( train[seg][3])\n",
    "    test_in_c+=(test[seg][0])\n",
    "    test_in_d+=(test[seg][1])\n",
    "    test_in_w+=(test[seg][2])\n",
    "    test_out_c+=(test[seg][3])\n",
    "dw_train=numpy.repeat(dw_train_0,target_seg_len)#路段数\n",
    "dw_test=numpy.repeat(dw_test_0,target_seg_len)\n",
    "ts_train=[]\n",
    "for i in range(33):\n",
    "    ts_train=numpy.concatenate((ts_train,ts[:176]))\n",
    "ts_test=[]\n",
    "for i in range(8):\n",
    "    ts_test=numpy.concatenate((ts_test,ts[:176]))\n",
    "ts_train=numpy.repeat(ts_train,target_seg_len)#路段数目\n",
    "ts_test=numpy.repeat(ts_test,target_seg_len)"
   ]
  },
  {
   "cell_type": "code",
   "execution_count": 87,
   "metadata": {},
   "outputs": [],
   "source": [
    "train_in_c=numpy.array(train_in_c)\n",
    "test_in_c=numpy.array(test_in_c)\n",
    "train_in_d=numpy.array(train_in_d)\n",
    "test_in_d=numpy.array(test_in_d)\n",
    "train_in_w=numpy.array(train_in_w)\n",
    "test_in_w=numpy.array(test_in_w)\n",
    "train_out_c=numpy.array(train_out_c)\n",
    "test_out_c=numpy.array(test_out_c)\n",
    "train_in_c=train_in_c.reshape(train_in_c.shape[0],4,1)\n",
    "train_out_c=train_out_c.reshape(train_out_c.shape[0],1)\n",
    "test_in_c=test_in_c.reshape(test_in_c.shape[0],4,1)\n",
    "test_out_c=test_out_c.reshape(test_out_c.shape[0],1)\n",
    "train_in_d=train_in_d.reshape(train_in_d.shape[0],4,1)\n",
    "test_in_d=test_in_d.reshape(test_in_d.shape[0],4,1)\n",
    "train_in_w=train_in_w.reshape(train_in_w.shape[0],1,1)\n",
    "test_in_w=test_in_w.reshape(test_in_w.shape[0],1,1)\n",
    "ts_train=ts_train.reshape(ts_train.shape[0],1,1)\n",
    "ts_test=ts_test.reshape(ts_test.shape[0],1,1)\n",
    "dw_test=dw_test.reshape(dw_test.shape[0],1,1)\n",
    "dw_train=dw_train.reshape(dw_train.shape[0],1,1)\n",
    "ts_train=ts_train.reshape(ts_train.shape[0],1,1)\n",
    "ts_test=ts_test.reshape(ts_test.shape[0],1,1)\n",
    "dw_test=dw_test.reshape(dw_test.shape[0],1,1)\n",
    "dw_train=dw_train.reshape(dw_train.shape[0],1,1)\n",
    "model_in=[train_in_c,train_in_d,train_in_w,dw_train,ts_train]\n",
    "model_out=[train_out_c]\n",
    "test_model_in=[test_in_c,test_in_d,test_in_w,dw_test,ts_test]\n",
    "test_model_out=[test_out_c]"
   ]
  },
  {
   "cell_type": "code",
   "execution_count": 70,
   "metadata": {},
   "outputs": [],
   "source": [
    "c0=load_model(r'C:\\Users\\e-wel\\Documents\\Python Scripts\\DeepPF\\log_0\\log_0_c0.h5')"
   ]
  },
  {
   "cell_type": "code",
   "execution_count": 71,
   "metadata": {},
   "outputs": [],
   "source": [
    "#cluster中元素对应的index\n",
    "valid_index=[1, 4, 5]\n",
    "max_arr=numpy.array([ [seg_max_min[i][0]] for i in valid_index])\n",
    "min_arr=numpy.array([[seg_max_min[i][1]] for i in valid_index])\n",
    "bias_arr=max_arr-min_arr\n",
    "bias_arr=numpy.repeat(bias_arr,8*176,axis=0) #测试集天数*每天记录数\n",
    "min_arr=numpy.repeat(min_arr,8*176,axis=0)"
   ]
  },
  {
   "cell_type": "code",
   "execution_count": 76,
   "metadata": {},
   "outputs": [
    {
     "output_type": "execute_result",
     "data": {
      "text/plain": [
       "0.06749629335185091"
      ]
     },
     "metadata": {},
     "execution_count": 76
    }
   ],
   "source": [
    "pred=c0.predict(test_model_in)\n",
    "pred=pred*bias_arr+min_arr\n",
    "gt=(numpy.array(test_model_out[0])*bias_arr+min_arr)\n",
    "tmp=numpy.absolute(pred-gt)/gt\n",
    "numpy.mean(tmp)"
   ]
  },
  {
   "cell_type": "code",
   "execution_count": 77,
   "metadata": {},
   "outputs": [],
   "source": [
    "sum_mape=numpy.concatenate((sum_mape,tmp),axis=0)"
   ]
  },
  {
   "cell_type": "code",
   "execution_count": 78,
   "metadata": {},
   "outputs": [],
   "source": [
    "c1=load_model(r'C:\\Users\\e-wel\\Documents\\Python Scripts\\DeepPF\\log_0\\log_0_c1.h5')"
   ]
  },
  {
   "cell_type": "code",
   "execution_count": 81,
   "metadata": {},
   "outputs": [],
   "source": [
    "#cluster中元素对应的index\n",
    "valid_index=[0, 3, 7]\n",
    "max_arr=numpy.array([ [seg_max_min[i][0]] for i in valid_index])\n",
    "min_arr=numpy.array([[seg_max_min[i][1]] for i in valid_index])\n",
    "bias_arr=max_arr-min_arr\n",
    "bias_arr=numpy.repeat(bias_arr,8*176,axis=0) #测试集天数*每天记录数\n",
    "min_arr=numpy.repeat(min_arr,8*176,axis=0)"
   ]
  },
  {
   "cell_type": "code",
   "execution_count": 82,
   "metadata": {},
   "outputs": [
    {
     "output_type": "execute_result",
     "data": {
      "text/plain": [
       "0.16192235641884953"
      ]
     },
     "metadata": {},
     "execution_count": 82
    }
   ],
   "source": [
    "pred=c1.predict(test_model_in)\n",
    "pred=pred*bias_arr+min_arr\n",
    "gt=(numpy.array(test_model_out[0])*bias_arr+min_arr)\n",
    "tmp=numpy.absolute(pred-gt)/gt\n",
    "numpy.mean(tmp)"
   ]
  },
  {
   "cell_type": "code",
   "execution_count": 83,
   "metadata": {},
   "outputs": [],
   "source": [
    "sum_mape=numpy.concatenate((sum_mape,tmp),axis=0)"
   ]
  },
  {
   "cell_type": "code",
   "execution_count": 64,
   "metadata": {},
   "outputs": [],
   "source": [
    "c2=load_model(r'C:\\Users\\e-wel\\Documents\\Python Scripts\\DeepPF\\log_0\\log_0_c2.h5')"
   ]
  },
  {
   "cell_type": "code",
   "execution_count": 65,
   "metadata": {},
   "outputs": [],
   "source": [
    "#cluster中元素对应的index\n",
    "valid_index=[2, 6]\n",
    "max_arr=numpy.array([ [seg_max_min[i][0]] for i in valid_index])\n",
    "min_arr=numpy.array([[seg_max_min[i][1]] for i in valid_index])\n",
    "bias_arr=max_arr-min_arr\n",
    "bias_arr=numpy.repeat(bias_arr,8*176,axis=0) #测试集天数*每天记录数\n",
    "min_arr=numpy.repeat(min_arr,8*176,axis=0)"
   ]
  },
  {
   "cell_type": "code",
   "execution_count": 66,
   "metadata": {},
   "outputs": [
    {
     "output_type": "execute_result",
     "data": {
      "text/plain": [
       "0.10426998911400301"
      ]
     },
     "metadata": {},
     "execution_count": 66
    }
   ],
   "source": [
    "pred=c2.predict(test_model_in)\n",
    "pred=pred*bias_arr+min_arr\n",
    "gt=(numpy.array(test_model_out[0])*bias_arr+min_arr)\n",
    "numpy.mean(numpy.absolute(pred-gt)/gt)"
   ]
  },
  {
   "cell_type": "code",
   "execution_count": 67,
   "metadata": {},
   "outputs": [],
   "source": [
    "sum_mape=numpy.absolute(pred-gt)/gt"
   ]
  },
  {
   "cell_type": "code",
   "execution_count": 84,
   "metadata": {},
   "outputs": [
    {
     "output_type": "execute_result",
     "data": {
      "text/plain": [
       "(11264, 1)"
      ]
     },
     "metadata": {},
     "execution_count": 84
    }
   ],
   "source": [
    "sum_mape.shape"
   ]
  },
  {
   "cell_type": "code",
   "execution_count": 85,
   "metadata": {},
   "outputs": [
    {
     "output_type": "execute_result",
     "data": {
      "text/plain": [
       "0.1120994909425134"
      ]
     },
     "metadata": {},
     "execution_count": 85
    }
   ],
   "source": [
    "numpy.mean(sum_mape)"
   ]
  },
  {
   "cell_type": "code",
   "execution_count": 88,
   "metadata": {},
   "outputs": [],
   "source": [
    "c_all=load_model(r'C:\\Users\\e-wel\\Documents\\Python Scripts\\DeepPF\\log_0\\log_0_0.h5')"
   ]
  },
  {
   "cell_type": "code",
   "execution_count": 89,
   "metadata": {},
   "outputs": [],
   "source": [
    "#cluster中元素对应的index\n",
    "valid_index=[i for i in range(8)]\n",
    "max_arr=numpy.array([ [seg_max_min[i][0]] for i in valid_index])\n",
    "min_arr=numpy.array([[seg_max_min[i][1]] for i in valid_index])\n",
    "bias_arr=max_arr-min_arr\n",
    "bias_arr=numpy.repeat(bias_arr,8*176,axis=0) #测试集天数*每天记录数\n",
    "min_arr=numpy.repeat(min_arr,8*176,axis=0)"
   ]
  },
  {
   "cell_type": "code",
   "execution_count": 90,
   "metadata": {},
   "outputs": [
    {
     "output_type": "execute_result",
     "data": {
      "text/plain": [
       "0.10504914005703152"
      ]
     },
     "metadata": {},
     "execution_count": 90
    }
   ],
   "source": [
    "pred=c_all.predict(test_model_in)\n",
    "pred=pred*bias_arr+min_arr\n",
    "gt=(numpy.array(test_model_out[0])*bias_arr+min_arr)\n",
    "numpy.mean(numpy.absolute(pred-gt)/gt)"
   ]
  },
  {
   "cell_type": "code",
   "execution_count": 99,
   "metadata": {},
   "outputs": [],
   "source": [
    "i=1\n",
    "pred_c0=pred[i*176*8:(i+1)*176*8]\n",
    "gt_c0=gt[i*176*8:(i+1)*176*8]\n",
    "bias_arr_c0=bias_arr[i*176*8:(i+1)*176*8]\n",
    "min_arr_c0=min_arr[i*176*8:(i+1)*176*8]\n",
    "for i in [4, 5]:\n",
    "    pred_c0=numpy.concatenate((pred_c0,pred[i*176*8:(i+1)*176*8]),axis=0) \n",
    "    gt_c0=numpy.concatenate((gt_c0,gt[i*176*8:(i+1)*176*8]),axis=0) \n",
    "    bias_arr_c0=numpy.concatenate((bias_arr_c0,bias_arr[i*176*8:(i+1)*176*8]),axis=0)\n",
    "    min_arr_c0=numpy.concatenate((min_arr_c0,min_arr[i*176*8:(i+1)*176*8]),axis=0)\n",
    "    # bias_arr_c0+=bias_arr[i*176*8:(i+1)*176*8]\n",
    "    # min_arr_c0+=min_arr[i*176*8:(i+1)*176*8]"
   ]
  },
  {
   "cell_type": "code",
   "execution_count": 100,
   "metadata": {},
   "outputs": [
    {
     "output_type": "execute_result",
     "data": {
      "text/plain": [
       "0.06164752503283185"
      ]
     },
     "metadata": {},
     "execution_count": 100
    }
   ],
   "source": [
    "\n",
    "numpy.mean(numpy.absolute(pred_c0-gt_c0)/gt_c0)"
   ]
  },
  {
   "cell_type": "code",
   "execution_count": null,
   "metadata": {},
   "outputs": [],
   "source": []
  }
 ]
}