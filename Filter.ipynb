{
 "metadata": {
  "language_info": {
   "codemirror_mode": {
    "name": "ipython",
    "version": 3
   },
   "file_extension": ".py",
   "mimetype": "text/x-python",
   "name": "python",
   "nbconvert_exporter": "python",
   "pygments_lexer": "ipython3",
   "version": "3.7.2"
  },
  "orig_nbformat": 2,
  "kernelspec": {
   "name": "python372jvsc74a57bd0be0b56fde7ab4dd5a7b857b05c420f1624be72fede588761e7b5d962331e4a2a",
   "display_name": "Python 3.7.2 64-bit ('venv_ids': venv)"
  },
  "metadata": {
   "interpreter": {
    "hash": "be0b56fde7ab4dd5a7b857b05c420f1624be72fede588761e7b5d962331e4a2a"
   }
  }
 },
 "nbformat": 4,
 "nbformat_minor": 2,
 "cells": [
  {
   "cell_type": "code",
   "execution_count": 1,
   "source": [
    "import numpy"
   ],
   "outputs": [],
   "metadata": {}
  },
  {
   "cell_type": "code",
   "execution_count": 8,
   "source": [
    "daily_count=numpy.load(r'无效数据统计_每天.npy',allow_pickle=True).item()"
   ],
   "outputs": [],
   "metadata": {}
  },
  {
   "cell_type": "code",
   "execution_count": 99,
   "source": [
    "info=numpy.load(r'路段信息_简略.npy',allow_pickle=True).item()"
   ],
   "outputs": [],
   "metadata": {}
  },
  {
   "cell_type": "code",
   "execution_count": 19,
   "source": [
    "normal_days=[2, 3, 4, 7, 8, 9, 10, 11, 14, 15, 16, 17, 18, 21, 22, 23, 24, 25, 28, 29, 30, 31, 34, 35, 36, 37, 38, 41, 42, 43, 44, 45, 49, 50, 51, 52, 55, 56, 57, 58, 59]"
   ],
   "outputs": [],
   "metadata": {}
  },
  {
   "cell_type": "code",
   "execution_count": 20,
   "source": [
    "len(normal_days)#除去周末和节假日后的天数"
   ],
   "outputs": [
    {
     "output_type": "execute_result",
     "data": {
      "text/plain": [
       "41"
      ]
     },
     "metadata": {},
     "execution_count": 20
    }
   ],
   "metadata": {}
  },
  {
   "cell_type": "code",
   "execution_count": 26,
   "source": [
    "segs=list(daily_count.keys())\r\n",
    "count={}\r\n",
    "base=numpy.array([900 for i in range(41)])\r\n",
    "for each in segs:\r\n",
    "    normal_values=numpy.array(daily_count[each])[normal_days]\r\n",
    "    count[each]=base-normal_values"
   ],
   "outputs": [],
   "metadata": {}
  },
  {
   "cell_type": "code",
   "execution_count": 28,
   "source": [
    "missing_values={}#统计各路段的缺失值比例\r\n",
    "for seg in count.keys():\r\n",
    "   missing_values[seg]=numpy.sum(count[seg])"
   ],
   "outputs": [],
   "metadata": {}
  },
  {
   "cell_type": "code",
   "execution_count": null,
   "source": [
    "valid=[]\r\n",
    "for seg in missing_values.keys():\r\n",
    "    ratio=missing_values[seg]/41/900\r\n",
    "    if ratio<0.3:\r\n",
    "        valid.append((seg,ratio))"
   ],
   "outputs": [],
   "metadata": {}
  },
  {
   "cell_type": "code",
   "execution_count": 82,
   "source": [
    "valid_segs=[each[0] for each in valid]"
   ],
   "outputs": [],
   "metadata": {}
  },
  {
   "cell_type": "code",
   "execution_count": 83,
   "source": [
    "total=numpy.load(r'间隔_5min_init.npy',allow_pickle=True).item()"
   ],
   "outputs": [],
   "metadata": {}
  },
  {
   "cell_type": "code",
   "execution_count": null,
   "source": [
    "mountain={}\r\n",
    "for seg in valid_seg:\r\n",
    "    seg_len=float(info[str(seg)][5])\r\n",
    "    train_set=[total[seg][i] for i in normal_days[:33]]\r\n",
    "    len_arr=numpy.array([seg_len for i in range(5940)])\r\n",
    "    len_arr=len_arr.reshape((33,180))\r\n",
    "    speed=numpy.around(len_arr*3.6/total,2)\r\n",
    "    mountain[seg]=numpy.sum(numpy.where(speed<20,1,0))"
   ],
   "outputs": [],
   "metadata": {}
  },
  {
   "cell_type": "code",
   "execution_count": 127,
   "source": [
    "# 展示各路段的拥堵情况（时速20km/h以下的比例）\r\n",
    "test=[139,316,46,47,138,33,34,45,246,385,42,37,41,43,44,152]\r\n",
    "print([(each,numpy.around(mountain[each]/5940*100,2)) for each in test])\r\n",
    "# print(len(test))"
   ],
   "outputs": [
    {
     "output_type": "stream",
     "name": "stdout",
     "text": [
      "[(139, 36.67), (316, 8.33), (46, 30.56), (47, 18.33), (138, 21.11), (33, 45.56), (34, 27.22), (45, 10.0), (246, 17.22), (385, 63.89), (42, 51.11), (37, 56.67), (41, 27.22), (43, 71.67), (44, 33.89), (152, 23.89)]\n"
     ]
    }
   ],
   "metadata": {}
  },
  {
   "cell_type": "code",
   "execution_count": 57,
   "source": [
    "count=numpy.load(r'无效数据统计.npy',allow_pickle=True).item()"
   ],
   "outputs": [],
   "metadata": {}
  },
  {
   "cell_type": "code",
   "execution_count": 111,
   "source": [
    "count[70]/60/900"
   ],
   "outputs": [
    {
     "output_type": "execute_result",
     "data": {
      "text/plain": [
       "0.5727037037037036"
      ]
     },
     "metadata": {},
     "execution_count": 111
    }
   ],
   "metadata": {}
  },
  {
   "cell_type": "code",
   "execution_count": 35,
   "source": [
    "numpy.save(r'正常天无效数据.npy',missing_values)"
   ],
   "outputs": [],
   "metadata": {}
  },
  {
   "cell_type": "markdown",
   "source": [
    "## 修改路段154的数值格式，可忽略此部分"
   ],
   "metadata": {}
  },
  {
   "cell_type": "code",
   "execution_count": 6,
   "source": [
    "simple_info=numpy.load(r'C:\\Users\\e-wel\\Documents\\Python Scripts\\60天统计\\路段信息_简略.npy',allow_pickle=True).item()"
   ],
   "outputs": [],
   "metadata": {}
  },
  {
   "cell_type": "code",
   "execution_count": 43,
   "source": [
    "import numpy\r\n",
    "old_dict=numpy.load(r'C:\\Users\\e-wel\\Documents\\Python Scripts\\60天统计\\60_days_汇总.npy',allow_pickle=True).item()\r\n"
   ],
   "outputs": [],
   "metadata": {}
  },
  {
   "cell_type": "code",
   "execution_count": 44,
   "source": [
    "new_hz=old_dict[154]"
   ],
   "outputs": [],
   "metadata": {}
  },
  {
   "cell_type": "code",
   "execution_count": 45,
   "source": [
    "for day_index,day_record in enumerate(new_hz):\r\n",
    "    for index in range(900):\r\n",
    "        if day_record[index]=='':\r\n",
    "            day_record[index]=0\r\n",
    "        else:\r\n",
    "            day_record[index]=int(day_record[index])\r\n",
    "    new_hz[day_index]=day_record"
   ],
   "outputs": [],
   "metadata": {}
  },
  {
   "cell_type": "code",
   "execution_count": 35,
   "source": [
    "min_tt['154']"
   ],
   "outputs": [
    {
     "output_type": "execute_result",
     "data": {
      "text/plain": [
       "48"
      ]
     },
     "metadata": {},
     "execution_count": 35
    }
   ],
   "metadata": {}
  },
  {
   "cell_type": "code",
   "execution_count": 15,
   "source": [
    "min_tt=numpy.load(r'C:\\Users\\e-wel\\Documents\\Python Scripts\\40天统计信息及路段情况\\min_travel_time.npy',allow_pickle=True).item()"
   ],
   "outputs": [],
   "metadata": {}
  },
  {
   "cell_type": "code",
   "execution_count": 46,
   "source": [
    "for day_index,day_record in enumerate(new_hz):\n",
    "    for index in range(len(day_record)):\n",
    "        if day_record[index]==0:\n",
    "            if index==0:\n",
    "                day_record[index]=min_tt['154']\n",
    "            else:\n",
    "                day_record[index]=day_record[index-1]\n",
    "    new_hz[day_index]=day_record"
   ],
   "outputs": [],
   "metadata": {}
  },
  {
   "cell_type": "code",
   "execution_count": 49,
   "source": [
    "new_hz_1=[[] for i in range(60)]\n",
    "for day_index,day_record in enumerate(new_hz):\n",
    "    index=0\n",
    "    new_days=[]\n",
    "    while index<900:\n",
    "        new_days.append(numpy.around(numpy.mean(day_record[index:index+5]),2))\n",
    "        index+=5\n",
    "    new_hz_1[day_index]=new_days"
   ],
   "outputs": [],
   "metadata": {}
  },
  {
   "cell_type": "code",
   "execution_count": 50,
   "source": [
    "new_hz_arr=numpy.array(new_hz_1)"
   ],
   "outputs": [],
   "metadata": {}
  },
  {
   "cell_type": "code",
   "execution_count": 51,
   "source": [
    "numpy.max(new_hz_arr),numpy.min(new_hz_arr)"
   ],
   "outputs": [
    {
     "output_type": "execute_result",
     "data": {
      "text/plain": [
       "(342.6, 48.0)"
      ]
     },
     "metadata": {},
     "execution_count": 51
    }
   ],
   "metadata": {}
  },
  {
   "cell_type": "code",
   "execution_count": 52,
   "source": [
    "total=numpy.load(r'C:\\Users\\e-wel\\Documents\\Python Scripts\\60天统计\\间隔_5min_init.npy',allow_pickle=True).item()\n",
    "total[154]=new_hz_1"
   ],
   "outputs": [],
   "metadata": {}
  },
  {
   "cell_type": "code",
   "execution_count": 53,
   "source": [
    "len(total.keys())"
   ],
   "outputs": [
    {
     "output_type": "execute_result",
     "data": {
      "text/plain": [
       "87"
      ]
     },
     "metadata": {},
     "execution_count": 53
    }
   ],
   "metadata": {}
  },
  {
   "cell_type": "code",
   "execution_count": 54,
   "source": [
    "numpy.save(r'C:\\Users\\e-wel\\Documents\\Python Scripts\\60天统计\\间隔_5min_init.npy',total)"
   ],
   "outputs": [],
   "metadata": {}
  },
  {
   "cell_type": "code",
   "execution_count": null,
   "source": [],
   "outputs": [],
   "metadata": {}
  }
 ]
}