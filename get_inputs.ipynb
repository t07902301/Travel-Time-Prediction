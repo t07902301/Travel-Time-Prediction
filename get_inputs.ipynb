{
 "cells": [
  {
   "cell_type": "code",
   "execution_count": 3,
   "metadata": {},
   "outputs": [],
   "source": [
    "import numpy\n",
    "import matplotlib.pyplot as plt"
   ]
  },
  {
   "cell_type": "code",
   "execution_count": 4,
   "metadata": {},
   "outputs": [],
   "source": [
    "data=numpy.load(r'..\\间隔_5min_init.npy',allow_pickle=True).item()\n",
    "info=numpy.load(r'..\\路段信息_简略.npy',allow_pickle=True).item()"
   ]
  },
  {
   "cell_type": "code",
   "execution_count": 1,
   "metadata": {},
   "outputs": [],
   "source": [
    "normal_days=[2, 3, 4, 7, 8, 9, 10, 11, 14, 15, 16, 17, 18, 21, 22, 23, 24, 25, 28, 29, 30, 31, 34, 35, 36, 37, 38, 41, 42, 43, 44, 45, 49, 50, 51, 52, 55, 56, 57, 58, 59] #除去周末和假日"
   ]
  },
  {
   "cell_type": "code",
   "execution_count": 2,
   "metadata": {},
   "outputs": [
    {
     "output_type": "execute_result",
     "data": {
      "text/plain": [
       "41"
      ]
     },
     "metadata": {},
     "execution_count": 2
    }
   ],
   "source": [
    "len(normal_days)"
   ]
  },
  {
   "cell_type": "code",
   "execution_count": 9,
   "metadata": {},
   "outputs": [],
   "source": [
    "targets=[139,316,46,47,138,33,34,45,246,385,42,37,41,43,44,152] #目标路段\n",
    "train={}\n",
    "test={}\n",
    "for seg in targets:#从数据集中挑选出训练集、测试集部分\n",
    "    train[seg]=[data[seg][i] for i in normal_days[:33]]\n",
    "    test[seg]=[data[seg][i] for i in normal_days[33:]]"
   ]
  },
  {
   "source": [
    "统计各路段拥堵状况（时速小于20公里/时）的比例"
   ],
   "cell_type": "markdown",
   "metadata": {}
  },
  {
   "cell_type": "code",
   "execution_count": 13,
   "metadata": {},
   "outputs": [
    {
     "output_type": "stream",
     "name": "stdout",
     "text": [
      "139 5.858585858585859\n316 7.121212121212121\n46 51.936026936026934\n47 30.976430976430976\n138 3.4848484848484853\n33 76.95286195286195\n34 56.64983164983165\n45 29.208754208754208\n246 93.77104377104376\n385 26.481481481481485\n42 85.53872053872054\n37 33.08080808080808\n41 55.94276094276094\n43 58.16498316498316\n44 1.4141414141414141\n152 56.78451178451178\n"
     ]
    }
   ],
   "source": [
    "valid_seg=[139,316,46,47,138,33,34,45,246,385,42,37,41,43,44,152]\n",
    "for seg in valid_seg:\n",
    "    seg_len=float(info[str(seg)][5])\n",
    "    len_arr=numpy.array([seg_len for i in range(41*180)])\n",
    "    len_arr=len_arr.reshape((41,180))\n",
    "    speed=numpy.around(len_arr*3.6/train[seg],2)\n",
    "    # print(numpy.std(speed))\n",
    "    # mean_speed=numpy.around(numpy.mean(speed),2)\n",
    "    low_speed_num=numpy.sum(numpy.where(speed<20,1,0))\n",
    "    print(seg,low_speed_num/41/180*100)"
   ]
  },
  {
   "cell_type": "code",
   "execution_count": 6,
   "metadata": {},
   "outputs": [],
   "source": [
    "def get_ewa(series,look_back_span): #指数移动平均法\n",
    "    ewa=[numpy.mean(series[:look_back_span])]\n",
    "    index=0\n",
    "    weight=2/(1+look_back_span)\n",
    "    for value in series[look_back_span:]:\n",
    "        ewa.append(value*weight+ewa[index]*(1-weight))\n",
    "        index+=1\n",
    "    return ewa"
   ]
  },
  {
   "source": [
    "分别对测试集、训练集进行数据的平滑操作"
   ],
   "cell_type": "markdown",
   "metadata": {}
  },
  {
   "cell_type": "code",
   "execution_count": 13,
   "metadata": {},
   "outputs": [],
   "source": [
    "for seg in targets:\n",
    "    tmp=[get_ewa(day,4) for day in train[seg]]\n",
    "    train[seg]=tmp"
   ]
  },
  {
   "cell_type": "code",
   "execution_count": 14,
   "metadata": {},
   "outputs": [],
   "source": [
    "for seg in targets:\n",
    "    tmp=[get_ewa(day,4) for day in test[seg]]\n",
    "    test[seg]=tmp"
   ]
  },
  {
   "source": [
    "## 归一化"
   ],
   "cell_type": "markdown",
   "metadata": {}
  },
  {
   "cell_type": "code",
   "execution_count": 15,
   "metadata": {},
   "outputs": [],
   "source": [
    "max_min_time={}#用于记录各路段的最大最小旅行时间"
   ]
  },
  {
   "cell_type": "code",
   "execution_count": 16,
   "metadata": {},
   "outputs": [],
   "source": [
    "train_days,train_dim=(len(train[targets[0]]),len(train[targets[0]][0]))\n",
    "test_days,test_dim=(len(test[targets[0]]),len(test[targets[0]][0]))\n",
    "train_new={}\n",
    "test_new={}\n",
    "for seg in targets:\n",
    "    train_arr=numpy.array(train[seg])\n",
    "    test_arr=numpy.array(test[seg])\n",
    "    max_train=numpy.max(train_arr)\n",
    "    min_train=numpy.min(train_arr) \n",
    "    max_min_time[seg]=[max_train,min_train]\n",
    "    bias=(max_train-min_train)\n",
    "    if max_train==min_train:\n",
    "        print(seg)\n",
    "        # pass\n",
    "    min_test_arr=[]\n",
    "    for i in range(test_days):\n",
    "        min_test_arr.append([min_train]*test_dim)\n",
    "    min_train_arr=[]\n",
    "    for i in range(train_days):\n",
    "        min_train_arr.append([min_train]*train_dim)\n",
    "\n",
    "    min_train_arr=numpy.array(min_train_arr)#array化，从而可以利用numpy库加快运算\n",
    "    min_test_arr=numpy.array(min_test_arr)#array化\n",
    "\n",
    "    train_arr=numpy.around((train_arr-min_train_arr)/bias,2)\n",
    "    test_arr=numpy.around((test_arr-min_test_arr)/bias,2)\n",
    "    # 归一化后的训练、测试集\n",
    "    train_new[seg]=train_arr\n",
    "    test_new[seg]=test_arr"
   ]
  },
  {
   "cell_type": "code",
   "execution_count": 17,
   "metadata": {},
   "outputs": [
    {
     "output_type": "execute_result",
     "data": {
      "text/plain": [
       "{139: [188.0193977142086, 35.51176541357626],\n",
       " 316: [236.61108834696307, 36.0],\n",
       " 46: [144.1258795495733, 38.0],\n",
       " 47: [154.8285546865203, 38.0],\n",
       " 138: [219.57448679936002, 64.36609612032],\n",
       " 33: [306.41881613393923, 25.0],\n",
       " 34: [153.79233010481434, 25.0],\n",
       " 45: [285.9322907357116, 23.0],\n",
       " 246: [381.04258732817493, 23.0],\n",
       " 385: [172.97847789126544, 68.0],\n",
       " 42: [150.05058080107455, 34.0],\n",
       " 37: [455.0680911350173, 41.0],\n",
       " 41: [294.1113390332663, 34.0],\n",
       " 43: [144.99871176726572, 23.0],\n",
       " 44: [86.41231798983719, 23.0],\n",
       " 152: [406.50166033716033, 68.0]}"
      ]
     },
     "metadata": {},
     "execution_count": 17
    }
   ],
   "source": [
    "max_min_time"
   ]
  },
  {
   "cell_type": "code",
   "execution_count": 19,
   "metadata": {},
   "outputs": [
    {
     "output_type": "execute_result",
     "data": {
      "text/plain": [
       "array([0.18, 0.16, 0.15, 0.16, 0.18])"
      ]
     },
     "metadata": {},
     "execution_count": 19
    }
   ],
   "source": [
    "train_new[43][1][:5]"
   ]
  },
  {
   "cell_type": "code",
   "execution_count": 20,
   "metadata": {},
   "outputs": [],
   "source": [
    "numpy.save(r'train.npy',train_new)\n",
    "numpy.save(r'test.npy',test_new)"
   ]
  },
  {
   "cell_type": "code",
   "execution_count": 10,
   "metadata": {},
   "outputs": [],
   "source": [
    "mean_mat={} #记录各路段每时刻在训练集的40天中的平均旅行时间\n",
    "for seg in targets:\n",
    "    tmp=numpy.array(train[seg])\n",
    "    mean_mat[seg]=numpy.around(numpy.mean(tmp,axis=0),2)"
   ]
  },
  {
   "cell_type": "code",
   "execution_count": null,
   "metadata": {},
   "outputs": [],
   "source": [
    "numpy.save(r'mean_mat.npy',mean_mat)"
   ]
  }
 ],
 "metadata": {
  "kernelspec": {
   "name": "python3",
   "display_name": "Python 3.7.2 64-bit ('venv_ids': venv)"
  },
  "language_info": {
   "codemirror_mode": {
    "name": "ipython",
    "version": 3
   },
   "file_extension": ".py",
   "mimetype": "text/x-python",
   "name": "python",
   "nbconvert_exporter": "python",
   "pygments_lexer": "ipython3",
   "version": "3.7.2"
  },
  "metadata": {
   "interpreter": {
    "hash": "be0b56fde7ab4dd5a7b857b05c420f1624be72fede588761e7b5d962331e4a2a"
   }
  },
  "interpreter": {
   "hash": "be0b56fde7ab4dd5a7b857b05c420f1624be72fede588761e7b5d962331e4a2a"
  }
 },
 "nbformat": 4,
 "nbformat_minor": 4
}