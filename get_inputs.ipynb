{
 "cells": [
  {
   "cell_type": "code",
   "execution_count": 4,
   "metadata": {},
   "outputs": [],
   "source": [
    "dates=[ '0501', '0502', '0503', '0504', '0505', '0506', '0507','0508', '0509', '0510', '0511', '0512', '0513', '0514', '0515','0516', '0517', '0518', '0519', '0520', '0521', '0522', '0523','0524', '0525', '0526', '0527', '0528', '0529', '0530', '0531', '0602', '0603', '0604', '0605', '0606', '0607', '0608','0609', '0610', '0611', '0612', '0613', '0614', '0615', '0616','0617', '0618', '0619', '0620', '0621', '0622', '0623', '0624','0625', '0626', '0627', '0628', '0629', '0630']"
   ]
  },
  {
   "cell_type": "code",
   "execution_count": 14,
   "metadata": {},
   "outputs": [
    {
     "output_type": "stream",
     "name": "stdout",
     "text": [
      "49\n"
     ]
    }
   ],
   "source": [
    "for index,date in enumerate(dates):\n",
    "    if date=='0620':\n",
    "        print(index)"
   ]
  },
  {
   "cell_type": "code",
   "execution_count": 13,
   "metadata": {},
   "outputs": [
    {
     "output_type": "stream",
     "name": "stdout",
     "text": [
      "0618\n"
     ]
    }
   ],
   "source": [
    "print(dates[47])"
   ]
  },
  {
   "cell_type": "code",
   "execution_count": 1,
   "metadata": {},
   "outputs": [],
   "source": [
    "import numpy"
   ]
  },
  {
   "cell_type": "code",
   "execution_count": 15,
   "metadata": {},
   "outputs": [],
   "source": [
    "total=numpy.load(r'C:\\Users\\e-wel\\Documents\\Python Scripts\\60天统计\\间隔_5min.npy',allow_pickle=True).item()"
   ]
  },
  {
   "cell_type": "code",
   "execution_count": 54,
   "metadata": {},
   "outputs": [],
   "source": [
    "target_segs=[9, 24, 42, 256, 267, 268, 277]\n",
    "train={}\n",
    "test={}\n",
    "validation={}\n",
    "for seg in target_segs:\n",
    "    train[seg]=total[seg][2:34]+total[seg][37:48]#5.2-6.3+6.7-6.17(真实日期)\n",
    "    test[seg]=total[seg][49:]#6.19-6.29"
   ]
  },
  {
   "cell_type": "code",
   "execution_count": 55,
   "metadata": {},
   "outputs": [],
   "source": [
    "for seg in target_segs:\n",
    "    train_arr=[]\n",
    "    for day in train[seg]:\n",
    "        train_arr+=day\n",
    "    test_arr=[]\n",
    "    for day in test[seg]:\n",
    "        test_arr+=day\n",
    "    # max_train=numpy.max(train_arr)\n",
    "    # min_train=numpy.min(train_arr) \n",
    "    # max_min_table[seg]=[max_train,min_train]\n",
    "    max_train,min_train=max_min_table[seg]\n",
    "    max_train_arr=numpy.array([max_train for i in range(7740)])\n",
    "    min_train_arr=numpy.array([min_train for i in range(7740)])\n",
    "    max_test_arr=[max_train for i in range(1980)]\n",
    "    min_test_arr=numpy.array([min_train for i in range(1980)])\n",
    "    \n",
    "    bias_train=(max_train_arr-min_train_arr)\n",
    "    bias_test=(max_test_arr-min_test_arr)\n",
    "    # if numpy.sum(numpy.where(bias_test==0,1,0))>0:\n",
    "        # print(seg)\n",
    "    train_arr=numpy.around((train_arr-min_train_arr)/bias_train,2)\n",
    "    test_arr=numpy.around((test_arr-min_test_arr)/bias_test,2)\n",
    "    \n",
    "    train[seg]=train_arr[:32*180]\n",
    "    test[seg]=test_arr\n",
    "    validation[seg]=train_arr[32*180:]"
   ]
  },
  {
   "cell_type": "code",
   "execution_count": 25,
   "metadata": {},
   "outputs": [
    {
     "output_type": "execute_result",
     "data": {
      "text/plain": [
       "{9: [392.0, 69.0],\n",
       " 24: [287.0, 29.0],\n",
       " 42: [209.4, 34.0],\n",
       " 256: [224.2, 31.0],\n",
       " 267: [1550.0, 63.0],\n",
       " 268: [348.8, 51.0],\n",
       " 277: [165.0, 64.0]}"
      ]
     },
     "metadata": {},
     "execution_count": 25
    }
   ],
   "source": [
    "max_min_table"
   ]
  },
  {
   "cell_type": "code",
   "execution_count": 56,
   "metadata": {
    "tags": []
   },
   "outputs": [],
   "source": [
    "#训练集\n",
    "train_seg={}\n",
    "for seg,record in train.items():\n",
    "    input_c=[]\n",
    "    input_d=[]\n",
    "    input_w=[]\n",
    "    output=[]\n",
    "    for day in range(4,32):\n",
    "        valid=record[day*180:(day+1)*180] # a list\n",
    "        for i in range(176):\n",
    "            input_c.append(valid[i:i+4])\n",
    "            output.append(valid[i+4])\n",
    "            tmp_d=[record[(day-step)*180+i] for step in range(4)] #前四天\n",
    "            # tmp_w=[record[(day-step*7)*180+i] for step in range(1)]#前一周\n",
    "            input_d.append(tmp_d)\n",
    "            # input_w.append(tmp_w)\n",
    "    train_seg[seg]=[input_c,input_d,output]\n",
    "    # train_seg[seg]=[input_c,input_d,input_w,output]\n"
   ]
  },
  {
   "cell_type": "code",
   "execution_count": 83,
   "metadata": {},
   "outputs": [],
   "source": [
    "#测试集\n",
    "test_seg={}\n",
    "for seg,record in test.items():\n",
    "    input_c=[]\n",
    "    input_d=[]\n",
    "    input_w=[]\n",
    "    output=[]\n",
    "    for day in range(4,11):\n",
    "        valid=record[day*180:(day+1)*180] # a list\n",
    "        for i in range(176):\n",
    "            input_c.append(valid[i:i+4])\n",
    "            output.append(valid[i+4])\n",
    "            tmp_d=[record[(day-step)*180+i] for step in range(4)] #前四天\n",
    "            # tmp_w=[record[(day-step*7)*180+i] for step in range(1)]#前一周\n",
    "            input_d.append(tmp_d)\n",
    "            # input_w.append(tmp_w)\n",
    "    # test_seg[seg]=[input_c,input_d,input_w,output]\n",
    "    test_seg[seg]=[input_c,input_d,output]"
   ]
  },
  {
   "cell_type": "code",
   "execution_count": 84,
   "metadata": {},
   "outputs": [],
   "source": [
    "#验证集\n",
    "validation_seg={}\n",
    "for seg,record in validation.items():\n",
    "    input_c=[]\n",
    "    input_d=[]\n",
    "    input_w=[]\n",
    "    output=[]\n",
    "    for day in range(4,11):\n",
    "        valid=record[day*180:(day+1)*180] # a list\n",
    "        for i in range(176):\n",
    "            input_c.append(valid[i:i+4])\n",
    "            output.append(valid[i+4])\n",
    "            tmp_d=[record[(day-step)*180+i] for step in range(4)] #前四天\n",
    "            # tmp_w=[record[(day-step*7)*180+i] for step in range(1)]#前一周\n",
    "            input_d.append(tmp_d)\n",
    "            # input_w.append(tmp_w)\n",
    "    # test_seg[seg]=[input_c,input_d,input_w,output]\n",
    "    validation_seg[seg]=[input_c,input_d,output]"
   ]
  },
  {
   "cell_type": "code",
   "execution_count": 85,
   "metadata": {},
   "outputs": [
    {
     "output_type": "execute_result",
     "data": {
      "text/plain": [
       "1232"
      ]
     },
     "metadata": {},
     "execution_count": 85
    }
   ],
   "source": [
    "len(test_seg[9][0])"
   ]
  },
  {
   "cell_type": "code",
   "execution_count": 86,
   "metadata": {},
   "outputs": [],
   "source": [
    "# numpy.save(r'C:\\Users\\e-wel\\Documents\\Python Scripts\\DeepPF\\log_1\\train.npy',train_seg)\n",
    "numpy.save(r'C:\\Users\\e-wel\\Documents\\Python Scripts\\DeepPF\\log_1\\test.npy',test_seg)\n",
    "numpy.save(r'C:\\Users\\e-wel\\Documents\\Python Scripts\\DeepPF\\log_1\\validation.npy',validation_seg)"
   ]
  },
  {
   "cell_type": "code",
   "execution_count": null,
   "metadata": {},
   "outputs": [],
   "source": [
    "time_stamp=numpy.load(r'C:\\Users\\e-wel\\Documents\\Python Scripts\\40天原始记录\\time_stamp.npy',allow_pickle=True).item()\n",
    "ts_list=list(time_stamp.keys())"
   ]
  },
  {
   "cell_type": "code",
   "execution_count": null,
   "metadata": {},
   "outputs": [],
   "source": [
    "ts=[]\n",
    "for each in ts_list:\n",
    "    tmp=each.split(':')\n",
    "    ts.append(tmp[0]+tmp[1])"
   ]
  },
  {
   "cell_type": "code",
   "execution_count": null,
   "metadata": {},
   "outputs": [],
   "source": [
    "ts[:5]"
   ]
  },
  {
   "cell_type": "code",
   "execution_count": null,
   "metadata": {},
   "outputs": [],
   "source": [
    "new_ts=[]\n",
    "for i in range(180):\n",
    "    new_ts.append(ts[i*5])"
   ]
  },
  {
   "cell_type": "code",
   "execution_count": null,
   "metadata": {},
   "outputs": [],
   "source": [
    "from keras.preprocessing.text import one_hot"
   ]
  },
  {
   "cell_type": "code",
   "execution_count": null,
   "metadata": {},
   "outputs": [],
   "source": [
    "encoded_time_stamp=[]\n",
    "for i in new_ts:\n",
    "    encoded_time_stamp+=one_hot(i,180)"
   ]
  },
  {
   "cell_type": "code",
   "execution_count": null,
   "metadata": {},
   "outputs": [],
   "source": [
    "numpy.save(r'C:\\Users\\e-wel\\Documents\\Python Scripts\\DeepPF\\encoded_time_stamp.npy',encoded_time_stamp)"
   ]
  },
  {
   "cell_type": "code",
   "execution_count": 2,
   "metadata": {},
   "outputs": [],
   "source": [
    "dates_dict=numpy.load(r'C:\\Users\\e-wel\\Documents\\Python Scripts\\60天统计\\收集日期对应工作日.npy',allow_pickle=True).item()"
   ]
  },
  {
   "cell_type": "code",
   "execution_count": 76,
   "metadata": {},
   "outputs": [],
   "source": [
    "day_of_week=['0612', '0613', '0614', '0615', '0616','0617', '0618']"
   ]
  },
  {
   "cell_type": "code",
   "execution_count": 77,
   "metadata": {},
   "outputs": [
    {
     "output_type": "execute_result",
     "data": {
      "text/plain": [
       "7"
      ]
     },
     "metadata": {},
     "execution_count": 77
    }
   ],
   "source": [
    "len(day_of_week)"
   ]
  },
  {
   "cell_type": "code",
   "execution_count": 78,
   "metadata": {},
   "outputs": [],
   "source": [
    "test_day_of_week=[]\n",
    "for i in day_of_week:\n",
    "    test_day_of_week+=[dates_dict[i] for j in range(176)]\n",
    "    # test_day_of_week+=numpy.repeat([dates_dict[i]],176,axis=0)"
   ]
  },
  {
   "cell_type": "code",
   "execution_count": 79,
   "metadata": {},
   "outputs": [],
   "source": [
    "numpy.save(r'C:\\Users\\e-wel\\Documents\\Python Scripts\\DeepPF\\log_1\\validate_day_of_week.npy',test_day_of_week)"
   ]
  },
  {
   "cell_type": "code",
   "execution_count": null,
   "metadata": {},
   "outputs": [],
   "source": []
  }
 ],
 "metadata": {
  "kernelspec": {
   "name": "python372jvsc74a57bd0be0b56fde7ab4dd5a7b857b05c420f1624be72fede588761e7b5d962331e4a2a",
   "display_name": "Python 3.7.2 64-bit"
  },
  "language_info": {
   "codemirror_mode": {
    "name": "ipython",
    "version": 3
   },
   "file_extension": ".py",
   "mimetype": "text/x-python",
   "name": "python",
   "nbconvert_exporter": "python",
   "pygments_lexer": "ipython3",
   "version": "3.7.2-final"
  },
  "metadata": {
   "interpreter": {
    "hash": "cdb9206ad2f7fb042cb0a44314d54fa2455aaa8b1a5039376203ce80a767191e"
   }
  }
 },
 "nbformat": 4,
 "nbformat_minor": 4
}