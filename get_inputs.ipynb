{
 "cells": [
  {
   "cell_type": "code",
   "execution_count": 1,
   "metadata": {},
   "outputs": [],
   "source": [
    "import numpy\n",
    "import matplotlib.pyplot as plt"
   ]
  },
  {
   "cell_type": "code",
   "execution_count": 2,
   "metadata": {},
   "outputs": [],
   "source": [
    "total=numpy.load(r'C:\\Users\\e-wel\\Documents\\Python Scripts\\60天统计\\间隔_5min_init.npy',allow_pickle=True).item()\n",
    "info=numpy.load(r'C:\\Users\\e-wel\\Documents\\Python Scripts\\60天统计\\路段信息_简略.npy',allow_pickle=True).item()"
   ]
  },
  {
   "cell_type": "code",
   "execution_count": 1,
   "metadata": {},
   "outputs": [],
   "source": [
    "weekdays_index=[2, 3, 4, 7, 8, 9, 10, 11, 14, 15, 16, 17, 18, 21, 22, 23, 24, 25, 28, 29, 30, 31, 34, 35, 36, 37, 38, 41, 42, 43, 44, 45, 49]"
   ]
  },
  {
   "cell_type": "code",
   "execution_count": 2,
   "metadata": {},
   "outputs": [],
   "source": [
    "weekdays_index_test=[50, 51, 52,55, 56, 57, 58, 59 ]"
   ]
  },
  {
   "cell_type": "code",
   "execution_count": 23,
   "metadata": {},
   "outputs": [],
   "source": [
    "non_holidays_index=[2, 3, 4, 5, 6, 7, 8, 9, 10, 11, 12, 13, 14, 15, 16, 17, 18, 19, 20, 21, 22, 23, 24, 25, 26, 27, 28, 29, 30, 31, 32, 33, 34, 35, 36, 37, 38, 39, 40, 41, 42, 43, 44, 45 ]"
   ]
  },
  {
   "cell_type": "code",
   "execution_count": 21,
   "metadata": {},
   "outputs": [],
   "source": [
    "non_holidays_index_test=[49, 50, 51, 52, 53, 54, 55, 56, 57, 58, 59]"
   ]
  },
  {
   "cell_type": "code",
   "execution_count": 22,
   "metadata": {},
   "outputs": [
    {
     "output_type": "execute_result",
     "data": {
      "text/plain": [
       "11"
      ]
     },
     "metadata": {},
     "execution_count": 22
    }
   ],
   "source": [
    "len(non_holidays_index_test)"
   ]
  },
  {
   "cell_type": "code",
   "execution_count": 4,
   "metadata": {},
   "outputs": [],
   "source": [
    "# targets=[54, 56, 58, 316, 45, 246, 42, 38, 52, 118, 24, 23]\n",
    "targets=[5, 3, 43, 44,46, 138, 34, 32, 297]+[316,59,71,57,55,153,152,221,385,42]\n",
    "train={}\n",
    "test={}\n",
    "for seg in targets:\n",
    "    train[seg]=[total[seg][i] for i in range(48)]\n",
    "    test[seg]=[total[seg][i] for i in range(48,60)]"
   ]
  },
  {
   "cell_type": "code",
   "execution_count": 5,
   "metadata": {},
   "outputs": [
    {
     "output_type": "stream",
     "name": "stdout",
     "text": [
      "5 25.27\n3 28.04\n43 20.95\n44 25.47\n46 22.14\n138 36.81\n34 21.25\n32 22.04\n297 22.75\n316 31.13\n59 30.42\n71 23.99\n57 21.05\n55 13.23\n153 17.9\n152 19.23\n221 29.9\n385 22.69\n42 16.39\n"
     ]
    }
   ],
   "source": [
    "for seg in targets:\n",
    "    seg_len=float(info[str(seg)][5])\n",
    "    len_arr=numpy.array([seg_len for i in range(48*180)])\n",
    "    len_arr=len_arr.reshape((48,180))\n",
    "    speed=numpy.around(len_arr*3.6/train[seg],2)\n",
    "    # print(numpy.std(speed))\n",
    "    print(seg,numpy.around(numpy.mean(speed),2))"
   ]
  },
  {
   "cell_type": "code",
   "execution_count": 6,
   "metadata": {},
   "outputs": [],
   "source": [
    "def get_ewa(series,look_back_span):\n",
    "    ewa=[numpy.mean(series[:look_back_span])]\n",
    "    index=0\n",
    "    for value in series[look_back_span:]:\n",
    "        weight=2/(1+value)\n",
    "        ewa.append(value*weight+ewa[index]*(1-weight))\n",
    "        index+=1\n",
    "    return ewa"
   ]
  },
  {
   "cell_type": "code",
   "execution_count": 17,
   "metadata": {},
   "outputs": [],
   "source": [
    "for seg in targets:\n",
    "    tmp=[get_ewa(day,4) for day in train[seg]]\n",
    "    train[seg]=tmp"
   ]
  },
  {
   "source": [
    "## 归一化"
   ],
   "cell_type": "markdown",
   "metadata": {}
  },
  {
   "cell_type": "code",
   "execution_count": 18,
   "metadata": {},
   "outputs": [],
   "source": [
    "max_min_time={}"
   ]
  },
  {
   "cell_type": "code",
   "execution_count": 19,
   "metadata": {},
   "outputs": [],
   "source": [
    "train_days,train_dim=(len(train[targets[0]]),len(train[targets[0]][0]))\n",
    "test_days,test_dim=(len(test[targets[0]]),len(test[targets[0]][0]))\n",
    "for seg in targets:\n",
    "    train_arr=numpy.array(train[seg])\n",
    "    test_arr=numpy.array(test[seg])\n",
    "    max_train=numpy.max(train_arr)\n",
    "    min_train=numpy.min(train_arr) \n",
    "    max_min_time[seg]=[max_train,min_train]\n",
    "    # max_train,min_train=max_min_time[seg]\n",
    "    bias=(max_train-min_train)\n",
    "\n",
    "    min_test_arr=[]\n",
    "    for i in range(test_days):\n",
    "        min_test_arr.append([min_train]*test_dim)\n",
    "    min_train_arr=[]\n",
    "    for i in range(train_days):\n",
    "        min_train_arr.append([min_train]*train_dim)\n",
    "\n",
    "    min_train_arr=numpy.array(min_train_arr)#array化\n",
    "    min_test_arr=numpy.array(min_test_arr)#array化\n",
    "\n",
    "    train_arr=numpy.around((train_arr-min_train_arr)/bias,2)\n",
    "    test_arr=numpy.around((test_arr-min_test_arr)/bias,2)\n",
    "\n",
    "    # train[seg]=train_arr[:32]\n",
    "    train[seg]=train_arr\n",
    "    test[seg]=test_arr\n",
    "    # validation[seg]=train_arr[32:]"
   ]
  },
  {
   "cell_type": "code",
   "execution_count": 20,
   "metadata": {},
   "outputs": [
    {
     "output_type": "execute_result",
     "data": {
      "text/plain": [
       "{5: [119.05935933078378, 33.349999999999994],\n",
       " 3: [139.5, 46.0],\n",
       " 43: [85.4417573918544, 23.0],\n",
       " 44: [42.90484734256568, 23.0],\n",
       " 46: [123.25, 38.0],\n",
       " 138: [199.10377691912151, 72.6],\n",
       " 34: [98.13854500484459, 25.0],\n",
       " 32: [254.5, 47.0],\n",
       " 297: [133.24436954846146, 44.0],\n",
       " 316: [183.13197969543145, 36.0],\n",
       " 59: [90.01347911474551, 46.0],\n",
       " 71: [104.96755728211456, 40.0],\n",
       " 57: [284.0, 50.0],\n",
       " 55: [107.75, 27.0],\n",
       " 153: [180.25, 48.0],\n",
       " 152: [172.22564912405616, 68.0],\n",
       " 221: [141.19167274271376, 71.0],\n",
       " 385: [168.75, 68.0],\n",
       " 42: [104.48327849376622, 34.0]}"
      ]
     },
     "metadata": {},
     "execution_count": 20
    }
   ],
   "source": [
    "max_min_time"
   ]
  },
  {
   "cell_type": "code",
   "execution_count": 21,
   "metadata": {},
   "outputs": [],
   "source": [
    "numpy.save(r'C:\\Users\\e-wel\\Documents\\Python Scripts\\DeepPF\\log_7\\train_dpf.npy',train)\n",
    "numpy.save(r'C:\\Users\\e-wel\\Documents\\Python Scripts\\DeepPF\\log_7\\test_dpf.npy',test)"
   ]
  },
  {
   "cell_type": "code",
   "execution_count": 12,
   "metadata": {},
   "outputs": [],
   "source": [
    "mean_mat={}\n",
    "for seg in targets:\n",
    "    tmp=numpy.array(train[seg])\n",
    "    mean_mat[seg]=numpy.around(numpy.mean(tmp,axis=0),2)"
   ]
  },
  {
   "cell_type": "code",
   "execution_count": 12,
   "metadata": {},
   "outputs": [
    {
     "output_type": "execute_result",
     "data": {
      "text/plain": [
       "(177,)"
      ]
     },
     "metadata": {},
     "execution_count": 12
    }
   ],
   "source": [
    "train[5][0].shape"
   ]
  },
  {
   "source": [
    "## 聚类"
   ],
   "cell_type": "markdown",
   "metadata": {}
  },
  {
   "cell_type": "code",
   "execution_count": 22,
   "metadata": {},
   "outputs": [],
   "source": [
    "numpy.save(r'C:\\Users\\e-wel\\Documents\\Python Scripts\\DeepPF\\log_7\\mean_mat.npy',mean_mat)"
   ]
  },
  {
   "cell_type": "code",
   "execution_count": 14,
   "metadata": {},
   "outputs": [],
   "source": [
    "mean_mat_slot_20={}\n",
    "for seg in mean_mat:\n",
    "    new_record=[numpy.around(numpy.mean(mean_mat[seg][i*12:(i+1)*12]),2) for i in range(175//12)]\n",
    "    mean_mat_slot_20[seg]=new_record"
   ]
  },
  {
   "cell_type": "code",
   "execution_count": 150,
   "metadata": {},
   "outputs": [],
   "source": [
    "mean_mat_slot_20_denorm={}\n",
    "for seg in mean_mat_slot_20:\n",
    "    max_val,min_val=max_min_time[seg]\n",
    "    bias=max_val-min_val\n",
    "    min_arr=numpy.array([min_val for i in range(175//12)])\n",
    "    mean_mat_slot_20_denorm[seg]=list((numpy.array(mean_mat_slot_20[seg])*bias+min_arr))"
   ]
  },
  {
   "cell_type": "code",
   "execution_count": 15,
   "metadata": {},
   "outputs": [],
   "source": [
    "mean_mat_slot_20_norm={}\n",
    "for seg in mean_mat_slot_20:\n",
    "    max_val=max(mean_mat_slot_20[seg])\n",
    "    min_val=min(mean_mat_slot_20[seg])\n",
    "    min_arr=numpy.array([min_val for i in range(175//12)])\n",
    "    mean_mat_slot_20_norm[seg]=list(numpy.around((mean_mat_slot_20[seg]-min_arr)/(max_val-min_val),2))"
   ]
  },
  {
   "cell_type": "code",
   "execution_count": null,
   "metadata": {},
   "outputs": [],
   "source": [
    "print(mean_mat_slot_20_norm)"
   ]
  },
  {
   "cell_type": "code",
   "execution_count": 144,
   "metadata": {},
   "outputs": [
    {
     "output_type": "execute_result",
     "data": {
      "text/plain": [
       "array([[1.        , 0.82204378],\n",
       "       [0.82204378, 1.        ]])"
      ]
     },
     "metadata": {},
     "execution_count": 144
    }
   ],
   "source": [
    "numpy.corrcoef(mean_mat_slot_20_norm[54],mean_mat_slot_20_norm[3])"
   ]
  },
  {
   "cell_type": "code",
   "execution_count": 29,
   "metadata": {},
   "outputs": [],
   "source": [
    "max_min_speed={}"
   ]
  },
  {
   "cell_type": "code",
   "execution_count": 31,
   "metadata": {},
   "outputs": [],
   "source": [
    "for seg in targets:\n",
    "    seg_len=float(info[str(seg)][5])\n",
    "    max_train,min_train=max_min_time[seg]\n",
    "    max_min_speed[seg]=[seg_len*3.6/max_train,seg_len*3.6/min_train]"
   ]
  },
  {
   "cell_type": "code",
   "execution_count": 58,
   "metadata": {},
   "outputs": [],
   "source": [
    "variance_2={}\n",
    "for seg in target_segs:\n",
    "    time_arr=numpy.array(train[seg])\n",
    "    variance_2[seg]=[numpy.around(numpy.mean(time_arr),2),numpy.around(numpy.std(time_arr),2)]"
   ]
  },
  {
   "cell_type": "code",
   "execution_count": 59,
   "metadata": {},
   "outputs": [
    {
     "output_type": "stream",
     "name": "stdout",
     "text": [
      "39 0.03567099567099567\n51 0.0\n37 0.0\n41 0.001038961038961039\n43 0.004675324675324675\n44 0.03497835497835498\n385 0.03722943722943723\n139 0.009696969696969697\n57 0.0008658008658008658\n59 0.0\n55 0.04952380952380952\n53 0.0\n"
     ]
    }
   ],
   "source": [
    "for seg in target_segs:\r\n",
    "    time_arr=numpy.array(train[seg])\r\n",
    "    day,record=time_arr.shape\r\n",
    "    tmp_record=[variance_2[seg][0]]*record\r\n",
    "    tmp_day=[tmp_record]*day\r\n",
    "    mean=numpy.array(tmp_day)\r\n",
    "    tmp_record=[variance_2[seg][1]]*record\r\n",
    "    tmp_day=[tmp_record]*day\r\n",
    "    std=numpy.array(tmp_day)\r\n",
    "    print(seg,numpy.sum(numpy.where(numpy.absolute(time_arr-mean)>3*std,1,0))/day/record)"
   ]
  },
  {
   "cell_type": "code",
   "execution_count": 50,
   "metadata": {},
   "outputs": [],
   "source": [
    "variance_1={}"
   ]
  },
  {
   "cell_type": "code",
   "execution_count": 51,
   "metadata": {},
   "outputs": [],
   "source": [
    "for seg in target_segs:\n",
    "    time_arr=numpy.array(train[seg])\n",
    "    variance_1[seg]=[numpy.around(numpy.mean(time_arr),2),numpy.around(numpy.std(time_arr),2)]"
   ]
  },
  {
   "cell_type": "code",
   "execution_count": 52,
   "metadata": {},
   "outputs": [
    {
     "output_type": "stream",
     "name": "stdout",
     "text": [
      "54 0.0\n56 0.0\n58 0.0\n316 0.022337662337662337\n45 0.008658008658008658\n246 0.03913419913419913\n42 0.03186147186147186\n38 0.0\n52 0.0\n118 0.03722943722943723\n112 0.013160173160173162\n185 0.0048484848484848485\n"
     ]
    }
   ],
   "source": [
    "for seg in target_segs:\n",
    "    time_arr=numpy.array(train[seg])\n",
    "    day,record=time_arr.shape\n",
    "    tmp_record=[variance_1[seg][0]]*record\n",
    "    tmp_day=[tmp_record]*day\n",
    "    mean=numpy.array(tmp_day)\n",
    "    tmp_record=[variance_1[seg][1]]*record\n",
    "    tmp_day=[tmp_record]*day\n",
    "    std=numpy.array(tmp_day)\n",
    "    print(seg,numpy.sum(numpy.where(numpy.absolute(time_arr-mean)>3*std,1,0))/day/record)"
   ]
  },
  {
   "cell_type": "code",
   "execution_count": 36,
   "metadata": {},
   "outputs": [],
   "source": [
    "variance={}"
   ]
  },
  {
   "cell_type": "code",
   "execution_count": 37,
   "metadata": {},
   "outputs": [],
   "source": [
    "for seg in target_segs:\n",
    "    time_arr=numpy.array(train[seg])\n",
    "    # print(numpy.std(speed))\n",
    "    variance[seg]=[numpy.around(numpy.mean(time_arr),2),numpy.around(numpy.std(time_arr),2)]"
   ]
  },
  {
   "cell_type": "code",
   "execution_count": 38,
   "metadata": {},
   "outputs": [
    {
     "output_type": "execute_result",
     "data": {
      "text/plain": [
       "{5: [56.85, 12.22],\n",
       " 3: [69.09, 13.28],\n",
       " 43: [46.24, 9.4],\n",
       " 44: [36.14, 3.21],\n",
       " 46: [74.02, 15.13],\n",
       " 138: [98.19, 22.07],\n",
       " 34: [50.07, 12.36],\n",
       " 32: [96.32, 28.09],\n",
       " 297: [74.97, 20.81]}"
      ]
     },
     "metadata": {},
     "execution_count": 38
    }
   ],
   "source": [
    "variance"
   ]
  },
  {
   "cell_type": "code",
   "execution_count": 39,
   "metadata": {},
   "outputs": [
    {
     "output_type": "execute_result",
     "data": {
      "text/plain": [
       "(33, 175)"
      ]
     },
     "metadata": {},
     "execution_count": 39
    }
   ],
   "source": [
    "time_arr.shape"
   ]
  },
  {
   "cell_type": "code",
   "execution_count": 40,
   "metadata": {},
   "outputs": [
    {
     "output_type": "stream",
     "name": "stdout",
     "text": [
      "5 0.013333333333333334\n3 0.0029437229437229437\n43 0.004675324675324675\n44 0.03497835497835498\n46 0.0\n138 0.024069264069264067\n34 0.0025974025974025974\n32 0.004329004329004329\n297 0.0\n"
     ]
    }
   ],
   "source": [
    "for seg in target_segs:\n",
    "    time_arr=numpy.array(train[seg])\n",
    "    day,record=time_arr.shape\n",
    "    tmp_record=[variance[seg][0]]*record\n",
    "    tmp_day=[tmp_record]*day\n",
    "    mean=numpy.array(tmp_day)\n",
    "    tmp_record=[variance[seg][1]]*record\n",
    "    tmp_day=[tmp_record]*day\n",
    "    std=numpy.array(tmp_day)\n",
    "    print(seg,numpy.sum(numpy.where(numpy.absolute(time_arr-mean)>3*std,1,0))/day/record*100)"
   ]
  },
  {
   "cell_type": "code",
   "execution_count": null,
   "metadata": {},
   "outputs": [],
   "source": [
    "for seg in target_segs:\n",
    "    seg_len=float(info[str(seg)][5])\n",
    "    len_arr=numpy.array([seg_len for i in range(33*175)])\n",
    "    len_arr=len_arr.reshape((33,175))\n",
    "    speed=numpy.around(len_arr*3.6/train[seg],2)\n",
    "    # print(numpy.std(speed))\n",
    "    variance[seg]=[numpy.around(numpy.mean(speed),2),numpy.around(numpy.std(speed),2)]"
   ]
  },
  {
   "cell_type": "code",
   "execution_count": 15,
   "metadata": {},
   "outputs": [
    {
     "output_type": "stream",
     "name": "stdout",
     "text": [
      "112 0.009548611111111112\n185 0.00017361111111111112\n186 0.0012152777777777778\n192 0.01545138888888889\n193 0.009027777777777777\n272 0.0\n148 0.021527777777777778\n188 0.0\n217 0.003993055555555555\n225 0.0012152777777777778\n"
     ]
    }
   ],
   "source": [
    "for seg in target_segs:\n",
    "    seg_len=float(info[str(seg)][5])\n",
    "    min_speed_tolerance=15\n",
    "    min_speed=20\n",
    "    max_time_tolerance=seg_len*3.6/min_speed_tolerance\n",
    "    max_time=seg_len*3.6/min_speed\n",
    "    test_seg_arr=numpy.array(train[seg])\n",
    "    print(seg,numpy.sum(numpy.where(test_seg_arr>max_time_tolerance,1,0))/32/180)\n",
    "\n",
    "    # outliers=numpy.where(test_seg_arr>max_time_tolerance)#查看异常值位置\n",
    "    # outliers_num=len(outliers[0])"
   ]
  },
  {
   "cell_type": "code",
   "execution_count": 18,
   "metadata": {},
   "outputs": [],
   "source": [
    "seg_len=float(info[str(188)][5])\n",
    "outliers_value=[[seg_len*3.6/train[seg][outliers[0][i]][outliers[1][i]-1],seg_len*3.6/train[seg][outliers[0][i]][outliers[1][i]]] for i in range(outliers_num)]"
   ]
  },
  {
   "source": [
    "## 构造输入"
   ],
   "cell_type": "markdown",
   "metadata": {}
  },
  {
   "cell_type": "code",
   "execution_count": 94,
   "metadata": {
    "tags": []
   },
   "outputs": [],
   "source": [
    "#训练集\n",
    "X={}\n",
    "for seg,record in train.items():\n",
    "    input_c=[]\n",
    "    # input_d=[]\n",
    "    # input_w=[]\n",
    "    output=[]\n",
    "    for day in range(33):\n",
    "        valid=record[day] # a list\n",
    "        for i in range(171):\n",
    "            input_c.append(valid[i:i+4])#前4个时间步\n",
    "            output.append([valid[i+4]])\n",
    "            # tmp_d=[record[day-step][i] for step in range(4)] #前四天\n",
    "            # tmp_w=[record[(day-step*7)*180+i] for step in range(1)]#前一周\n",
    "            # input_d.append(tmp_d)\n",
    "            # input_w.append(tmp_w)\n",
    "    X[seg]=[input_c,output]\n",
    "    # train_seg[seg]=[input_c,input_d,output]\n",
    "    # train_seg[seg]=[input_c,input_d,input_w,output]\n"
   ]
  },
  {
   "cell_type": "code",
   "execution_count": null,
   "metadata": {},
   "outputs": [],
   "source": [
    "train_days,train_dim=train[5].shape"
   ]
  },
  {
   "cell_type": "code",
   "execution_count": 72,
   "metadata": {},
   "outputs": [
    {
     "output_type": "execute_result",
     "data": {
      "text/plain": [
       "5643"
      ]
     },
     "metadata": {},
     "execution_count": 72
    }
   ],
   "source": [
    "len(train_seg[5][0])"
   ]
  },
  {
   "cell_type": "code",
   "execution_count": 76,
   "metadata": {},
   "outputs": [],
   "source": [
    "input_x=X[targets[0]][1]\n",
    "for seg in targets[1:]:\n",
    "    input_c=X[seg][1]\n",
    "    input_x=numpy.concatenate((input_x,input_c),axis=1)\n"
   ]
  },
  {
   "cell_type": "code",
   "execution_count": 77,
   "metadata": {},
   "outputs": [
    {
     "output_type": "execute_result",
     "data": {
      "text/plain": [
       "(5643, 36)"
      ]
     },
     "metadata": {},
     "execution_count": 77
    }
   ],
   "source": [
    "input_0.shape"
   ]
  },
  {
   "cell_type": "code",
   "execution_count": 95,
   "metadata": {},
   "outputs": [],
   "source": [
    "output_x=X[targets[0]][1]\n",
    "for seg in targets[1:]:\n",
    "    output=X[seg][1]\n",
    "    output_x=numpy.concatenate((output_x,output),axis=1)"
   ]
  },
  {
   "cell_type": "code",
   "execution_count": 96,
   "metadata": {},
   "outputs": [
    {
     "output_type": "execute_result",
     "data": {
      "text/plain": [
       "(5643, 9)"
      ]
     },
     "metadata": {},
     "execution_count": 96
    }
   ],
   "source": [
    "output_0.shape"
   ]
  },
  {
   "cell_type": "code",
   "execution_count": null,
   "metadata": {},
   "outputs": [],
   "source": [
    "def get_input(targets):\n",
    "    train_flat=numpy.array([numpy.ravel(train[seg]) for seg in targets])\n",
    "    train_time_steps=numpy.array([train_flat[:,time_step] for time_step in range(train_flat.shape[1])])\n",
    "    test_flat=numpy.array([numpy.ravel(test[seg]) for seg in targets])\n",
    "    test_time_steps=numpy.array([test_flat[:,time_step] for time_step in range(test_flat.shape[1])])\n",
    "    train_in_c=[]\n",
    "    train_out_c=[]\n",
    "    train_in_d=[]\n",
    "    for day in range(4,train_days):\n",
    "        day_base=train_time_steps[day*train_dim:(day+1)*train_dim]\n",
    "        for i in range(train_dim-look_back_span):\n",
    "            train_in_c.append(day_base[i:i+look_back_span])\n",
    "            train_out_c.append(day_base[i+look_back_span]) \n",
    "            train_in_d.append([train_time_steps[(day-i)*train_dim+i] for i in range(look_back_days)])\n",
    "    test_in_c=[]\n",
    "    test_out_c=[]\n",
    "    test_in_d=[]\n",
    "    for day in range(test_days):\n",
    "        day_base=test_time_steps[day*test_dim:(day+1)*test_dim]\n",
    "        for i in range(test_dim-look_back_span):\n",
    "            test_in_c.append(day_base[i:i+look_back_span])\n",
    "            test_out_c.append(day_base[i+look_back_span]) \n",
    "            test_in_d.append([test_time_steps[(day-i)*train_dim+i] for i in range(look_back_days)])\n",
    "    train_in_c=numpy.array(train_in_c)\n",
    "    train_out_c=numpy.array(train_out_c)\n",
    "    test_in_c=numpy.array(test_in_c)\n",
    "    test_out_c=numpy.array(test_out_c)\n",
    "    train_in_d=numpy.array(train_in_d)\n",
    "    test_in_d=numpy.array(test_in_d)\n",
    "    return train_in_c,test_in_c,train_out_c,test_out_c,train_in_d,test_in_d"
   ]
  },
  {
   "cell_type": "code",
   "execution_count": 103,
   "metadata": {},
   "outputs": [],
   "source": [
    "#测试集\n",
    "Y={}\n",
    "for seg,record in test.items():\n",
    "    input_c=[]\n",
    "    input_d=[]\n",
    "    input_w=[]\n",
    "    output=[]\n",
    "    for day in range(8):\n",
    "        valid=record[day] # a list\n",
    "        for i in range(176):\n",
    "            input_c.append(valid[i:i+4])\n",
    "            output.append([valid[i+4]])\n",
    "            # tmp_d=[record[day-step][i] for step in range(4)] #前四天\n",
    "            # tmp_w=[record[(day-step*7)*180+i] for step in range(1)]#前一周\n",
    "            # input_d.append(tmp_d)\n",
    "            # input_w.append(tmp_w)\n",
    "    # Y[seg]=[input_c,input_d,input_w,output]\n",
    "    # Y[seg]=[input_c,input_d,output]\n",
    "    Y[seg]=[input_c,output]"
   ]
  },
  {
   "cell_type": "code",
   "execution_count": null,
   "metadata": {},
   "outputs": [],
   "source": [
    "#测试集\n",
    "Y={}\n",
    "for seg,record in test.items():\n",
    "    input_c=[]\n",
    "    input_d=[]\n",
    "    input_w=[]\n",
    "    output=[]\n",
    "    for day in range(8):\n",
    "        valid=record[day] # a list\n",
    "        for i in range(176):\n",
    "            input_c.append(valid[i:i+4])\n",
    "            output.append([valid[i+4]])\n",
    "    Y[seg]=[input_c,output]"
   ]
  },
  {
   "cell_type": "code",
   "execution_count": 85,
   "metadata": {},
   "outputs": [],
   "source": [
    "input_y=Y[targets[0]][0]\n",
    "for seg in targets[1:]:\n",
    "    input_c=Y[seg][0]\n",
    "    input_y=numpy.concatenate((input_y,input_c),axis=1)"
   ]
  },
  {
   "cell_type": "code",
   "execution_count": 97,
   "metadata": {},
   "outputs": [
    {
     "output_type": "execute_result",
     "data": {
      "text/plain": [
       "(1408, 36)"
      ]
     },
     "metadata": {},
     "execution_count": 97
    }
   ],
   "source": [
    "input_1.shape"
   ]
  },
  {
   "cell_type": "code",
   "execution_count": 104,
   "metadata": {},
   "outputs": [],
   "source": [
    "output_y=Y[targets[0]][1]\n",
    "for seg in targets[1:]:\n",
    "    output_c=Y[seg][1]\n",
    "    output_y=numpy.concatenate((output_y,output_c),axis=1)"
   ]
  },
  {
   "cell_type": "code",
   "execution_count": 105,
   "metadata": {},
   "outputs": [
    {
     "output_type": "execute_result",
     "data": {
      "text/plain": [
       "(1408, 9)"
      ]
     },
     "metadata": {},
     "execution_count": 105
    }
   ],
   "source": [
    "output_1.shape"
   ]
  },
  {
   "cell_type": "code",
   "execution_count": 107,
   "metadata": {},
   "outputs": [
    {
     "output_type": "execute_result",
     "data": {
      "text/plain": [
       "(5643, 9)"
      ]
     },
     "metadata": {},
     "execution_count": 107
    }
   ],
   "source": [
    "output_0.shape"
   ]
  },
  {
   "cell_type": "code",
   "execution_count": null,
   "metadata": {},
   "outputs": [],
   "source": [
    "numpy.save(r'C:\\Users\\e-wel\\Documents\\Python Scripts\\DeepPF\\log_6\\train_input.npy',[input_0])\n"
   ]
  },
  {
   "cell_type": "code",
   "execution_count": 110,
   "metadata": {},
   "outputs": [],
   "source": [
    "numpy.save(r'C:\\Users\\e-wel\\Documents\\Python Scripts\\DeepPF\\log_6\\train_input.npy',input_x)\n",
    "numpy.save(r'C:\\Users\\e-wel\\Documents\\Python Scripts\\DeepPF\\log_6\\train_output.npy',output_x)\n",
    "numpy.save(r'C:\\Users\\e-wel\\Documents\\Python Scripts\\DeepPF\\log_6\\test_input.npy',input_y)\n",
    "numpy.save(r'C:\\Users\\e-wel\\Documents\\Python Scripts\\DeepPF\\log_6\\test_output.npy',output_y)"
   ]
  },
  {
   "cell_type": "code",
   "execution_count": 41,
   "metadata": {},
   "outputs": [],
   "source": [
    "#验证集\n",
    "validation_seg={}\n",
    "for seg,record in validation.items():\n",
    "    input_c=[]\n",
    "    input_d=[]\n",
    "    input_w=[]\n",
    "    output=[]\n",
    "    for day in range(4,12):\n",
    "        valid=record[day] # a list\n",
    "        for i in range(174):\n",
    "            input_c.append(valid[i:i+4])\n",
    "            output.append(valid[i+4])\n",
    "            # tmp_d=[record[(day-step)*180+i] for step in range(2)] #前四天\n",
    "            tmp_d=[record[day-step][i] for step in range(4)] #前四天\n",
    "\n",
    "            # tmp_w=[record[(day-step*7)*180+i] for step in range(1)]#前一周\n",
    "            input_d.append(tmp_d)\n",
    "            # input_w.append(tmp_w)\n",
    "    validation_seg[seg]=[input_c,input_d,output]"
   ]
  },
  {
   "cell_type": "code",
   "execution_count": 44,
   "metadata": {},
   "outputs": [],
   "source": [
    "numpy.save(r'C:\\Users\\e-wel\\Documents\\Python Scripts\\DeepPF\\log_5\\train.npy',train_seg)\n",
    "numpy.save(r'C:\\Users\\e-wel\\Documents\\Python Scripts\\DeepPF\\log_5\\test.npy',test_seg)\n",
    "numpy.save(r'C:\\Users\\e-wel\\Documents\\Python Scripts\\DeepPF\\log_5\\validation.npy',validation_seg)"
   ]
  },
  {
   "cell_type": "code",
   "execution_count": null,
   "metadata": {},
   "outputs": [],
   "source": [
    "time_stamp=numpy.load(r'C:\\Users\\e-wel\\Documents\\Python Scripts\\40天原始记录\\time_stamp.npy',allow_pickle=True).item()\n",
    "ts_list=list(time_stamp.keys())"
   ]
  },
  {
   "cell_type": "code",
   "execution_count": null,
   "metadata": {},
   "outputs": [],
   "source": [
    "ts=[]\n",
    "for each in ts_list:\n",
    "    tmp=each.split(':')\n",
    "    ts.append(tmp[0]+tmp[1])"
   ]
  },
  {
   "cell_type": "code",
   "execution_count": null,
   "metadata": {},
   "outputs": [],
   "source": [
    "ts[:5]"
   ]
  },
  {
   "cell_type": "code",
   "execution_count": null,
   "metadata": {},
   "outputs": [],
   "source": [
    "new_ts=[]\n",
    "for i in range(180):\n",
    "    new_ts.append(ts[i*5])"
   ]
  },
  {
   "cell_type": "code",
   "execution_count": null,
   "metadata": {},
   "outputs": [],
   "source": [
    "from keras.preprocessing.text import one_hot"
   ]
  },
  {
   "cell_type": "code",
   "execution_count": null,
   "metadata": {},
   "outputs": [],
   "source": [
    "encoded_time_stamp=[]\n",
    "for i in new_ts:\n",
    "    encoded_time_stamp+=one_hot(i,180)"
   ]
  },
  {
   "cell_type": "code",
   "execution_count": null,
   "metadata": {},
   "outputs": [],
   "source": [
    "numpy.save(r'C:\\Users\\e-wel\\Documents\\Python Scripts\\DeepPF\\encoded_time_stamp.npy',encoded_time_stamp)"
   ]
  },
  {
   "cell_type": "code",
   "execution_count": 5,
   "metadata": {},
   "outputs": [],
   "source": [
    "dates_dict=numpy.load(r'C:\\Users\\e-wel\\Documents\\Python Scripts\\60天统计\\收集日期对应工作日.npy',allow_pickle=True).item()"
   ]
  },
  {
   "cell_type": "code",
   "execution_count": 8,
   "metadata": {},
   "outputs": [],
   "source": [
    "for date in dates_dict.keys():\n",
    "    dates_dict[date]-=1"
   ]
  },
  {
   "cell_type": "code",
   "execution_count": 10,
   "metadata": {},
   "outputs": [],
   "source": [
    "numpy.save(r'C:\\Users\\e-wel\\Desktop\\day_of_week.npy',dates_dict)"
   ]
  },
  {
   "cell_type": "code",
   "execution_count": null,
   "metadata": {},
   "outputs": [],
   "source": [
    "test_day_of_week=[]\n",
    "for i in day_of_week:\n",
    "    test_day_of_week+=[dates_dict[i] for j in range(174)]\n",
    "    # test_day_of_week+=numpy.repeat([dates_dict[i]],176,axis=0)"
   ]
  },
  {
   "cell_type": "code",
   "execution_count": null,
   "metadata": {},
   "outputs": [],
   "source": [
    "numpy.save(r'C:\\Users\\e-wel\\Documents\\Python Scripts\\DeepPF\\log_1\\validate_day_of_week.npy',test_day_of_week)"
   ]
  },
  {
   "source": [
    "## Deep PF 输入准备"
   ],
   "cell_type": "markdown",
   "metadata": {}
  },
  {
   "cell_type": "code",
   "execution_count": 13,
   "metadata": {},
   "outputs": [],
   "source": [
    "test_index=[i for i in range(46,60)]\n",
    "train_index=[i for i in range(46)]"
   ]
  },
  {
   "cell_type": "code",
   "execution_count": 15,
   "metadata": {},
   "outputs": [],
   "source": [
    "# targets=[5, 3, 43, 44,46, 138, 34, 32, 297]\n",
    "targets=[5, 3, 43, 44,46, 138, 34, 32, 297]+[316,59,71,57,55,153,152,221,385,42]\n",
    "train={}\n",
    "test={}\n",
    "for seg in targets:\n",
    "    train[seg]=[total[seg][i] for i in train_index]\n",
    "    test[seg]=[total[seg][i] for i in test_index]"
   ]
  },
  {
   "cell_type": "code",
   "execution_count": 16,
   "metadata": {},
   "outputs": [
    {
     "output_type": "execute_result",
     "data": {
      "text/plain": [
       "(46, 14)"
      ]
     },
     "metadata": {},
     "execution_count": 16
    }
   ],
   "source": [
    "len(train[5]),len(test[seg])"
   ]
  },
  {
   "cell_type": "code",
   "execution_count": null,
   "metadata": {},
   "outputs": [],
   "source": []
  }
 ],
 "metadata": {
  "kernelspec": {
   "name": "python372jvsc74a57bd0be0b56fde7ab4dd5a7b857b05c420f1624be72fede588761e7b5d962331e4a2a",
   "display_name": "Python 3.7.2 64-bit ('venv_ids': venv)"
  },
  "language_info": {
   "codemirror_mode": {
    "name": "ipython",
    "version": 3
   },
   "file_extension": ".py",
   "mimetype": "text/x-python",
   "name": "python",
   "nbconvert_exporter": "python",
   "pygments_lexer": "ipython3",
   "version": "3.7.2"
  },
  "metadata": {
   "interpreter": {
    "hash": "cdb9206ad2f7fb042cb0a44314d54fa2455aaa8b1a5039376203ce80a767191e"
   }
  }
 },
 "nbformat": 4,
 "nbformat_minor": 4
}