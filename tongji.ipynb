{
 "cells": [
  {
   "cell_type": "code",
   "execution_count": 5,
   "metadata": {},
   "outputs": [],
   "source": [
    "import numpy\n",
    "import matplotlib.pyplot as plt"
   ]
  },
  {
   "cell_type": "code",
   "execution_count": null,
   "metadata": {},
   "outputs": [],
   "source": [
    "received=numpy.load(r'C:\\Users\\e-wel\\Documents\\Python Scripts\\60天统计\\每天接受数量.npy',allow_pickle=True).item()"
   ]
  },
  {
   "cell_type": "code",
   "execution_count": null,
   "metadata": {},
   "outputs": [],
   "source": [
    "count_list=[]\n",
    "for seg in received.keys():\n",
    "    arr=numpy.array(received[seg])\n",
    "    if numpy.sum(numpy.where(arr>450,1,0))>59:\n",
    "        count_list.append(seg)"
   ]
  },
  {
   "cell_type": "code",
   "execution_count": null,
   "metadata": {},
   "outputs": [],
   "source": [
    "count_list"
   ]
  },
  {
   "cell_type": "code",
   "execution_count": null,
   "metadata": {},
   "outputs": [],
   "source": [
    "valid_index=[]\n",
    "for index,seg in enumerate(count_list):\n",
    "    if numpy.sum(numpy.where(numpy.array(received[seg])>200,1,0))>59:\n",
    "        valid_index.append(index)\n",
    "valid_index"
   ]
  },
  {
   "cell_type": "code",
   "execution_count": null,
   "metadata": {},
   "outputs": [],
   "source": [
    "for i in range(86):\n",
    "    for j in range(86-i-1):\n",
    "        if count_list[j]>count_list[j+1]:\n",
    "            tmp=count_list[j]\n",
    "            count_list[j]=count_list[j+1]\n",
    "            count_list[j+1]=tmp"
   ]
  },
  {
   "cell_type": "code",
   "execution_count": null,
   "metadata": {},
   "outputs": [],
   "source": [
    "count_arr=numpy.array(count_list)\n",
    "numpy.sum(numpy.where(count_arr>59,1,0))"
   ]
  },
  {
   "cell_type": "code",
   "execution_count": null,
   "metadata": {},
   "outputs": [],
   "source": [
    "numpy.array(count_list)"
   ]
  },
  {
   "cell_type": "code",
   "execution_count": 6,
   "metadata": {},
   "outputs": [],
   "source": [
    "section_info=numpy.load(r'C:\\Users\\e-wel\\Documents\\Python Scripts\\60天统计\\路段信息.npy',allow_pickle=True).item()"
   ]
  },
  {
   "cell_type": "code",
   "execution_count": null,
   "metadata": {},
   "outputs": [],
   "source": []
  },
  {
   "cell_type": "code",
   "execution_count": null,
   "metadata": {},
   "outputs": [],
   "source": [
    "new_info={}\n",
    "for seg,values in section_info.items():\n",
    "    new_info[values[0]]=values[1:]\n",
    "numpy.save(r'C:\\Users\\e-wel\\Documents\\Python Scripts\\60天统计\\路段信息_简略.npy',new_info)"
   ]
  },
  {
   "cell_type": "code",
   "execution_count": null,
   "metadata": {},
   "outputs": [],
   "source": [
    "for seg in count_list:\n",
    "    print(seg,new_info[str(seg)][0],new_info[str(seg)][3].split(',')[:2])"
   ]
  },
  {
   "cell_type": "code",
   "execution_count": 10,
   "metadata": {},
   "outputs": [],
   "source": [
    "flow=numpy.load(r'C:\\Users\\e-wel\\Documents\\Python Scripts\\5-6月记录\\0630\\0630_flow.npy',allow_pickle=True).item()"
   ]
  },
  {
   "cell_type": "code",
   "execution_count": 11,
   "metadata": {},
   "outputs": [
    {
     "output_type": "execute_result",
     "data": {
      "text/plain": [
       "False"
      ]
     },
     "metadata": {},
     "execution_count": 11
    }
   ],
   "source": [
    "'602011009100' in flow"
   ]
  },
  {
   "cell_type": "code",
   "execution_count": null,
   "metadata": {},
   "outputs": [],
   "source": [
    "info=numpy.load(r'C:\\Users\\e-wel\\Documents\\Python Scripts\\60天统计\\路段信息.npy',allow_pickle=True).item()"
   ]
  },
  {
   "cell_type": "code",
   "execution_count": null,
   "metadata": {},
   "outputs": [],
   "source": [
    "flow_seg=[int(info[seg][0]) for seg in flow.keys()]"
   ]
  },
  {
   "cell_type": "code",
   "execution_count": 7,
   "metadata": {},
   "outputs": [],
   "source": [
    "simple_info=numpy.load(r'C:\\Users\\e-wel\\Documents\\Python Scripts\\60天统计\\路段信息_简略.npy',allow_pickle=True).item()"
   ]
  },
  {
   "cell_type": "code",
   "execution_count": 9,
   "metadata": {},
   "outputs": [
    {
     "output_type": "execute_result",
     "data": {
      "text/plain": [
       "['胜利西路（芝山路-西洋坪路）',\n",
       " '1',\n",
       " '3.00',\n",
       " '117.63856,24.51634,117.63779,24.51643,117.63757,24.51645,117.63733,24.51648,117.63708,24.51657,117.63682,24.51674,117.63625,24.51718,117.63585,24.51754,117.63532,24.51798,117.63479,24.51827,117.63355,24.51875,117.63259,24.51912,117.63196,24.51934,117.63196,24.51935',\n",
       " '350602',\n",
       " '758.00',\n",
       " ['602011009100', '602011009201']]"
      ]
     },
     "metadata": {},
     "execution_count": 9
    }
   ],
   "source": [
    "simple_info['9']"
   ]
  },
  {
   "cell_type": "code",
   "execution_count": null,
   "metadata": {},
   "outputs": [],
   "source": [
    "for seg in (valid_segs):\n",
    "    plt.rcParams['figure.figsize']=(40,30)\n",
    "    plt.plot([i for i in range(60)],received[seg],label=str(seg))\n",
    "plt.legend()\n",
    "plt.show()"
   ]
  },
  {
   "cell_type": "code",
   "execution_count": null,
   "metadata": {},
   "outputs": [],
   "source": [
    "valid_segs=[  9,  24,  41,  42,  83, 106, 112, 150, 152, 185, 192, 193, 212,213, 256, 267, 268, 277,   2, 311]\n",
    "for seg in valid_segs:\n",
    "    tmp=(numpy.where(numpy.array(received[seg])<200,1,0))\n",
    "    if numpy.sum(tmp)>0:\n",
    "        # print(seg,tmp)\n",
    "        return_list=[]\n",
    "        for index,i in enumerate(tmp):\n",
    "            if i>0:\n",
    "                return_list.append(index)\n",
    "        print(seg,return_list)"
   ]
  },
  {
   "cell_type": "code",
   "execution_count": null,
   "metadata": {},
   "outputs": [],
   "source": []
  }
 ],
 "metadata": {
  "language_info": {
   "codemirror_mode": {
    "name": "ipython",
    "version": 3
   },
   "file_extension": ".py",
   "mimetype": "text/x-python",
   "name": "python",
   "nbconvert_exporter": "python",
   "pygments_lexer": "ipython3",
   "version": "3.7.2-final"
  },
  "kernelspec": {
   "name": "python372jvsc74a57bd0f7eecc64031d1199a02797dafe51906f01aa572911c7b44dc4c8833c7e8cc48b",
   "display_name": "Python 3.7.2 64-bit"
  },
  "metadata": {
   "interpreter": {
    "hash": "cdb9206ad2f7fb042cb0a44314d54fa2455aaa8b1a5039376203ce80a767191e"
   }
  }
 },
 "nbformat": 4,
 "nbformat_minor": 4
}