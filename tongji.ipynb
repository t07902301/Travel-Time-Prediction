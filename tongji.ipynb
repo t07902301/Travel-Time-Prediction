{
 "cells": [
  {
   "cell_type": "code",
   "execution_count": 2,
   "metadata": {},
   "outputs": [],
   "source": [
    "import numpy\n",
    "import matplotlib.pyplot as plt"
   ]
  },
  {
   "cell_type": "code",
   "execution_count": 4,
   "metadata": {},
   "outputs": [],
   "source": [
    "received=numpy.load(r'C:\\Users\\e-wel\\Documents\\Python Scripts\\60天统计\\每天接受数量.npy',allow_pickle=True).item()"
   ]
  },
  {
   "cell_type": "code",
   "execution_count": 5,
   "metadata": {},
   "outputs": [],
   "source": [
    "received_keys=list(received.keys())"
   ]
  },
  {
   "cell_type": "code",
   "execution_count": 18,
   "metadata": {},
   "outputs": [],
   "source": [
    "targets=[5, 3, 43, 44, 138, 34, 32, 297]"
   ]
  },
  {
   "cell_type": "code",
   "execution_count": null,
   "metadata": {},
   "outputs": [],
   "source": [
    "tmp_index=[]\n",
    "for seg in targets:\n",
    "    arr=numpy.array(received[seg])\n",
    "    tmp=numpy.where(arr>450,1,0)\n",
    "    for index,each in enumerate(tmp):\n",
    "        if each==0:\n",
    "            tmp_index.append(index)\n",
    "    # print(seg,tmp_index)\n",
    "    # print(seg,numpy.sum(numpy.where(arr>450,1,0)))"
   ]
  },
  {
   "cell_type": "code",
   "execution_count": null,
   "metadata": {},
   "outputs": [],
   "source": [
    "count_dict={}\n",
    "for i in range(60):\n",
    "    count_dict[i]=0\n",
    "for index in tmp_index:\n",
    "    count_dict[index]+=1\n",
    "count_dict"
   ]
  },
  {
   "cell_type": "code",
   "execution_count": null,
   "metadata": {},
   "outputs": [],
   "source": [
    "tmp=[]\n",
    "for key,value in count_dict.items():\n",
    "    if value==0:\n",
    "        tmp.append(key)"
   ]
  },
  {
   "cell_type": "code",
   "execution_count": 20,
   "metadata": {},
   "outputs": [
    {
     "output_type": "execute_result",
     "data": {
      "text/plain": [
       "array([ 0,  1,  2,  4,  6,  7,  8,  9, 18, 20, 21, 25, 26, 27, 28, 29, 30,\n",
       "       31, 32, 33, 34, 37, 59])"
      ]
     },
     "metadata": {},
     "execution_count": 20
    }
   ],
   "source": [
    "numpy.array(tmp)"
   ]
  },
  {
   "cell_type": "code",
   "execution_count": null,
   "metadata": {},
   "outputs": [],
   "source": [
    "count_list=[]\n",
    "for seg in received.keys():\n",
    "    arr=numpy.array(received[seg])\n",
    "    if numpy.sum(numpy.where(arr>450,1,0))>59:\n",
    "        count_list.append(seg)"
   ]
  },
  {
   "cell_type": "code",
   "execution_count": null,
   "metadata": {},
   "outputs": [],
   "source": [
    "count_list"
   ]
  },
  {
   "cell_type": "code",
   "execution_count": null,
   "metadata": {},
   "outputs": [],
   "source": [
    "valid_index=[]\n",
    "for index,seg in enumerate(count_list):\n",
    "    if numpy.sum(numpy.where(numpy.array(received[seg])>200,1,0))>59:\n",
    "        valid_index.append(index)\n",
    "valid_index"
   ]
  },
  {
   "cell_type": "code",
   "execution_count": null,
   "metadata": {},
   "outputs": [],
   "source": [
    "for i in range(86):\n",
    "    for j in range(86-i-1):\n",
    "        if count_list[j]>count_list[j+1]:\n",
    "            tmp=count_list[j]\n",
    "            count_list[j]=count_list[j+1]\n",
    "            count_list[j+1]=tmp"
   ]
  },
  {
   "cell_type": "code",
   "execution_count": null,
   "metadata": {},
   "outputs": [],
   "source": [
    "count_arr=numpy.array(count_list)\n",
    "numpy.sum(numpy.where(count_arr>59,1,0))"
   ]
  },
  {
   "cell_type": "code",
   "execution_count": null,
   "metadata": {},
   "outputs": [],
   "source": [
    "numpy.array(count_list)"
   ]
  },
  {
   "cell_type": "code",
   "execution_count": null,
   "metadata": {},
   "outputs": [],
   "source": [
    "info=numpy.load(r'C:\\Users\\e-wel\\Documents\\Python Scripts\\60天统计\\路段信息.npy',allow_pickle=True).item()"
   ]
  },
  {
   "cell_type": "code",
   "execution_count": null,
   "metadata": {},
   "outputs": [],
   "source": [
    "simple_info=numpy.load(r'C:\\Users\\e-wel\\Documents\\Python Scripts\\60天统计\\路段信息_简略.npy',allow_pickle=True).item()"
   ]
  },
  {
   "cell_type": "code",
   "execution_count": null,
   "metadata": {},
   "outputs": [],
   "source": [
    "simple_info['9']"
   ]
  },
  {
   "cell_type": "code",
   "execution_count": null,
   "metadata": {},
   "outputs": [],
   "source": [
    "for seg in targets:\n",
    "    plt.rcParams['figure.figsize']=(30,20)\n",
    "    plt.plot([i for i in range(60)],received[seg],label=str(seg))\n",
    "plt.legend()\n",
    "plt.show()"
   ]
  },
  {
   "cell_type": "code",
   "execution_count": null,
   "metadata": {},
   "outputs": [],
   "source": [
    "valid_segs=[  9,  24,  41,  42,  83, 106, 112, 150, 152, 185, 192, 193, 212,213, 256, 267, 268, 277,   2, 311]\n",
    "for seg in valid_segs:\n",
    "    tmp=(numpy.where(numpy.array(received[seg])<200,1,0))\n",
    "    if numpy.sum(tmp)>0:\n",
    "        # print(seg,tmp)\n",
    "        return_list=[]\n",
    "        for index,i in enumerate(tmp):\n",
    "            if i>0:\n",
    "                return_list.append(index)\n",
    "        print(seg,return_list)"
   ]
  },
  {
   "source": [
    "## 流量路段的接受数量 (未完成)"
   ],
   "cell_type": "markdown",
   "metadata": {}
  },
  {
   "cell_type": "code",
   "execution_count": null,
   "metadata": {},
   "outputs": [],
   "source": [
    "flow_info=numpy.load(r'C:\\Users\\e-wel\\Documents\\Python Scripts\\5-6月记录\\0630\\0630_flow.npy',allow_pickle=True).item()\n",
    "count_info=numpy.load(r'C:\\Users\\e-wel\\Documents\\Python Scripts\\补充20天统计\\每天接受数量.npy',allow_pickle=True).item()"
   ]
  },
  {
   "cell_type": "code",
   "execution_count": null,
   "metadata": {},
   "outputs": [],
   "source": [
    "len(list(count_info.keys()))"
   ]
  },
  {
   "source": [
    "## 流量和接受数量多的路段的关系"
   ],
   "cell_type": "markdown",
   "metadata": {}
  },
  {
   "cell_type": "code",
   "execution_count": null,
   "metadata": {},
   "outputs": [],
   "source": [
    "info=numpy.load(r'C:\\Users\\e-wel\\Documents\\Python Scripts\\60天统计\\路段信息_简略.npy',allow_pickle=True).item()\n",
    "# count_info=numpy.load(r'C:\\Users\\e-wel\\Documents\\Python Scripts\\60天统计\\每天接受数量.npy',allow_pickle=True).item()\n",
    "# flow_info=numpy.load(r'C:\\Users\\e-wel\\Documents\\Python Scripts\\5-6月记录\\0508\\0508_flow.npy',allow_pickle=True).item()\n"
   ]
  },
  {
   "cell_type": "code",
   "execution_count": null,
   "metadata": {},
   "outputs": [],
   "source": [
    "print(info['42'])"
   ]
  },
  {
   "cell_type": "code",
   "execution_count": null,
   "metadata": {},
   "outputs": [],
   "source": [
    "valid_flow_list=list(count_info.keys())\n",
    "len(valid_flow_list)"
   ]
  },
  {
   "cell_type": "code",
   "execution_count": null,
   "metadata": {},
   "outputs": [],
   "source": [
    "matched=0\n",
    "for i in valid_flow_list:\n",
    "    if i in flow_info:\n",
    "        matched+=1\n",
    "matched"
   ]
  },
  {
   "cell_type": "code",
   "execution_count": null,
   "metadata": {},
   "outputs": [],
   "source": [
    "count_info_0=numpy.load(r'C:\\Users\\e-wel\\Documents\\Python Scripts\\补充20天统计\\每天接受数量.npy',allow_pickle=True).item()"
   ]
  },
  {
   "cell_type": "code",
   "execution_count": null,
   "metadata": {},
   "outputs": [],
   "source": [
    "plt.rcParams['figure.figsize']=(40,30)\n",
    "mean_mat_slot_20_keys=list(mean_mat_slot_20.keys())\n",
    "for index,seg in enumerate(mean_mat_slot_20_keys):\n",
    "    plt.plot([i for i in range(44)],mean_mat_slot_20_norm[seg],label=str(seg))\n",
    "plt.legend()\n",
    "plt.show()"
   ]
  },
  {
   "cell_type": "code",
   "execution_count": null,
   "metadata": {},
   "outputs": [],
   "source": [
    "for i in ['602091004000', '626146002000', '602091004002', '602091004203']:\n",
    "    print(flow_info[i][0],flow_info[i][1])"
   ]
  },
  {
   "cell_type": "code",
   "execution_count": null,
   "metadata": {},
   "outputs": [],
   "source": [
    "for i in [9, 24, 42, 256, 267, 268, 277]:\n",
    "    print(i,info[str(i)][5])#长度"
   ]
  },
  {
   "source": [
    "# log_1中的异常值"
   ],
   "cell_type": "markdown",
   "metadata": {}
  },
  {
   "cell_type": "code",
   "execution_count": 3,
   "metadata": {},
   "outputs": [],
   "source": [
    "total=numpy.load(r'C:\\Users\\e-wel\\Documents\\Python Scripts\\60天统计\\间隔_5min_init.npy',allow_pickle=True).item()\n",
    "info=numpy.load(r'C:\\Users\\e-wel\\Documents\\Python Scripts\\60天统计\\路段信息_简略.npy',allow_pickle=True).item()"
   ]
  },
  {
   "cell_type": "code",
   "execution_count": 5,
   "metadata": {},
   "outputs": [],
   "source": [
    "# target_segs=[9, 24, 42, 256, 267, 268, 277]\n",
    "target_segs=[42]\n",
    "train={}\n",
    "test={}\n",
    "validation={}\n",
    "for seg in target_segs:\n",
    "    test[seg]=total[seg][49:]\n",
    "    train[seg]=total[seg][2:34]"
   ]
  },
  {
   "cell_type": "code",
   "execution_count": 11,
   "metadata": {},
   "outputs": [
    {
     "output_type": "stream",
     "name": "stdout",
     "text": [
      "0.3875\n"
     ]
    }
   ],
   "source": [
    "for seg in target_segs:\n",
    "    seg_len=float(info[str(seg)][5])\n",
    "    min_speed_tolerance=15\n",
    "    min_speed=20\n",
    "    # max_speed=50\n",
    "    # min_time=seg_len*3.6/max_speed\n",
    "    max_time_tolerance=seg_len*3.6/min_speed_tolerance\n",
    "    max_time=seg_len*3.6/min_speed\n",
    "    test_seg_arr=numpy.array(train[seg])\n",
    "    print(numpy.sum(numpy.where(test_seg_arr>max_time_tolerance,1,0))/32/180)\n"
   ]
  },
  {
   "cell_type": "code",
   "execution_count": 8,
   "metadata": {},
   "outputs": [],
   "source": [
    "# target_segs=[39,  40,  41,  42,  43,  44,  45,  47]\n",
    "# target_segs=[5, 3, 43, 44, 138, 34, 32, 297]\n",
    "target_segs=received_keys"
   ]
  },
  {
   "cell_type": "code",
   "execution_count": 10,
   "metadata": {},
   "outputs": [],
   "source": [
    "test={}\n",
    "for seg in target_segs:\n",
    "    test[seg]=total[seg][49:]"
   ]
  },
  {
   "cell_type": "code",
   "execution_count": 9,
   "metadata": {},
   "outputs": [],
   "source": [
    "train={}\n",
    "for seg in target_segs:\n",
    "    train[seg]=total[seg][2:34]+total[seg][37:48]#5.2-6.3+6.7-6.17(真实日期)"
   ]
  },
  {
   "cell_type": "code",
   "execution_count": 39,
   "metadata": {},
   "outputs": [
    {
     "output_type": "stream",
     "name": "stdout",
     "text": [
      "5 0.13281653746770025\n3 0.04160206718346253\n43 0.08630490956072351\n44 0.0011627906976744186\n138 0.0020671834625322996\n34 0.2028423772609819\n32 0.17093023255813952\n297 0.2364341085271318\n"
     ]
    }
   ],
   "source": [
    "for seg in target_segs:\n",
    "    seg_len=float(info[str(seg)][5])\n",
    "    min_speed_tolerance=15\n",
    "    min_speed=20\n",
    "    max_time_tolerance=seg_len*3.6/min_speed_tolerance\n",
    "    max_time=seg_len*3.6/min_speed\n",
    "    train_seg_arr=numpy.array(train[seg])\n",
    "    print(seg,numpy.sum(numpy.where(train_seg_arr>max_time_tolerance,1,0))/43/180)"
   ]
  },
  {
   "cell_type": "code",
   "execution_count": null,
   "metadata": {},
   "outputs": [],
   "source": []
  },
  {
   "cell_type": "code",
   "execution_count": null,
   "metadata": {},
   "outputs": [],
   "source": [
    "#修正outlier\n",
    "for seg in target_segs:\n",
    "    seg_len=float(info[str(seg)][5])\n",
    "    min_speed_real=15\n",
    "    min_speed=20\n",
    "    max_time_real=seg_len*3.6/min_speed_real\n",
    "    max_time=seg_len*3.6/min_speed\n",
    "    train_seg_arr=numpy.array(train[seg])\n",
    "    train[seg]=numpy.where(train_seg_arr>max_time_real,max_time,train_seg_arr)"
   ]
  },
  {
   "cell_type": "code",
   "execution_count": 15,
   "metadata": {},
   "outputs": [
    {
     "output_type": "execute_result",
     "data": {
      "text/plain": [
       "[16.38, 3.5]"
      ]
     },
     "metadata": {},
     "execution_count": 15
    }
   ],
   "source": [
    "variance[42]"
   ]
  },
  {
   "cell_type": "code",
   "execution_count": 14,
   "metadata": {},
   "outputs": [
    {
     "output_type": "stream",
     "name": "stdout",
     "text": [
      "0.41818181818181815\n"
     ]
    }
   ],
   "source": [
    "for seg in [42]:\n",
    "    seg_len=float(info[str(seg)][5])\n",
    "    min_speed_tolerance=15\n",
    "    min_speed=20\n",
    "    max_time_tolerance=seg_len*3.6/min_speed_tolerance\n",
    "    max_time=seg_len*3.6/min_speed\n",
    "    train_seg_arr=numpy.array(test[seg])\n",
    "    print(numpy.sum(numpy.where(train_seg_arr>max_time_tolerance,1,0))/11/180)"
   ]
  },
  {
   "cell_type": "code",
   "execution_count": 13,
   "metadata": {},
   "outputs": [
    {
     "output_type": "stream",
     "name": "stdout",
     "text": [
      "0.39069767441860465\n"
     ]
    }
   ],
   "source": [
    "for seg in [42]:\n",
    "    seg_len=float(info[str(seg)][5])\n",
    "    min_speed_tolerance=15\n",
    "    min_speed=20\n",
    "    max_time_tolerance=seg_len*3.6/min_speed_tolerance\n",
    "    max_time=seg_len*3.6/min_speed\n",
    "    train_seg_arr=numpy.array(train[seg])\n",
    "    print(numpy.sum(numpy.where(train_seg_arr>max_time_tolerance,1,0))/43/180)"
   ]
  },
  {
   "cell_type": "code",
   "execution_count": null,
   "metadata": {},
   "outputs": [],
   "source": [
    "max_min_time={}"
   ]
  },
  {
   "cell_type": "code",
   "execution_count": null,
   "metadata": {},
   "outputs": [],
   "source": [
    "for seg in target_segs:\n",
    "    test_arr=[]\n",
    "    for day in test[seg]:\n",
    "        test_arr=numpy.concatenate((test_arr,day))\n",
    "    max_train=numpy.max(test_arr)\n",
    "    min_train=numpy.min(test_arr) \n",
    "    max_min_time[seg]=[max_train,min_train]"
   ]
  },
  {
   "cell_type": "code",
   "execution_count": null,
   "metadata": {},
   "outputs": [],
   "source": [
    "max_min_speed={}\n",
    "for seg in [9, 24, 42, 256, 267, 268, 277]:\n",
    "    max_min_speed[seg]=[numpy.around(float(info[str(seg)][5])*3.6/max_min_time[seg][0],2),numpy.around(float(info[str(seg)][5])*3.6/max_min_time[seg][1],2)]\n",
    "max_min_speed"
   ]
  },
  {
   "cell_type": "code",
   "execution_count": null,
   "metadata": {
    "tags": []
   },
   "outputs": [],
   "source": [
    "count=0\n",
    "# for seg in target_segs:\n",
    "#     seg_len=float(info[str(seg)][5])\n",
    "seg=267\n",
    "seg_len=float(info[str(seg)][5])\n",
    "print(seg_len)\n",
    "\n",
    "for day in range(43):\n",
    "    record=train[seg][day]\n",
    "    for index in range(1,180):\n",
    "        diff=abs(seg_len*3.6/record[index]-seg_len*3.6/record[index-1])\n",
    "        if diff>15:\n",
    "            print(record[index-2:index+3],diff)\n",
    "        # print()\n",
    "        # if abs(seg_len*3.6/record[index]-seg_len*3.6/record[index-1])>40:\n",
    "            # print(seg,day,index,record[index-1],record[index])\n",
    "            # if index==2:\n",
    "            #     record[index]=record[index-1]\n",
    "            # else:\n",
    "            #     record[index]=numpy.around((record[index-1]+record[index-2])/2,2)\n",
    "\n",
    "#                 count+=1\n",
    "# count/7/43/180\n",
    "                # print(seg,day,index,record[index-1],record[index])"
   ]
  }
 ],
 "metadata": {
  "language_info": {
   "codemirror_mode": {
    "name": "ipython",
    "version": 3
   },
   "file_extension": ".py",
   "mimetype": "text/x-python",
   "name": "python",
   "nbconvert_exporter": "python",
   "pygments_lexer": "ipython3",
   "version": "3.7.2-final"
  },
  "metadata": {
   "interpreter": {
    "hash": "cdb9206ad2f7fb042cb0a44314d54fa2455aaa8b1a5039376203ce80a767191e"
   }
  },
  "kernelspec": {
   "name": "python372jvsc74a57bd0be0b56fde7ab4dd5a7b857b05c420f1624be72fede588761e7b5d962331e4a2a",
   "display_name": "Python 3.7.2 64-bit"
  }
 },
 "nbformat": 4,
 "nbformat_minor": 4
}