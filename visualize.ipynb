{
 "cells": [
  {
   "cell_type": "code",
   "execution_count": null,
   "metadata": {},
   "outputs": [],
   "source": [
    "import numpy\n",
    "in_1=numpy.load(r'C:\\Users\\e-wel\\Documents\\Python Scripts\\40天原始记录\\起始_新华_11.npy',allow_pickle=True).item()\n",
    "# in_2=numpy.load(r'C:\\Users\\e-wel\\Desktop\\xinhua_11\\xinhua_11_all\\input_1.npy')\n",
    "# in_1[0][:5]==in_2[0][:5]\n"
   ]
  },
  {
   "cell_type": "code",
   "execution_count": null,
   "metadata": {},
   "outputs": [],
   "source": [
    "section_info=numpy.load(r'C:\\Users\\e-wel\\Documents\\Python Scripts\\40天统计信息及路段情况\\section_ID_info.npy',allow_pickle=True).item()\n",
    "path_printed=''\n",
    "for seg in in_1.keys():\n",
    "    path_printed+=section_info[str(seg)][0]\n",
    "path_printed"
   ]
  },
  {
   "cell_type": "code",
   "execution_count": null,
   "metadata": {},
   "outputs": [],
   "source": [
    "import matplotlib.pyplot as plt"
   ]
  },
  {
   "cell_type": "code",
   "execution_count": null,
   "metadata": {},
   "outputs": [],
   "source": [
    "record=[]\n",
    "seg_list=in_1.keys()\n",
    "# fig=plt.figure()\n",
    "for day in range(13):\n",
    "    # sub_fig=fig.subplot\n",
    "    day_record=[]\n",
    "    for seg in seg_list:\n",
    "        day_record.append(in_1[seg][day*180:(day+1)*180])\n",
    "    # record.append(day_record)\n",
    "    plt.subplot(13,1,day+1)\n",
    "    plt.rcParams['figure.figsize']=(20,10)\n",
    "    for seg in range(len(seg_list)):\n",
    "        plt.plot([i for i in range(180)],day_record[seg],label=str(list(seg_list)[seg]))\n",
    "plt.legend()\n",
    "plt.show()"
   ]
  },
  {
   "cell_type": "code",
   "execution_count": null,
   "metadata": {},
   "outputs": [],
   "source": [
    "seg_list=list(seg_list)\n",
    "seg_list_len=len(seg_list)\n",
    "for seg_index in range(seg_list_len):\n",
    "    for sub_index in range(seg_index+1):\n",
    "        record_1=day_record[sub_index][:179]\n",
    "        record_2=day_record[seg_index][1:180] #current time stamp\n",
    "        plt.subplot(seg_list_len,seg_list_len,(seg_index*seg_list_len)+sub_index+1)\n",
    "        plt.scatter(record_1,record_2,s=10,alpha=0.5)\n",
    "        plt.title('cs:{},ns:{}'.format(seg_list[sub_index],seg_list[seg_index]))\n",
    "        plt.xlabel('{}'.format(seg_list[sub_index]))\n",
    "        plt.ylabel('{}'.format(seg_list[seg_index]))\n",
    "    # plt.rcParams['figure.figsize']=(20,10)\n",
    "plt.show()"
   ]
  },
  {
   "cell_type": "code",
   "execution_count": null,
   "metadata": {},
   "outputs": [],
   "source": [
    "numpy.array(day_record[3]) # seg.43"
   ]
  },
  {
   "cell_type": "code",
   "execution_count": null,
   "metadata": {},
   "outputs": [],
   "source": [
    "for day in range(8):\n",
    "    # sub_fig=fig.subplot\n",
    "    day_record=[]\n",
    "    for seg in seg_list:\n",
    "        day_record.append(in_1[seg][day*180:(day+1)*180])"
   ]
  },
  {
   "cell_type": "code",
   "execution_count": null,
   "metadata": {},
   "outputs": [],
   "source": [
    "for seg_index in range(seg_list_len):\n",
    "    for sub_index in range(seg_index+1):\n",
    "        record_1=day_record[sub_index][:179]\n",
    "        record_2=day_record[seg_index][1:180] #current time stamp\n",
    "        plt.subplot(seg_list_len,seg_list_len,(seg_index*seg_list_len)+sub_index+1)\n",
    "        plt.scatter(record_1,record_2,s=5,alpha=0.5)\n",
    "        plt.title('cs:{},ns:{}'.format(seg_list[sub_index],seg_list[seg_index]))\n",
    "        plt.xlabel('{}'.format(seg_list[sub_index]))\n",
    "        plt.ylabel('{}'.format(seg_list[seg_index]))\n",
    "    # plt.rcParams['figure.figsize']=(20,10)\n",
    "plt.show()"
   ]
  }
 ],
 "metadata": {
  "language_info": {
   "codemirror_mode": {
    "name": "ipython",
    "version": 3
   },
   "file_extension": ".py",
   "mimetype": "text/x-python",
   "name": "python",
   "nbconvert_exporter": "python",
   "pygments_lexer": "ipython3",
   "version": "3.7.2-final"
  },
  "kernelspec": {
   "name": "python372jvsc74a57bd0b2078afdcbc20a853d87a40b66e5bba692713b28850fc0546c421b6c784284e7",
   "display_name": "Python 3.7.2 64-bit"
  }
 },
 "nbformat": 4,
 "nbformat_minor": 4
}