{
 "cells": [
  {
   "cell_type": "code",
   "execution_count": 1,
   "metadata": {},
   "outputs": [],
   "source": [
    "import numpy\n",
    "import matplotlib.pyplot as plt"
   ]
  },
  {
   "source": [
    "## 获得目标日期索引"
   ],
   "cell_type": "markdown",
   "metadata": {}
  },
  {
   "cell_type": "code",
   "execution_count": 2,
   "metadata": {},
   "outputs": [],
   "source": [
    "dates=[ '0501', '0502', '0503', '0504', '0505', '0506', '0507','0508', '0509', '0510', '0511', '0512', '0513', '0514', '0515','0516', '0517', '0518', '0519', '0520', '0521', '0522', '0523','0524', '0525', '0526', '0527', '0528', '0529', '0530', '0531', '0602', '0603', '0604', '0605', '0606', '0607', '0608','0609', '0610', '0611', '0612', '0613', '0614', '0615', '0616','0617', '0618', '0619', '0620', '0621', '0622', '0623', '0624','0625', '0626', '0627', '0628', '0629', '0630']"
   ]
  },
  {
   "cell_type": "code",
   "execution_count": 5,
   "metadata": {},
   "outputs": [],
   "source": [
    "weekdays=['0503', '0504', '0505','0508', '0509', '0510', '0511', '0512','0515','0516', '0517', '0518', '0519','0522', '0523','0524', '0525', '0526','0529', '0530', '0531', '0602', '0605', '0606', '0607', '0608','0609', '0612', '0613', '0614', '0615', '0616', '0620', '0621', '0622', '0623','0626', '0627', '0628', '0629', '0630' ]"
   ]
  },
  {
   "cell_type": "code",
   "execution_count": 6,
   "metadata": {},
   "outputs": [
    {
     "output_type": "stream",
     "name": "stdout",
     "text": [
      "[2, 3, 4, 7, 8, 9, 10, 11, 14, 15, 16, 17, 18, 21, 22, 23, 24, 25, 28, 29, 30, 31, 34, 35, 36, 37, 38, 41, 42, 43, 44, 45, 49, 50, 51, 52, 55, 56, 57, 58, 59]\n"
     ]
    }
   ],
   "source": [
    "weekdays_index=[]\n",
    "for index,date in enumerate(dates):\n",
    "    if date in weekdays:\n",
    "        weekdays_index.append(index)\n",
    "print(weekdays_index)"
   ]
  },
  {
   "source": [
    "## 统计波动值比例"
   ],
   "cell_type": "markdown",
   "metadata": {}
  },
  {
   "cell_type": "code",
   "execution_count": null,
   "metadata": {},
   "outputs": [],
   "source": [
    "for seg in target_segs: #改进：flatten 变成两个vector，交错，向量运算\n",
    "    count=0\n",
    "    seg_len=float(info[str(seg)][5])\n",
    "    for day in range(43):\n",
    "        record=train[seg][day]\n",
    "        for index in range(1,180):\n",
    "            if abs(seg_len*3.6/record[index]-seg_len*3.6/record[index-1])>10:\n",
    "                count+=1\n",
    "    print(seg,count/43/180)\n",
    "# count/43/180/6"
   ]
  },
  {
   "source": [
    "## 标准差"
   ],
   "cell_type": "markdown",
   "metadata": {}
  },
  {
   "cell_type": "code",
   "execution_count": 32,
   "metadata": {},
   "outputs": [],
   "source": [
    "import numpy\n",
    "total=numpy.load(r'C:\\Users\\e-wel\\Documents\\Python Scripts\\60天统计\\间隔_5min.npy',allow_pickle=True).item()\n",
    "info=numpy.load(r'C:\\Users\\e-wel\\Documents\\Python Scripts\\60天统计\\路段信息_简略.npy',allow_pickle=True).item()"
   ]
  },
  {
   "cell_type": "code",
   "execution_count": null,
   "metadata": {},
   "outputs": [],
   "source": [
    "for seg in received_keys:\n",
    "    seg_len=float(info[str(seg)][5])\n",
    "    len_arr=numpy.array([seg_len for i in range(7740)])\n",
    "    len_arr=len_arr.reshape((43,180))\n",
    "    speed=numpy.around(len_arr*3.6/train[seg],2)\n",
    "    # print(numpy.std(speed))\n",
    "    variance[seg]=[numpy.around(numpy.mean(speed),2),numpy.around(numpy.std(speed),2)]"
   ]
  },
  {
   "cell_type": "code",
   "execution_count": null,
   "metadata": {},
   "outputs": [],
   "source": [
    "variance={}"
   ]
  },
  {
   "cell_type": "code",
   "execution_count": null,
   "metadata": {},
   "outputs": [],
   "source": [
    "for seg in total.keys():\n",
    "    train_dict=total[seg][2:34]+total[seg][37:48]#5.2-6.3+6.7-6.17(真实日期)\n",
    "    time_arr=numpy.array(train_dict)\n",
    "    # print(numpy.std(speed))\n",
    "    variance[seg]=[numpy.around(numpy.mean(time_arr),2),numpy.around(numpy.std(time_arr),2)]"
   ]
  },
  {
   "cell_type": "code",
   "execution_count": null,
   "metadata": {},
   "outputs": [],
   "source": [
    "numpy.save(r'C:\\Users\\e-wel\\Documents\\Python Scripts\\60天统计\\时间标准差均值.npy',variance)"
   ]
  },
  {
   "source": [
    "### 有流量信息的路段"
   ],
   "cell_type": "markdown",
   "metadata": {}
  },
  {
   "cell_type": "code",
   "execution_count": 2,
   "metadata": {},
   "outputs": [],
   "source": [
    "import os"
   ]
  },
  {
   "cell_type": "code",
   "execution_count": 3,
   "metadata": {},
   "outputs": [],
   "source": [
    "seg_dict={}"
   ]
  },
  {
   "cell_type": "code",
   "execution_count": 4,
   "metadata": {},
   "outputs": [],
   "source": [
    "root=r'C:\\Users\\e-wel\\Documents\\Python Scripts\\5-6月记录'\n",
    "# for file in os.listdir(root):\n",
    "for dir,_,files in os.walk(root):\n",
    "    for file in files:\n",
    "        if 'flow' not in file:\n",
    "            continue\n",
    "        file_name=os.path.join(dir,file)\n",
    "        tmp=numpy.load(file_name,allow_pickle=True).item()\n",
    "        # print(len(list[tmp.keys()]))\n",
    "        for key in tmp.keys():\n",
    "            seg_dict[key]=0"
   ]
  },
  {
   "cell_type": "code",
   "execution_count": 5,
   "metadata": {},
   "outputs": [
    {
     "output_type": "execute_result",
     "data": {
      "text/plain": [
       "dict_keys(['35060303', '35060230', '35060242', '35060256', '35060153', '35060133', '35060226', '35060239', '35060218', '35060075', '35060292', '35060062', '13506119', '35060168', '35060124', '35060183', '35060001', '13506006', '35060008', '13506147', '35060390', '35060114', '35060144', '35060122', '13506222', '35060357', '35060216', '35060014', '35060387', '35060108', '35060329', '35060174', '35060088', '35060181', '35060194', '35060342', '35060415', '35060172', '35060094', '35060208', '35060325', '35060286', '13506202'])"
      ]
     },
     "metadata": {},
     "execution_count": 5
    }
   ],
   "source": [
    "seg_dict.keys()"
   ]
  },
  {
   "cell_type": "code",
   "execution_count": 69,
   "metadata": {},
   "outputs": [],
   "source": [
    "variance=numpy.load(r'C:\\Users\\e-wel\\Documents\\Python Scripts\\60天统计\\variance.npy',allow_pickle=True).item()"
   ]
  },
  {
   "cell_type": "code",
   "execution_count": 71,
   "metadata": {},
   "outputs": [],
   "source": [
    "received=numpy.load(r'C:\\Users\\e-wel\\Documents\\Python Scripts\\60天统计\\每天接受数量.npy',allow_pickle=True).item()"
   ]
  },
  {
   "cell_type": "code",
   "execution_count": 74,
   "metadata": {},
   "outputs": [
    {
     "output_type": "stream",
     "name": "stdout",
     "text": [
      "9 胜利西路（芝山路-西洋坪路） ['117.63856', '24.51634']\n24 丹霞路（建元路-诗浦路） ['117.66669', '24.50246']\n40 元光南路（水仙大街-建元路） ['117.65977', '24.50605']\n44 元光北路（漳福路-腾飞路） ['117.65939', '24.51941']\n45 元光北路（腾飞路-漳福路） ['117.65927', '24.52156']\n83 芝山路（胜利路-瑞京路） ['117.63888', '24.51579']\n106 水仙大街（龙腾南路-龙祥中路） ['117.72249', '24.5028']\n112 水仙大街（龙江路-石仓南路） ['117.69144', '24.50434']\n117 水仙大街（丹霞路-元光路） ['117.66646', '24.50572']\n118 水仙大街（元光-丹霞路） ['117.65988', '24.506']\n168 九龙大道（建元东路-万达） ['117.67243', '24.50208']\n185 碧湖路（水仙大街-建元东路） ['117.68482', '24.5044']\n186 龙溪南路（新浦东路-水仙大街） ['117.68515', '24.50972']\n192 龙江中路（水仙大街-新浦路） ['117.69141', '24.50468']\n193 龙江中路（新浦路-水仙大街） ['117.69144', '24.50993']\n212 迎宾大道（龙文路-石仓南路） ['117.70635', '24.51163']\n213 迎宾大道（石仓南路-龙文路） ['117.69852', '24.51302']\n228 江滨路（金峰路-西洋坪路） ['117.61772', '24.51467']\n256 西洋坪路（胜利路-大学路） ['117.632', '24.51938']\n267 芝山路（大学路-胜利路） ['117.63804', '24.52312']\n268 大学路（西洋坪-芝山路） ['117.63245', '24.52389']\n272 水仙大街（龙江路-龙溪路） ['117.69086', '24.50449']\n277 胜利西路（西洋坪路-芝山路） ['117.63239', '24.51912']\n385 漳响路（元光路-丹霞路） ['117.65941', '24.51924']\n2 胜利东路（元光南路-新华北路） ['117.65899', '24.51674']\n23 丹霞路（诗浦路-江滨路） ['117.66562', '24.49975']\n101 江滨路（西洋坪路-金峰路） ['117.63033', '24.51061']\n137 漳华东路（丹霞路-零号路） ['117.66849', '24.52509']\n148 南昌东路（龙溪南路-九龙大道） ['117.68486', '24.51266']\n188 龙溪南路（南昌东路-迎宾大道） ['117.68504', '24.51273']\n217 迎宾大道（龙溪南路-人民广场三叉口） ['117.68476', '24.51691']\n225 迎宾大道（人民广场三叉口-龙江路） ['117.68719', '24.51695']\n"
     ]
    }
   ],
   "source": [
    "for seg in variance.keys():\n",
    "    if variance[seg][0]>20 and variance[seg][1]<6:\n",
    "        arr=numpy.array(received[seg])\n",
    "        print(seg,simple_info[str(seg)][0],simple_info[str(seg)][3].split(',')[:2])"
   ]
  },
  {
   "cell_type": "code",
   "execution_count": null,
   "metadata": {},
   "outputs": [],
   "source": [
    "dianwei=numpy.load(r'C:\\Users\\e-wel\\Documents\\Python Scripts\\60天统计\\卡口点位信息.npy',allow_pickle=True).item()\n",
    "dianwei['602101008200']"
   ]
  },
  {
   "cell_type": "code",
   "execution_count": 6,
   "metadata": {},
   "outputs": [],
   "source": [
    "flow_demo=numpy.load(r'C:\\Users\\e-wel\\Documents\\Python Scripts\\5-6月记录\\0509\\0509_flow.npy',allow_pickle=True).item()"
   ]
  },
  {
   "cell_type": "code",
   "execution_count": null,
   "metadata": {},
   "outputs": [],
   "source": [
    "plt.rcParams['figure.figsize']=(40,30)\n",
    "for seg in seg_dict.keys():\n",
    "    tmp=int(info[seg][0])\n",
    "    if tmp in received:\n",
    "        plt.plot([i for i in range(20)],received[tmp],label=tmp)\n",
    "    else:\n",
    "        print(tmp)\n",
    "plt.legend()\n",
    "plt.show()"
   ]
  },
  {
   "source": [
    "## 统计无效数据量"
   ],
   "cell_type": "markdown",
   "metadata": {}
  },
  {
   "cell_type": "code",
   "execution_count": 32,
   "metadata": {},
   "outputs": [],
   "source": [
    "old_dict=numpy.load(r'C:\\Users\\e-wel\\Documents\\Python Scripts\\60天统计\\60_days_汇总.npy',allow_pickle=True).item()"
   ]
  },
  {
   "cell_type": "code",
   "execution_count": 29,
   "metadata": {},
   "outputs": [],
   "source": [
    "count_2={}"
   ]
  },
  {
   "cell_type": "code",
   "execution_count": 37,
   "metadata": {},
   "outputs": [],
   "source": [
    "for seg in old_dict.keys():\n",
    "    tmp=old_dict[seg]\n",
    "    tmp=numpy.array(tmp,dtype=object)\n",
    "    day_count=[]\n",
    "    for day in tmp:\n",
    "        day_count.append(900-numpy.sum(numpy.where(day=='0',1,0))-numpy.sum(numpy.where(day=='',1,0))-numpy.sum(numpy.where(day==0,1,0))) #数值为0或null的旅行时间被定义为无效数据\n",
    "    count_2[seg]=day_count"
   ]
  },
  {
   "cell_type": "code",
   "execution_count": 40,
   "metadata": {},
   "outputs": [],
   "source": [
    "numpy.save(r'C:\\Users\\e-wel\\Documents\\Python Scripts\\60天统计\\无效数据统计_每天.npy',count_2)"
   ]
  },
  {
   "cell_type": "code",
   "execution_count": 39,
   "metadata": {},
   "outputs": [
    {
     "output_type": "stream",
     "name": "stdout",
     "text": [
      "[749, 746, 717, 725, 736, 758, 712, 767, 721, 646, 0, 0, 0, 0, 0, 78, 193, 599, 791, 628, 752, 725, 733, 764, 662, 726, 772, 706, 696, 734, 734, 802, 726, 738, 725, 712, 731, 777, 727, 759, 746, 724, 719, 715, 761, 771, 704, 763, 761, 729, 711, 737, 473, 752, 476, 714, 718, 725, 734, 734]\n"
     ]
    }
   ],
   "source": [
    "print(count_2[46])"
   ]
  },
  {
   "cell_type": "code",
   "execution_count": 112,
   "metadata": {},
   "outputs": [],
   "source": [
    "flow=['35060303', '35060230', '35060242', '35060256', '35060153', '35060133', '35060226', '35060239', '35060218', '35060075', '35060292', '35060062', '13506119', '35060168', '35060124', '35060183', '35060001', '13506006', '35060008', '13506147', '35060390', '35060114', '35060144', '35060122', '13506222', '35060357', '35060216', '35060014', '35060387', '35060108', '35060329', '35060174', '35060088', '35060181', '35060194', '35060342', '35060415', '35060172', '35060094', '35060208', '35060325', '35060286', '13506202']"
   ]
  },
  {
   "cell_type": "code",
   "execution_count": 113,
   "metadata": {},
   "outputs": [],
   "source": [
    "info=numpy.load(r'C:\\Users\\e-wel\\Documents\\Python Scripts\\60天统计\\路段信息.npy',allow_pickle=True).item()"
   ]
  },
  {
   "cell_type": "code",
   "execution_count": 22,
   "metadata": {},
   "outputs": [],
   "source": [
    "variance=numpy.load(r'C:\\Users\\e-wel\\Documents\\Python Scripts\\60天统计\\variance.npy',allow_pickle=True).item()"
   ]
  },
  {
   "cell_type": "code",
   "execution_count": 163,
   "metadata": {},
   "outputs": [],
   "source": [
    "simple_info=numpy.load(r'C:\\Users\\e-wel\\Documents\\Python Scripts\\60天统计\\路段信息_简略.npy',allow_pickle=True).item()"
   ]
  },
  {
   "cell_type": "code",
   "execution_count": 165,
   "metadata": {},
   "outputs": [
    {
     "output_type": "stream",
     "name": "stdout",
     "text": [
      "213 迎宾大道（石仓南路-龙文路） [36.95, 4.21]\n9 胜利西路（芝山路-西洋坪路） [25.36, 3.82]\n277 胜利西路（西洋坪路-芝山路） [28.2, 3.46]\n267 芝山路（大学路-胜利路） [27.63, 4.28]\n268 大学路（西洋坪-芝山路） [26.92, 3.42]\n112 水仙大街（龙江路-石仓南路） [33.46, 5.45]\n272 水仙大街（龙江路-龙溪路） [37.27, 4.28]\n117 水仙大街（丹霞路-元光路） [26.44, 5.35]\n118 水仙大街（元光-丹霞路） [29.22, 4.18]\n185 碧湖路（水仙大街-建元东路） [36.34, 3.37]\n192 龙江中路（水仙大街-新浦路） [26.69, 5.82]\n193 龙江中路（新浦路-水仙大街） [30.73, 5.72]\n24 丹霞路（建元路-诗浦路） [27.02, 3.43]\n40 元光南路（水仙大街-建元路） [22.32, 4.94]\n44 元光北路（漳福路-腾飞路） [25.54, 3.85]\n45 元光北路（腾飞路-漳福路） [21.6, 5.53]\n256 西洋坪路（胜利路-大学路） [30.82, 5.21]\n385 漳响路（元光路-丹霞路） [22.76, 4.71]\n"
     ]
    }
   ],
   "source": [
    "for seg in seg_list:\n",
    "    if variance[seg][0]>20 and variance[seg][1]<6 and variance[seg][0]<40:\n",
    "        # print(seg,simple_info[seg][0],variance[seg],'{}%'.format(numpy.around(count[seg]/60/900,4)*100))\n",
    "        print(seg,simple_info[str(seg)][0],variance[seg])"
   ]
  },
  {
   "cell_type": "code",
   "execution_count": null,
   "metadata": {},
   "outputs": [],
   "source": [
    "tmp_index=[]\n",
    "for seg in targets:\n",
    "    arr=numpy.array(received[seg])\n",
    "    tmp=numpy.where(arr>450,1,0)\n",
    "    for index,each in enumerate(tmp):\n",
    "        if each==0:\n",
    "            tmp_index.append(index)"
   ]
  },
  {
   "cell_type": "code",
   "execution_count": 10,
   "metadata": {},
   "outputs": [],
   "source": [
    "count=numpy.load(r'C:\\Users\\e-wel\\Documents\\Python Scripts\\60天统计\\无效数据统计.npy',allow_pickle=True).item()"
   ]
  },
  {
   "cell_type": "code",
   "execution_count": 57,
   "metadata": {},
   "outputs": [
    {
     "output_type": "stream",
     "name": "stdout",
     "text": [
      "5 0.16025925925925924\n3 0.28929629629629633\n43 0.09464814814814815\n44 0.08066666666666666\n46 0.2381851851851852\n138 0.1254074074074074\n34 0.06627777777777778\n32 0.2083148148148148\n297 0.21625925925925926\n"
     ]
    }
   ],
   "source": [
    "targets=['5']+['3']+['43', '44','46', '138', '34', '32', '297']\n",
    "for seg in targets:\n",
    "    print(seg,count[int(seg)]/60/900)"
   ]
  },
  {
   "cell_type": "code",
   "execution_count": 58,
   "metadata": {},
   "outputs": [
    {
     "output_type": "stream",
     "name": "stdout",
     "text": [
      "5 [861, 767, 900, 873, 833, 883, 898, 900, 894, 896, 789, 897, 900, 886, 863, 899, 839, 899, 896, 900, 893, 898, 899, 900, 900, 900, 0, 797, 877, 708, 794, 824, 109, 111, 123, 60, 78, 108, 96, 104, 858]\n3 [711, 0, 900, 753, 894, 774, 855, 900, 869, 881, 788, 825, 900, 674, 173, 206, 138, 720, 881, 900, 848, 899, 899, 900, 900, 900, 895, 899, 725, 0, 0, 0, 0, 0, 0, 0, 0, 0, 0, 0, 703]\n43 [883, 880, 900, 899, 894, 899, 897, 898, 898, 898, 787, 899, 900, 766, 0, 0, 4, 720, 894, 897, 897, 899, 897, 900, 895, 895, 0, 795, 896, 893, 899, 893, 899, 894, 898, 662, 891, 898, 897, 891, 893]\n44 [829, 846, 864, 855, 854, 851, 860, 879, 851, 851, 715, 846, 876, 828, 860, 848, 715, 837, 832, 826, 843, 884, 855, 868, 827, 864, 0, 747, 867, 847, 872, 870, 851, 823, 851, 609, 834, 848, 854, 844, 850]\n46 [717, 725, 736, 767, 721, 646, 0, 0, 0, 78, 193, 599, 791, 725, 733, 764, 662, 726, 696, 734, 734, 802, 725, 712, 731, 777, 727, 724, 719, 715, 761, 771, 729, 711, 737, 473, 714, 718, 725, 734, 734]\n138 [871, 881, 900, 899, 897, 711, 0, 0, 0, 208, 315, 900, 900, 899, 900, 899, 738, 859, 896, 900, 900, 899, 899, 433, 0, 857, 898, 899, 899, 899, 899, 899, 900, 898, 900, 663, 893, 899, 900, 882, 900]\n34 [887, 878, 894, 891, 897, 712, 0, 0, 0, 208, 328, 900, 900, 898, 893, 896, 691, 853, 891, 897, 893, 899, 893, 432, 0, 851, 895, 896, 892, 893, 899, 899, 893, 891, 897, 655, 884, 891, 899, 893, 900]\n32 [880, 877, 897, 899, 899, 899, 897, 900, 897, 897, 586, 289, 681, 736, 828, 898, 810, 894, 890, 900, 898, 899, 897, 900, 879, 900, 356, 0, 0, 0, 0, 0, 0, 0, 0, 0, 0, 0, 0, 0, 895]\n297 [877, 869, 883, 898, 885, 881, 892, 899, 890, 886, 582, 284, 678, 734, 830, 877, 690, 856, 870, 889, 884, 896, 880, 897, 854, 895, 358, 0, 0, 0, 0, 0, 0, 0, 0, 0, 0, 0, 0, 0, 886]\n"
     ]
    }
   ],
   "source": [
    "targets=['5']+['3']+['43', '44','46', '138', '34', '32', '297']\n",
    "for seg in targets:\n",
    "    print(seg,[count_2[int(seg)][i] for i in weekdays_index])"
   ]
  }
 ],
 "metadata": {
  "language_info": {
   "codemirror_mode": {
    "name": "ipython",
    "version": 3
   },
   "file_extension": ".py",
   "mimetype": "text/x-python",
   "name": "python",
   "nbconvert_exporter": "python",
   "pygments_lexer": "ipython3",
   "version": "3.7.2-final"
  },
  "kernelspec": {
   "name": "venv_ids",
   "display_name": "Python 3.7.2 64-bit"
  }
 },
 "nbformat": 4,
 "nbformat_minor": 4
}