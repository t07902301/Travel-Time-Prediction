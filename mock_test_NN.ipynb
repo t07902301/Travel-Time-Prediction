{
 "metadata": {
  "language_info": {
   "codemirror_mode": {
    "name": "ipython",
    "version": 3
   },
   "file_extension": ".py",
   "mimetype": "text/x-python",
   "name": "python",
   "nbconvert_exporter": "python",
   "pygments_lexer": "ipython3",
   "version": "3.7.2-final"
  },
  "orig_nbformat": 2,
  "kernelspec": {
   "name": "venv_ids",
   "display_name": "Python 3.7.2 64-bit ('venv_ids': venv)"
  }
 },
 "nbformat": 4,
 "nbformat_minor": 2,
 "cells": [
  {
   "cell_type": "code",
   "execution_count": 1,
   "metadata": {},
   "outputs": [],
   "source": [
    "import numpy\n",
    "from keras.models import load_model"
   ]
  },
  {
   "cell_type": "code",
   "execution_count": 21,
   "metadata": {},
   "outputs": [],
   "source": [
    "seg_max_min={9: [136.44, 69.0],\n",
    " 24: [58.14, 29.0],\n",
    " 256: [90.0, 31.0],\n",
    " 267: [134.46, 63.0],\n",
    " 268: [102.06, 51.0],\n",
    " 277: [136.44, 64.0]}"
   ]
  },
  {
   "cell_type": "code",
   "execution_count": 18,
   "metadata": {},
   "outputs": [],
   "source": [
    "def get_input_output(target_seg):\n",
    "    # target_seg=[24, 256, 267, 268]\n",
    "    target_seg_len=len(target_seg)\n",
    "    # target_seg_len=len(target_seg)\n",
    "    train_series=[train[seg][0] for seg in target_seg]\n",
    "    test_series=[test[seg][0] for seg in target_seg]\n",
    "    validate_series=[validate[seg][0] for seg in target_seg]\n",
    "    train_series_out=[train[seg][2] for seg in target_seg]\n",
    "    test_series_out=[test[seg][2] for seg in target_seg]\n",
    "    validate_series_out=[validate[seg][2] for seg in target_seg]\n",
    "    train_series_out=numpy.array(train_series_out)\n",
    "    test_series_out=numpy.array(test_series_out)\n",
    "    validate_series_out=numpy.array(validate_series_out)\n",
    "    train_series=numpy.array(train_series)\n",
    "    test_series=numpy.array(test_series)\n",
    "    validate_series=numpy.array(validate_series)\n",
    "    train_data=train_series[0]\n",
    "    for i in range(1,target_seg_len):\n",
    "        train_data=numpy.concatenate((train_data,train_series[i]),axis=0)\n",
    "    test_data=test_series[0]\n",
    "    for i in range(1,target_seg_len):\n",
    "        test_data=numpy.concatenate((test_data,test_series[i]),axis=0)\n",
    "    validate_data=validate_series[0]\n",
    "    for i in range(1,target_seg_len):\n",
    "        validate_data=numpy.concatenate((validate_data,validate_series[i]),axis=0)\n",
    "    train_data_out=train_series_out[0]\n",
    "    for i in range(1,target_seg_len):\n",
    "        train_data_out=numpy.concatenate((train_data_out,train_series_out[i]),axis=0)\n",
    "    test_data_out=test_series_out[0]\n",
    "    for i in range(1,target_seg_len):\n",
    "        test_data_out=numpy.concatenate((test_data_out,test_series_out[i]),axis=0)\n",
    "    validate_data_out=validate_series_out[0]\n",
    "    for i in range(1,target_seg_len):\n",
    "        validate_data_out=numpy.concatenate((validate_data_out,validate_series_out[i]),axis=0)\n",
    "        \n",
    "    train_data_out=train_data_out.reshape(train_data_out.shape[0],1)\n",
    "    test_data_out=test_data_out.reshape(test_data_out.shape[0],1)\n",
    "\n",
    "    model_in=[train_data]\n",
    "    model_out=[train_data_out]\n",
    "    test_model_in=[test_data]\n",
    "    test_model_out=[test_data_out]\n",
    "    validate_model_in=[validate_data]\n",
    "    validate_model_out=[validate_data_out]\n",
    "    return (model_in,model_out,test_model_in,test_model_out,validate_model_in,validate_model_out)"
   ]
  },
  {
   "cell_type": "code",
   "execution_count": 15,
   "metadata": {},
   "outputs": [],
   "source": [
    "\n",
    "c=load_model(r'C:\\Users\\e-wel\\Documents\\Python Scripts\\DeepPF\\log_2_0\\NN\\nb_nn_c.h5',compile=False)\n",
    "c0=load_model(r'C:\\Users\\e-wel\\Documents\\Python Scripts\\DeepPF\\log_2_0\\NN\\nb_nn_c0_1.h5',compile=False)\n",
    "c1=load_model(r'C:\\Users\\e-wel\\Documents\\Python Scripts\\DeepPF\\log_2_0\\NN\\nb_nn_c1.h5',compile=False)"
   ]
  },
  {
   "cell_type": "code",
   "execution_count": 16,
   "metadata": {},
   "outputs": [],
   "source": [
    "# ../input/deep-pf-1/test.npy\n",
    "\n",
    "train=numpy.load(r'C:\\Users\\e-wel\\Documents\\Python Scripts\\DeepPF\\log_2\\train.npy',allow_pickle=True).item()\n",
    "test=numpy.load(r'C:\\Users\\e-wel\\Documents\\Python Scripts\\DeepPF\\log_2\\test.npy',allow_pickle=True).item()\n",
    "validate=numpy.load(r'C:\\Users\\e-wel\\Documents\\Python Scripts\\DeepPF\\log_2\\validation.npy',allow_pickle=True).item()\n",
    "\n",
    "dw=numpy.load(r'C:\\Users\\e-wel\\Documents\\Python Scripts\\DeepPF\\day_of_week.npy',allow_pickle=True).item()\n",
    "ts=numpy.load(r'C:\\Users\\e-wel\\Documents\\Python Scripts\\DeepPF\\encoded_time_stamp.npy')"
   ]
  },
  {
   "cell_type": "code",
   "execution_count": 19,
   "metadata": {},
   "outputs": [],
   "source": [
    "targets=[9,24,256, 267, 268, 277]\n",
    "model_in,model_out,test_model_in,test_model_out,validate_model_in,validate_model_out=get_input_output(targets)"
   ]
  },
  {
   "cell_type": "code",
   "execution_count": 22,
   "metadata": {},
   "outputs": [
    {
     "output_type": "stream",
     "name": "stdout",
     "text": [
      "32.849078598484844\n0.3788567278325449\n"
     ]
    }
   ],
   "source": [
    "#cluster中元素对应的index\n",
    "max_arr=numpy.array([ [seg_max_min[seg][0]] for seg in targets])\n",
    "min_arr=numpy.array([[seg_max_min[seg][1]] for seg in targets])\n",
    "bias_arr=max_arr-min_arr#(路段0，路段1,...)\n",
    "# bias_arr=numpy.array([[i] for i in bias_arr])\n",
    "bias_arr=numpy.repeat(bias_arr,test_days*day_records_num,axis=0) #测试集天数*每天记录数\n",
    "# bias_arr=bias_arr.reshape(bias_arr.shape[0],1,1)\n",
    "min_arr=numpy.repeat(min_arr,test_days*day_records_num,axis=0)\n",
    "# min_arr=min_arr.reshape(min_arr.shape[0],1,1)\n",
    "all_pred=c.predict(test_model_in)\n",
    "pred=all_pred*bias_arr+min_arr\n",
    "gt=(test_model_out[0]*bias_arr+min_arr)\n",
    "mae_tmp=numpy.absolute(pred-gt)\n",
    "mape_tmp=mae_tmp/gt\n",
    "print(numpy.mean(mae_tmp))\n",
    "print(numpy.mean(mape_tmp))"
   ]
  },
  {
   "cell_type": "code",
   "execution_count": 31,
   "metadata": {},
   "outputs": [
    {
     "output_type": "execute_result",
     "data": {
      "text/plain": [
       "7"
      ]
     },
     "metadata": {},
     "execution_count": 31
    }
   ],
   "source": [
    "test_days"
   ]
  },
  {
   "cell_type": "code",
   "execution_count": 25,
   "metadata": {},
   "outputs": [
    {
     "output_type": "execute_result",
     "data": {
      "text/plain": [
       "(7392, 1)"
      ]
     },
     "metadata": {},
     "execution_count": 25
    }
   ],
   "source": [
    "mape_tmp.shape"
   ]
  },
  {
   "cell_type": "code",
   "execution_count": 24,
   "metadata": {},
   "outputs": [],
   "source": [
    "targets=[9, 277]\n",
    "model_in,model_out,test_model_in,test_model_out,validate_model_in,validate_model_out=get_input_output(targets)"
   ]
  },
  {
   "cell_type": "code",
   "execution_count": 26,
   "metadata": {},
   "outputs": [
    {
     "output_type": "stream",
     "name": "stdout",
     "text": [
      "10.996326906613175\n0.09891909365306967\n"
     ]
    }
   ],
   "source": [
    "#cluster中元素对应的index\n",
    "max_arr=numpy.array([ [seg_max_min[seg][0]] for seg in targets])\n",
    "min_arr=numpy.array([[seg_max_min[seg][1]] for seg in targets])\n",
    "bias_arr=max_arr-min_arr\n",
    "bias_arr=numpy.repeat(bias_arr,test_days*day_records_num,axis=0) #测试集天数*每天记录数\n",
    "min_arr=numpy.repeat(min_arr,test_days*day_records_num,axis=0)\n",
    "all_pred=c0.predict(test_model_in)\n",
    "pred=all_pred*bias_arr+min_arr\n",
    "gt=(test_model_out[0]*bias_arr+min_arr)\n",
    "mae_0=numpy.absolute(pred-gt)\n",
    "mape_0=mae_0/gt\n",
    "print(numpy.mean(mae_0))\n",
    "print(numpy.mean(mape_0))\n"
   ]
  },
  {
   "cell_type": "code",
   "execution_count": 27,
   "metadata": {},
   "outputs": [
    {
     "output_type": "execute_result",
     "data": {
      "text/plain": [
       "(2464, 1)"
      ]
     },
     "metadata": {},
     "execution_count": 27
    }
   ],
   "source": [
    "mape_0.shape"
   ]
  },
  {
   "cell_type": "code",
   "execution_count": 28,
   "metadata": {},
   "outputs": [],
   "source": [
    "targets=[24,256,267,268]\n",
    "model_in,model_out,test_model_in,test_model_out,validate_model_in,validate_model_out=get_input_output(targets)"
   ]
  },
  {
   "cell_type": "code",
   "execution_count": 29,
   "metadata": {},
   "outputs": [
    {
     "output_type": "stream",
     "name": "stdout",
     "text": [
      "7.31511241094576\n0.09107086929110805\n"
     ]
    }
   ],
   "source": [
    "#cluster中元素对应的index\n",
    "max_arr=numpy.array([ [seg_max_min[seg][0]] for seg in targets])\n",
    "min_arr=numpy.array([[seg_max_min[seg][1]] for seg in targets])\n",
    "bias_arr=max_arr-min_arr\n",
    "bias_arr=numpy.repeat(bias_arr,test_days*day_records_num,axis=0) #测试集天数*每天记录数\n",
    "min_arr=numpy.repeat(min_arr,test_days*day_records_num,axis=0)\n",
    "all_pred=c1.predict(test_model_in)\n",
    "pred=all_pred*bias_arr+min_arr\n",
    "gt=(test_model_out[0]*bias_arr+min_arr)\n",
    "mae_1=numpy.absolute(pred-gt)\n",
    "mape_1=mae_1/gt\n",
    "print(numpy.mean(mae_1))\n",
    "print(numpy.mean(mape_1))"
   ]
  },
  {
   "cell_type": "code",
   "execution_count": 30,
   "metadata": {},
   "outputs": [
    {
     "output_type": "execute_result",
     "data": {
      "text/plain": [
       "0.0936869440784286"
      ]
     },
     "metadata": {},
     "execution_count": 30
    }
   ],
   "source": [
    "numpy.mean(numpy.concatenate((mape_0,mape_1)))"
   ]
  },
  {
   "source": [
    "### log 2"
   ],
   "cell_type": "markdown",
   "metadata": {}
  },
  {
   "cell_type": "code",
   "execution_count": 8,
   "metadata": {},
   "outputs": [],
   "source": [
    "seg_max_min=[\r\n",
    "    [136.44, 69.0],\r\n",
    "[58.14, 29.0],\r\n",
    "# [68.03999999999999, 34.0],\r\n",
    "[90.0, 31.0],\r\n",
    "[134.46, 63.0],\r\n",
    "[102.06, 51.0],\r\n",
    "[136.44, 64.0]\r\n",
    "]"
   ]
  },
  {
   "cell_type": "code",
   "execution_count": 4,
   "metadata": {},
   "outputs": [],
   "source": [
    "# C:\\Users\\e-wel\\Documents\\Python Scripts\\DeepPF\\log_2\\/test.npy\n",
    "train=numpy.load(r'C:\\Users\\e-wel\\Documents\\Python Scripts\\DeepPF\\log_2\\/train.npy',allow_pickle=True).item()\n",
    "test=numpy.load(r'C:\\Users\\e-wel\\Documents\\Python Scripts\\DeepPF\\log_2\\/test.npy',allow_pickle=True).item()\n",
    "validate=numpy.load(r'C:\\Users\\e-wel\\Documents\\Python Scripts\\DeepPF\\log_2\\/validation.npy',allow_pickle=True).item()\n",
    "dw_train_0=numpy.load(r'C:\\Users\\e-wel\\Documents\\Python Scripts\\DeepPF\\log_1\\/train_day_of_week.npy',)\n",
    "dw_test_0=numpy.load(r'C:\\Users\\e-wel\\Documents\\Python Scripts\\DeepPF\\log_1\\/test_day_of_week.npy',)\n",
    "dw_validate_0=numpy.load(r'C:\\Users\\e-wel\\Documents\\Python Scripts\\DeepPF\\log_1\\/validate_day_of_week.npy',)\n",
    "ts=numpy.load(r'C:\\Users\\e-wel\\Documents\\Python Scripts\\DeepPF\\encoded_time_stamp.npy')"
   ]
  },
  {
   "cell_type": "code",
   "execution_count": 58,
   "metadata": {},
   "outputs": [],
   "source": [
    "train_in_c=[]\n",
    "train_in_d=[]\n",
    "train_out_c=[]\n",
    "test_in_c=[]\n",
    "test_in_d=[]\n",
    "test_out_c=[]\n",
    "validate_in_c=[]\n",
    "validate_in_d=[]\n",
    "validate_out_c=[]\n",
    "target_seg=[9,277]\n",
    "target_seg_len=len(target_seg)\n",
    "for seg in target_seg:#路段key\n",
    "    train_in_c+=( train[seg][0])\n",
    "    train_in_d+=( train[seg][1])\n",
    "    train_out_c+=( train[seg][2])\n",
    "    test_in_c+=(test[seg][0])\n",
    "    test_in_d+=(test[seg][1])\n",
    "    test_out_c+=(test[seg][2])\n",
    "    validate_in_c+=( validate[seg][0])\n",
    "    validate_in_d+=( validate[seg][1])\n",
    "    validate_out_c+=( validate[seg][2])"
   ]
  },
  {
   "cell_type": "code",
   "execution_count": 59,
   "metadata": {},
   "outputs": [],
   "source": [
    "\n",
    "##路段0+路段1+....\n",
    "# dw_train=numpy.repeat(dw_train_0,target_seg_len)#路段数\n",
    "# dw_test=numpy.repeat(dw_test_0,target_seg_len)\n",
    "dw_validate=[]\n",
    "for i in range(target_seg_len):\n",
    "    dw_validate=numpy.concatenate((dw_validate,dw_validate_0))\n",
    "dw_train=[]\n",
    "for i in range(target_seg_len):\n",
    "    dw_train=numpy.concatenate((dw_train,dw_train_0))\n",
    "dw_test=[]\n",
    "for i in range(target_seg_len):\n",
    "    dw_test=numpy.concatenate((dw_test,dw_test_0))\n",
    "ts_train_0=[]\n",
    "for i in range(28):\n",
    "    ts_train_0=numpy.concatenate((ts_train_0,ts[:176]))\n",
    "ts_test_0=[]\n",
    "for i in range(7):\n",
    "    ts_test_0=numpy.concatenate((ts_test_0,ts[:176]))\n",
    "ts_validate_0=[]\n",
    "for i in range(7):\n",
    "    ts_validate_0=numpy.concatenate((ts_validate_0,ts[:176]))\n",
    "ts_train=[]\n",
    "for i in range(target_seg_len):\n",
    "    ts_train=numpy.concatenate((ts_train,ts_train_0))\n",
    "ts_test=[]\n",
    "for i in range(target_seg_len):\n",
    "    ts_test=numpy.concatenate((ts_test,ts_test_0))\n",
    "ts_validate=[]\n",
    "for i in range(target_seg_len):\n",
    "    ts_validate=numpy.concatenate((ts_validate,ts_validate_0))\n",
    "\n"
   ]
  },
  {
   "cell_type": "code",
   "execution_count": 60,
   "metadata": {},
   "outputs": [],
   "source": [
    "train_in_c=numpy.array(train_in_c)\n",
    "train_in_d=numpy.array(train_in_d)\n",
    "train_out_c=numpy.array(train_out_c)\n",
    "\n",
    "test_in_c=numpy.array(test_in_c)\n",
    "test_in_d=numpy.array(test_in_d)\n",
    "test_out_c=numpy.array(test_out_c)\n",
    "\n",
    "validate_in_c=numpy.array(validate_in_c)\n",
    "validate_in_d=numpy.array(validate_in_d)\n",
    "validate_out_c=numpy.array(validate_out_c)\n",
    "\n",
    "train_in_c=train_in_c.reshape(train_in_c.shape[0],4,1)\n",
    "train_in_d=train_in_d.reshape(train_in_d.shape[0],4,1)\n",
    "train_out_c=train_out_c.reshape(train_out_c.shape[0],1)\n",
    "\n",
    "test_in_c=test_in_c.reshape(test_in_c.shape[0],4,1)\n",
    "test_in_d=test_in_d.reshape(test_in_d.shape[0],4,1)\n",
    "test_out_c=test_out_c.reshape(test_out_c.shape[0],1)\n",
    "\n",
    "validate_in_c=validate_in_c.reshape(validate_in_c.shape[0],4,1)\n",
    "validate_in_d=validate_in_d.reshape(validate_in_d.shape[0],4,1)\n",
    "validate_out_c=validate_out_c.reshape(validate_out_c.shape[0],1)\n",
    "\n",
    "ts_train=ts_train.reshape(ts_train.shape[0],1)\n",
    "ts_test=ts_test.reshape(ts_test.shape[0],1)\n",
    "ts_validate=ts_validate.reshape(ts_validate.shape[0],1)\n",
    "\n",
    "dw_test=dw_test.reshape(dw_test.shape[0],1)\n",
    "dw_train=dw_train.reshape(dw_train.shape[0],1)\n",
    "dw_validate=dw_validate.reshape(dw_validate.shape[0],1)\n",
    "\n",
    "ts_train=ts_train.reshape(ts_train.shape[0],1)\n",
    "ts_test=ts_test.reshape(ts_test.shape[0],1)\n",
    "ts_validate=ts_validate.reshape(ts_validate.shape[0],1)\n",
    "\n",
    "dw_test=dw_test.reshape(dw_test.shape[0],1)\n",
    "dw_train=dw_train.reshape(dw_train.shape[0],1)\n",
    "dw_validate=dw_validate.reshape(dw_validate.shape[0],1)\n",
    "\n",
    "model_in=[train_in_c,train_in_d,dw_train,ts_train]\n",
    "model_out=[train_out_c]\n",
    "test_model_in=[test_in_c,test_in_d,dw_test,ts_test]\n",
    "test_model_out=[test_out_c]\n",
    "validate_model_in=[validate_in_c,validate_in_d,dw_validate,ts_validate]\n",
    "validate_model_out=[validate_out_c]"
   ]
  },
  {
   "cell_type": "code",
   "execution_count": 36,
   "metadata": {},
   "outputs": [],
   "source": [
    "#cluster中元素对应的index\n",
    "valid_index=[i for i in range(6)]\n",
    "max_arr=numpy.array([ [seg_max_min[i][0]] for i in valid_index])\n",
    "min_arr=numpy.array([[seg_max_min[i][1]] for i in valid_index])\n",
    "bias_arr=max_arr-min_arr\n",
    "bias_arr=numpy.repeat(bias_arr,7*176,axis=0) #测试集天数*每天记录数\n",
    "min_arr=numpy.repeat(min_arr,7*176,axis=0)"
   ]
  },
  {
   "cell_type": "code",
   "execution_count": 39,
   "metadata": {},
   "outputs": [
    {
     "output_type": "stream",
     "name": "stdout",
     "text": [
      "0.09170164807504778\n"
     ]
    }
   ],
   "source": [
    "all_pred=c.predict(test_model_in)\n",
    "pred=all_pred*bias_arr+min_arr\n",
    "gt=(numpy.array(test_model_out[0])*bias_arr+min_arr)\n",
    "tmp=numpy.absolute(pred-gt)/gt\n",
    "print(numpy.mean(tmp))\n",
    "# sum_mape=numpy.concatenate((sum_mape,tmp),axis=0)"
   ]
  },
  {
   "cell_type": "code",
   "execution_count": 51,
   "metadata": {},
   "outputs": [],
   "source": [
    "#cluster中元素对应的index\n",
    "valid_index=[1,2,3,4]\n",
    "max_arr=numpy.array([ [seg_max_min[i][0]] for i in valid_index])\n",
    "min_arr=numpy.array([[seg_max_min[i][1]] for i in valid_index])\n",
    "bias_arr=max_arr-min_arr\n",
    "bias_arr=numpy.repeat(bias_arr,7*176,axis=0) #测试集天数*每天记录数\n",
    "min_arr=numpy.repeat(min_arr,7*176,axis=0)"
   ]
  },
  {
   "cell_type": "code",
   "execution_count": 57,
   "metadata": {},
   "outputs": [
    {
     "output_type": "stream",
     "name": "stdout",
     "text": [
      "0.08745809322326148\n"
     ]
    }
   ],
   "source": [
    "pred=c1.predict(test_model_in)\n",
    "pred=pred*bias_arr+min_arr\n",
    "gt=(numpy.array(test_model_out[0])*bias_arr+min_arr)\n",
    "tmp=numpy.absolute(pred-gt)/gt\n",
    "print(numpy.mean(tmp))\n",
    "sum_mape=tmp\n",
    "# sum_mape=numpy.concatenate((sum_mape,tmp))"
   ]
  },
  {
   "cell_type": "code",
   "execution_count": 61,
   "metadata": {},
   "outputs": [],
   "source": [
    "#cluster中元素对应的index\n",
    "valid_index=[0,5]\n",
    "max_arr=numpy.array([ [seg_max_min[i][0]] for i in valid_index])\n",
    "min_arr=numpy.array([[seg_max_min[i][1]] for i in valid_index])\n",
    "bias_arr=max_arr-min_arr\n",
    "bias_arr=numpy.repeat(bias_arr,7*176,axis=0) #测试集天数*每天记录数\n",
    "min_arr=numpy.repeat(min_arr,7*176,axis=0)"
   ]
  },
  {
   "cell_type": "code",
   "execution_count": 62,
   "metadata": {},
   "outputs": [
    {
     "output_type": "stream",
     "name": "stdout",
     "text": [
      "0.0881868456389677\n"
     ]
    }
   ],
   "source": [
    "pred=c0.predict(test_model_in)\n",
    "pred=pred*bias_arr+min_arr\n",
    "gt=(numpy.array(test_model_out[0])*bias_arr+min_arr)\n",
    "tmp=numpy.absolute(pred-gt)/gt\n",
    "print(numpy.mean(tmp))\n",
    "sum_mape=numpy.concatenate((sum_mape,tmp))\n",
    "# sum_mape=tmp"
   ]
  },
  {
   "cell_type": "code",
   "execution_count": 63,
   "metadata": {},
   "outputs": [
    {
     "output_type": "execute_result",
     "data": {
      "text/plain": [
       "0.08770101069516356"
      ]
     },
     "metadata": {},
     "execution_count": 63
    }
   ],
   "source": [
    "numpy.mean(sum_mape)"
   ]
  }
 ]
}