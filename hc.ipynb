{
 "metadata": {
  "language_info": {
   "codemirror_mode": {
    "name": "ipython",
    "version": 3
   },
   "file_extension": ".py",
   "mimetype": "text/x-python",
   "name": "python",
   "nbconvert_exporter": "python",
   "pygments_lexer": "ipython3",
   "version": "3.7.2"
  },
  "orig_nbformat": 2,
  "kernelspec": {
   "name": "python372jvsc74a57bd0be0b56fde7ab4dd5a7b857b05c420f1624be72fede588761e7b5d962331e4a2a",
   "display_name": "Python 3.7.2 64-bit ('venv_ids': venv)"
  },
  "metadata": {
   "interpreter": {
    "hash": "be0b56fde7ab4dd5a7b857b05c420f1624be72fede588761e7b5d962331e4a2a"
   }
  }
 },
 "nbformat": 4,
 "nbformat_minor": 2,
 "cells": [
  {
   "cell_type": "code",
   "execution_count": 1,
   "metadata": {},
   "outputs": [],
   "source": [
    "import numpy\n",
    "import matplotlib.pyplot as plt\n",
    "import time"
   ]
  },
  {
   "cell_type": "code",
   "execution_count": 2,
   "metadata": {},
   "outputs": [],
   "source": [
    "from utils import clustering # cluster_mean为自定义库，包含SFHC、层次聚类算法的函数"
   ]
  },
  {
   "source": [
    "## 聚类输入"
   ],
   "cell_type": "markdown",
   "metadata": {}
  },
  {
   "cell_type": "code",
   "execution_count": null,
   "metadata": {},
   "outputs": [],
   "source": [
    "max_min_time={5: [119.05935933078378, 33.349999999999994],\n",
    " 3: [139.5, 46.0],\n",
    " 43: [85.4417573918544, 23.0],\n",
    " 44: [42.90484734256568, 23.0],\n",
    " 46: [123.25, 38.0],\n",
    " 138: [199.10377691912151, 72.39134340165585],\n",
    " 34: [98.13854500484459, 25.0],\n",
    " 32: [254.5, 47.0],\n",
    " 297: [133.24436954846146, 44.0],\n",
    " 316: [183.13197969543145, 36.0],\n",
    " 59: [90.01347911474551, 46.0],\n",
    " 71: [104.96755728211456, 40.0],\n",
    " 57: [284.0, 50.0],\n",
    " 55: [107.75, 27.0],\n",
    " 153: [180.25, 48.0],\n",
    " 152: [172.22564912405616, 68.0],\n",
    " 221: [141.19167274271376, 71.0],\n",
    " 385: [168.75, 68.0],\n",
    " 42: [104.48327849376622, 34.0],\n",
    "  139: [117.25, 36.0]}"
   ]
  },
  {
   "cell_type": "code",
   "execution_count": 3,
   "metadata": {},
   "outputs": [],
   "source": [
    "info=numpy.load(r'路段信息_简略.npy',allow_pickle=True).item()"
   ]
  },
  {
   "cell_type": "code",
   "execution_count": 4,
   "metadata": {},
   "outputs": [],
   "source": [
    "mean_mat=numpy.load(r'mean_mat.npy',allow_pickle=True).item()#记录了各路段每时刻在训练集的40天中的平均旅行时间"
   ]
  },
  {
   "cell_type": "code",
   "execution_count": null,
   "metadata": {},
   "outputs": [],
   "source": [
    "# K均值聚类输入\n",
    "test=list(mean_mat_norm.values())\n",
    "from sklearn.cluster import KMeans\n",
    "import time\n",
    "start=time.time()\n",
    "kmeans = KMeans(n_clusters=8, random_state=0).fit(data)\n",
    "end=time.time()\n",
    "print(end-start)\n",
    "kmeans.labels_"
   ]
  },
  {
   "cell_type": "code",
   "execution_count": null,
   "metadata": {},
   "outputs": [],
   "source": [
    "segs=[139,316,46,47,138,33,34,45,246,385,42,37,41,43,44,152]\n",
    "clusters=[6, 5, 7, 7, 7, 1, 0, 5, 3, 4, 0, 2, 6, 2, 7, 0]\n",
    "cluster_dict={}\n",
    "for index,seg in enumerate(segs):\n",
    "    if clusters[index] not in cluster_dict:\n",
    "        cluster_dict[clusters[index]]=[]\n",
    "    cluster_dict[clusters[index]].append(seg)\n",
    "# cluster_dict\n",
    "print(list(cluster_dict.values()))"
   ]
  },
  {
   "source": [
    "谱聚类"
   ],
   "cell_type": "markdown",
   "metadata": {}
  },
  {
   "cell_type": "code",
   "execution_count": null,
   "metadata": {},
   "outputs": [],
   "source": [
    "X=clustering.dump(mean_mat)#导出谱聚类的affinity matrix"
   ]
  },
  {
   "cell_type": "code",
   "execution_count": null,
   "metadata": {},
   "outputs": [],
   "source": [
    "from sklearn.cluster import SpectralClustering\n",
    "clustering = SpectralClustering(n_clusters=8,\n",
    "                                 assign_labels='discretize',\n",
    "                                 random_state=0,\n",
    "                                 affinity='precomputed',verbose=True).fit(X)\n",
    "clustering.labels_"
   ]
  },
  {
   "cell_type": "code",
   "execution_count": null,
   "metadata": {},
   "outputs": [],
   "source": [
    "segs=[139,316,46,47,138,33,34,45,246,385,42,37,41,43,44,152]\n",
    "clusters=[4, 2, 0, 0, 1, 1, 2, 1, 7, 3, 6, 4, 6, 5, 6, 5]\n",
    "cluster_dict={}\n",
    "for index,seg in enumerate(segs):\n",
    "    if clusters[index] not in cluster_dict:\n",
    "        cluster_dict[clusters[index]]=[]\n",
    "    cluster_dict[clusters[index]].append(seg)\n",
    "print(list(cluster_dict.values()))"
   ]
  },
  {
   "source": [
    "SFHC(自定义层次聚类)和传统层次聚类"
   ],
   "cell_type": "markdown",
   "metadata": {}
  },
  {
   "cell_type": "code",
   "execution_count": null,
   "metadata": {},
   "outputs": [],
   "source": [
    "mean_mat_norm={} #进行最大-最小值归一化，从而获得更明显的旅行时间变化趋势\n",
    "for seg in mean_mat:\n",
    "    max_val=max(mean_mat[seg])\n",
    "    min_val=min(mean_mat[seg])\n",
    "    min_arr=numpy.array([min_val for i in range(len(mean_mat[55]))])\n",
    "    mean_mat_norm[seg]=list(numpy.around((mean_mat[seg]-min_arr)/(max_val-min_val),2))"
   ]
  },
  {
   "cell_type": "code",
   "execution_count": 6,
   "metadata": {},
   "outputs": [],
   "source": [
    "mean_mat_slot_20={}\n",
    "for seg in mean_mat:\n",
    "    new_record=[numpy.around(numpy.mean(mean_mat[seg][i*4:(i+1)*4]),2) for i in range(len(mean_mat[43])//4)]\n",
    "    mean_mat_slot_20[seg]=new_record"
   ]
  },
  {
   "cell_type": "code",
   "execution_count": 7,
   "metadata": {},
   "outputs": [],
   "source": [
    "mean_mat_slot_20_norm={}\n",
    "for seg in mean_mat_slot_20:\n",
    "    max_val=max(mean_mat_slot_20[seg])\n",
    "    min_val=min(mean_mat_slot_20[seg])\n",
    "    min_arr=numpy.array([min_val for i in range(len(mean_mat[43])//4)])\n",
    "    mean_mat_slot_20_norm[seg]=list(numpy.around((mean_mat_slot_20[seg]-min_arr)/(max_val-min_val),2))"
   ]
  },
  {
   "cell_type": "code",
   "execution_count": null,
   "metadata": {},
   "outputs": [],
   "source": [
    "start=time.time()\n",
    "clustering.hierarchical(mean_mat,linkage=1,method=0,threshold=0.65)\n",
    "end=time.time()\n",
    "end-start"
   ]
  },
  {
   "cell_type": "code",
   "execution_count": null,
   "metadata": {},
   "outputs": [],
   "source": [
    "start=time.time()\n",
    "clustering.sfhc(mean_mat,linkage=1,threshold=0.65)\n",
    "end=time.time()\n",
    "end-start"
   ]
  },
  {
   "cell_type": "code",
   "execution_count": null,
   "metadata": {},
   "outputs": [],
   "source": [
    "plt.rcParams['figure.figsize']=(10,5)\n",
    "plt.rcParams['font.sans-serif']=['Microsoft YaHei','SimHei']\n",
    "for index,cluster in enumerate([[5, 3, 71, 57],[43, 297, 153, 152, 221, 42],[44, 46, 139, 59],[138],[34],[32],[55],[385]]):\n",
    "    for seg in cluster:\n",
    "        plt.plot([i for i in range(44)],mean_mat_slot_20_norm[seg],label=info[str(seg)][0])\n",
    "        plt.xlabel('时间')\n",
    "        plt.ylabel('归一化的行程时间')\n",
    "    plt.legend()\n",
    "    plt.show()"
   ]
  },
  {
   "source": [
    "# 自动构建邻接表（待完成）"
   ],
   "cell_type": "markdown",
   "metadata": {}
  },
  {
   "cell_type": "code",
   "execution_count": null,
   "metadata": {},
   "outputs": [],
   "source": [
    "basic_info={'adj':[],'body':'','start':'','end':''}\n",
    "geo_info={}\n",
    "segs=[5, 3, 43, 44, 46, 138, 34, 32, 297, 316, 59, 71, 57, 55, 153, 152, 221, 385, 42, 139]\n",
    "for seg in segs:\n",
    "    geo=info[str(seg)][0]\n",
    "    geo=geo.replace('（',' ').replace('）',' ').replace('-',' ')\n",
    "    geo=geo.split(' ')\n",
    "    geo_info[seg]=basic_info\n",
    "    geo_info[seg]['body']=geo[0]\n",
    "    geo_info[seg]['start']=geo[1]\n",
    "    geo_info[seg]['end']=geo[2]\n",
    "for seg in segs:\n",
    "    target=geo_info[seg]\n",
    "    for each in segs:\n",
    "        test=geo_info[each]\n",
    "        if target['end'][:-2]==test['body'][:-2]:\n",
    "            if target['body'][:-2]==test['start'][:-2]:\n",
    "                target['adj'].append(each)\n",
    "    geo_info[seg]=target"
   ]
  },
  {
   "cell_type": "code",
   "execution_count": null,
   "metadata": {},
   "outputs": [],
   "source": [
    "list_1=[[5, 3, 43, 44, 46, 34, 32, 297, 59, 71, 57, 55, 153, 152, 221, 42], [138], [139], [385]]\n",
    "list_1_set=[set(i) for i in list_1]\n",
    "list_2=[[5, 3, 43, 34, 32, 297, 59, 71, 57, 55, 153, 152, 221, 42], [44, 46, 139], [138], [385]]\n",
    "list_2_set=[set(i) for i in list_2]\n",
    "for each in list_1_set:\n",
    "    if each not in list_2_set:\n",
    "        print('not matched')\n",
    "        exit(0)"
   ]
  }
 ]
}